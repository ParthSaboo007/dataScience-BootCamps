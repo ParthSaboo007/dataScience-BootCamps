{
  "nbformat": 4,
  "nbformat_minor": 0,
  "metadata": {
    "colab": {
      "name": "Hackathon.ipynb",
      "provenance": [],
      "collapsed_sections": []
    },
    "kernelspec": {
      "name": "python3",
      "display_name": "Python 3"
    },
    "language_info": {
      "name": "python"
    }
  },
  "cells": [
    {
      "cell_type": "code",
      "metadata": {
        "colab": {
          "resources": {
            "http://localhost:8080/nbextensions/google.colab/files.js": {
              "data": "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",
              "ok": true,
              "headers": [
                [
                  "content-type",
                  "application/javascript"
                ]
              ],
              "status": 200,
              "status_text": ""
            }
          },
          "base_uri": "https://localhost:8080/",
          "height": 108
        },
        "id": "azvGdHLdCEsV",
        "outputId": "140d6bcb-4f94-4027-9eeb-477d5784510c"
      },
      "source": [
        "from google.colab import files\n",
        "uploaded = files.upload()"
      ],
      "execution_count": null,
      "outputs": [
        {
          "output_type": "display_data",
          "data": {
            "text/html": [
              "\n",
              "     <input type=\"file\" id=\"files-afcd6781-e137-4d3f-a90b-91bf5d2475bd\" name=\"files[]\" multiple disabled\n",
              "        style=\"border:none\" />\n",
              "     <output id=\"result-afcd6781-e137-4d3f-a90b-91bf5d2475bd\">\n",
              "      Upload widget is only available when the cell has been executed in the\n",
              "      current browser session. Please rerun this cell to enable.\n",
              "      </output>\n",
              "      <script src=\"/nbextensions/google.colab/files.js\"></script> "
            ],
            "text/plain": [
              "<IPython.core.display.HTML object>"
            ]
          },
          "metadata": {
            "tags": []
          }
        },
        {
          "output_type": "stream",
          "text": [
            "Saving Test_Data.csv to Test_Data.csv\n",
            "Saving Train_Data.csv to Train_Data.csv\n"
          ],
          "name": "stdout"
        }
      ]
    },
    {
      "cell_type": "code",
      "metadata": {
        "id": "XdQf7HnSCwlQ",
        "colab": {
          "base_uri": "https://localhost:8080/"
        },
        "outputId": "2357c9ec-0884-4b1c-be03-128ba48375e2"
      },
      "source": [
        "import pandas as pd\n",
        "import numpy as np\n",
        "import matplotlib.pyplot as plt\n",
        "\n",
        "import seaborn as sns\n",
        "import os\n",
        "os.getcwd()\n",
        "os.listdir(os.getcwd())"
      ],
      "execution_count": null,
      "outputs": [
        {
          "output_type": "execute_result",
          "data": {
            "text/plain": [
              "['.config', 'Train_Data.csv', 'Test_Data.csv', 'sample_data']"
            ]
          },
          "metadata": {
            "tags": []
          },
          "execution_count": 2
        }
      ]
    },
    {
      "cell_type": "code",
      "metadata": {
        "id": "JF5Y8goaCxsB"
      },
      "source": [
        "df = pd.read_csv('Train_Data.csv')\n",
        "df['ctr'] = (df.clicks)/df.impressions\n",
        "df['cpc'] = df.cost/df.clicks\n",
        "df['cpa'] = df.cost/df.conversions"
      ],
      "execution_count": null,
      "outputs": []
    },
    {
      "cell_type": "code",
      "metadata": {
        "colab": {
          "base_uri": "https://localhost:8080/"
        },
        "id": "13BPzJnZuoxL",
        "outputId": "44cb9143-3ef0-473d-96b7-f4d12c005e21"
      },
      "source": [
        "df.info()"
      ],
      "execution_count": null,
      "outputs": [
        {
          "output_type": "stream",
          "text": [
            "<class 'pandas.core.frame.DataFrame'>\n",
            "RangeIndex: 4571 entries, 0 to 4570\n",
            "Data columns (total 12 columns):\n",
            " #   Column       Non-Null Count  Dtype  \n",
            "---  ------       --------------  -----  \n",
            " 0   date         4571 non-null   object \n",
            " 1   campaign     4571 non-null   object \n",
            " 2   adgroup      4571 non-null   object \n",
            " 3   ad           4571 non-null   object \n",
            " 4   impressions  4571 non-null   int64  \n",
            " 5   clicks       4571 non-null   int64  \n",
            " 6   cost         4571 non-null   float64\n",
            " 7   conversions  4571 non-null   int64  \n",
            " 8   revenue      4571 non-null   float64\n",
            " 9   ctr          4571 non-null   float64\n",
            " 10  cpc          4127 non-null   float64\n",
            " 11  cpa          4127 non-null   float64\n",
            "dtypes: float64(5), int64(3), object(4)\n",
            "memory usage: 428.7+ KB\n"
          ],
          "name": "stdout"
        }
      ]
    },
    {
      "cell_type": "code",
      "metadata": {
        "id": "_Kotu6YHua3G"
      },
      "source": [
        "# Converting timestamp into day, month training data set\n",
        "\n",
        "df['date'] = pd.to_datetime(df['date'])\n",
        "\n",
        "df['Month'] = df['date'].dt.month\n",
        "df['Day of the month'] = df['date'].dt.day\n",
        "df['Year'] = df['date'].dt.year\n",
        "\n",
        "df = df.drop(['date'], axis=1)\n"
      ],
      "execution_count": null,
      "outputs": []
    },
    {
      "cell_type": "code",
      "metadata": {
        "colab": {
          "base_uri": "https://localhost:8080/",
          "height": 418
        },
        "id": "XgoDbZb9xdv7",
        "outputId": "85162429-581d-475c-eb20-287db49ef878"
      },
      "source": [
        "# Converting timestamp into day, month testing data set\n",
        "\n",
        "pf['date'] = pd.to_datetime(pf['date'])\n",
        "\n",
        "pf['Month'] = pf['date'].dt.month\n",
        "pf['Day of the month'] = pf['date'].dt.day\n",
        "pf['Year'] = pf['date'].dt.year\n",
        "\n",
        "pf = pf.drop(['date'], axis=1)\n",
        "pf\n",
        "\n"
      ],
      "execution_count": null,
      "outputs": [
        {
          "output_type": "execute_result",
          "data": {
            "text/html": [
              "<div>\n",
              "<style scoped>\n",
              "    .dataframe tbody tr th:only-of-type {\n",
              "        vertical-align: middle;\n",
              "    }\n",
              "\n",
              "    .dataframe tbody tr th {\n",
              "        vertical-align: top;\n",
              "    }\n",
              "\n",
              "    .dataframe thead th {\n",
              "        text-align: right;\n",
              "    }\n",
              "</style>\n",
              "<table border=\"1\" class=\"dataframe\">\n",
              "  <thead>\n",
              "    <tr style=\"text-align: right;\">\n",
              "      <th></th>\n",
              "      <th>campaign</th>\n",
              "      <th>adgroup</th>\n",
              "      <th>ad</th>\n",
              "      <th>cost</th>\n",
              "      <th>impressions</th>\n",
              "      <th>clicks</th>\n",
              "      <th>conversions</th>\n",
              "      <th>ctr</th>\n",
              "      <th>cpc</th>\n",
              "      <th>cpa</th>\n",
              "      <th>Month</th>\n",
              "      <th>Day of the month</th>\n",
              "    </tr>\n",
              "  </thead>\n",
              "  <tbody>\n",
              "    <tr>\n",
              "      <th>0</th>\n",
              "      <td>campaign 1</td>\n",
              "      <td>adgroup 1</td>\n",
              "      <td>ad 1</td>\n",
              "      <td>0.58</td>\n",
              "      <td>121</td>\n",
              "      <td>49</td>\n",
              "      <td>1</td>\n",
              "      <td>0.404959</td>\n",
              "      <td>0.011837</td>\n",
              "      <td>0.580000</td>\n",
              "      <td>1</td>\n",
              "      <td>3</td>\n",
              "    </tr>\n",
              "    <tr>\n",
              "      <th>1</th>\n",
              "      <td>campaign 1</td>\n",
              "      <td>adgroup 3</td>\n",
              "      <td>ad 1</td>\n",
              "      <td>0.17</td>\n",
              "      <td>22</td>\n",
              "      <td>12</td>\n",
              "      <td>0</td>\n",
              "      <td>0.545455</td>\n",
              "      <td>0.014167</td>\n",
              "      <td>0.356667</td>\n",
              "      <td>1</td>\n",
              "      <td>3</td>\n",
              "    </tr>\n",
              "    <tr>\n",
              "      <th>2</th>\n",
              "      <td>campaign 1</td>\n",
              "      <td>adgroup 4</td>\n",
              "      <td>ad 1</td>\n",
              "      <td>0.05</td>\n",
              "      <td>5</td>\n",
              "      <td>3</td>\n",
              "      <td>0</td>\n",
              "      <td>0.600000</td>\n",
              "      <td>0.016667</td>\n",
              "      <td>0.356667</td>\n",
              "      <td>1</td>\n",
              "      <td>3</td>\n",
              "    </tr>\n",
              "    <tr>\n",
              "      <th>3</th>\n",
              "      <td>campaign 1</td>\n",
              "      <td>adgroup 2</td>\n",
              "      <td>ad 1</td>\n",
              "      <td>0.01</td>\n",
              "      <td>2</td>\n",
              "      <td>1</td>\n",
              "      <td>0</td>\n",
              "      <td>0.500000</td>\n",
              "      <td>0.010000</td>\n",
              "      <td>0.356667</td>\n",
              "      <td>1</td>\n",
              "      <td>3</td>\n",
              "    </tr>\n",
              "    <tr>\n",
              "      <th>4</th>\n",
              "      <td>campaign 1</td>\n",
              "      <td>adgroup 2</td>\n",
              "      <td>ad 2</td>\n",
              "      <td>0.01</td>\n",
              "      <td>3</td>\n",
              "      <td>1</td>\n",
              "      <td>0</td>\n",
              "      <td>0.333333</td>\n",
              "      <td>0.010000</td>\n",
              "      <td>0.356667</td>\n",
              "      <td>1</td>\n",
              "      <td>3</td>\n",
              "    </tr>\n",
              "    <tr>\n",
              "      <th>...</th>\n",
              "      <td>...</td>\n",
              "      <td>...</td>\n",
              "      <td>...</td>\n",
              "      <td>...</td>\n",
              "      <td>...</td>\n",
              "      <td>...</td>\n",
              "      <td>...</td>\n",
              "      <td>...</td>\n",
              "      <td>...</td>\n",
              "      <td>...</td>\n",
              "      <td>...</td>\n",
              "      <td>...</td>\n",
              "    </tr>\n",
              "    <tr>\n",
              "      <th>313</th>\n",
              "      <td>campaign 1</td>\n",
              "      <td>adgroup 4</td>\n",
              "      <td>ad 55</td>\n",
              "      <td>0.01</td>\n",
              "      <td>1</td>\n",
              "      <td>1</td>\n",
              "      <td>0</td>\n",
              "      <td>1.000000</td>\n",
              "      <td>0.010000</td>\n",
              "      <td>0.356667</td>\n",
              "      <td>3</td>\n",
              "      <td>15</td>\n",
              "    </tr>\n",
              "    <tr>\n",
              "      <th>314</th>\n",
              "      <td>campaign 1</td>\n",
              "      <td>adgroup 3</td>\n",
              "      <td>ad 55</td>\n",
              "      <td>0.01</td>\n",
              "      <td>5</td>\n",
              "      <td>1</td>\n",
              "      <td>0</td>\n",
              "      <td>0.200000</td>\n",
              "      <td>0.010000</td>\n",
              "      <td>0.356667</td>\n",
              "      <td>3</td>\n",
              "      <td>15</td>\n",
              "    </tr>\n",
              "    <tr>\n",
              "      <th>315</th>\n",
              "      <td>campaign 1</td>\n",
              "      <td>adgroup 1</td>\n",
              "      <td>ad 55</td>\n",
              "      <td>0.14</td>\n",
              "      <td>25</td>\n",
              "      <td>11</td>\n",
              "      <td>0</td>\n",
              "      <td>0.440000</td>\n",
              "      <td>0.012727</td>\n",
              "      <td>0.356667</td>\n",
              "      <td>3</td>\n",
              "      <td>15</td>\n",
              "    </tr>\n",
              "    <tr>\n",
              "      <th>316</th>\n",
              "      <td>campaign 1</td>\n",
              "      <td>adgroup 3</td>\n",
              "      <td>ad 56</td>\n",
              "      <td>0.06</td>\n",
              "      <td>9</td>\n",
              "      <td>4</td>\n",
              "      <td>0</td>\n",
              "      <td>0.444444</td>\n",
              "      <td>0.015000</td>\n",
              "      <td>0.356667</td>\n",
              "      <td>3</td>\n",
              "      <td>15</td>\n",
              "    </tr>\n",
              "    <tr>\n",
              "      <th>317</th>\n",
              "      <td>campaign 1</td>\n",
              "      <td>adgroup 1</td>\n",
              "      <td>ad 56</td>\n",
              "      <td>0.33</td>\n",
              "      <td>67</td>\n",
              "      <td>27</td>\n",
              "      <td>1</td>\n",
              "      <td>0.402985</td>\n",
              "      <td>0.012222</td>\n",
              "      <td>0.330000</td>\n",
              "      <td>3</td>\n",
              "      <td>15</td>\n",
              "    </tr>\n",
              "  </tbody>\n",
              "</table>\n",
              "<p>318 rows × 12 columns</p>\n",
              "</div>"
            ],
            "text/plain": [
              "       campaign    adgroup     ad  ...       cpa  Month  Day of the month\n",
              "0    campaign 1  adgroup 1   ad 1  ...  0.580000      1                 3\n",
              "1    campaign 1  adgroup 3   ad 1  ...  0.356667      1                 3\n",
              "2    campaign 1  adgroup 4   ad 1  ...  0.356667      1                 3\n",
              "3    campaign 1  adgroup 2   ad 1  ...  0.356667      1                 3\n",
              "4    campaign 1  adgroup 2   ad 2  ...  0.356667      1                 3\n",
              "..          ...        ...    ...  ...       ...    ...               ...\n",
              "313  campaign 1  adgroup 4  ad 55  ...  0.356667      3                15\n",
              "314  campaign 1  adgroup 3  ad 55  ...  0.356667      3                15\n",
              "315  campaign 1  adgroup 1  ad 55  ...  0.356667      3                15\n",
              "316  campaign 1  adgroup 3  ad 56  ...  0.356667      3                15\n",
              "317  campaign 1  adgroup 1  ad 56  ...  0.330000      3                15\n",
              "\n",
              "[318 rows x 12 columns]"
            ]
          },
          "metadata": {
            "tags": []
          },
          "execution_count": 104
        }
      ]
    },
    {
      "cell_type": "markdown",
      "metadata": {
        "id": "LYIYsYdzAIar"
      },
      "source": [
        "BEst possible achievable by std. scaler training & test data including raw metrics+hot_encoded_adgrp and applying RandForestRegg(rstate=1)\n"
      ]
    },
    {
      "cell_type": "code",
      "metadata": {
        "id": "RsZkgoyOC5DK",
        "colab": {
          "base_uri": "https://localhost:8080/"
        },
        "outputId": "a3f774ee-194b-4896-c1aa-b5919b70e1d0"
      },
      "source": [
        "pf.columns"
      ],
      "execution_count": null,
      "outputs": [
        {
          "output_type": "execute_result",
          "data": {
            "text/plain": [
              "Index(['campaign', 'adgroup', 'ad', 'cost', 'impressions', 'clicks',\n",
              "       'conversions', 'ctr', 'cpc', 'cpa', 'Month', 'Day of the month'],\n",
              "      dtype='object')"
            ]
          },
          "metadata": {
            "tags": []
          },
          "execution_count": 105
        }
      ]
    },
    {
      "cell_type": "code",
      "metadata": {
        "colab": {
          "base_uri": "https://localhost:8080/",
          "height": 613
        },
        "id": "LKJ8UN4Qj00S",
        "outputId": "41c00f37-80ca-464d-abd3-2591cf69b654"
      },
      "source": [
        "# Target variable analysis , normal plot \n",
        "from scipy import stats\n",
        "from scipy.stats import norm\n",
        "\n",
        "sns.distplot(df['revenue'], fit=norm);\n",
        "fig = plt.figure()\n",
        "res = stats.probplot(df['revenue'], plot=plt)"
      ],
      "execution_count": null,
      "outputs": [
        {
          "output_type": "stream",
          "text": [
            "/usr/local/lib/python3.7/dist-packages/seaborn/distributions.py:2557: FutureWarning: `distplot` is a deprecated function and will be removed in a future version. Please adapt your code to use either `displot` (a figure-level function with similar flexibility) or `histplot` (an axes-level function for histograms).\n",
            "  warnings.warn(msg, FutureWarning)\n"
          ],
          "name": "stderr"
        },
        {
          "output_type": "display_data",
          "data": {
            "image/png": "[encoded data removed]",
            "text/plain": [
              "<Figure size 432x288 with 1 Axes>"
            ]
          },
          "metadata": {
            "tags": [],
            "needs_background": "light"
          }
        },
        {
          "output_type": "display_data",
          "data": {
            "image/png": "[encoded data removed]",
            "text/plain": [
              "<Figure size 432x288 with 1 Axes>"
            ]
          },
          "metadata": {
            "tags": [],
            "needs_background": "light"
          }
        }
      ]
    },
    {
      "cell_type": "code",
      "metadata": {
        "colab": {
          "base_uri": "https://localhost:8080/",
          "height": 610
        },
        "id": "jIKmcwkMGFMG",
        "outputId": "c9a25532-7c25-4396-b1bc-232824ed57bc"
      },
      "source": [
        "df['impressions'] = np.log(df.impressions)\n",
        "sns.distplot(df['impressions'], fit=norm);\n",
        "fig = plt.figure()\n",
        "res = stats.probplot(df['impressions'], plot=plt)\n"
      ],
      "execution_count": null,
      "outputs": [
        {
          "output_type": "stream",
          "text": [
            "/usr/local/lib/python3.7/dist-packages/seaborn/distributions.py:2557: FutureWarning: `distplot` is a deprecated function and will be removed in a future version. Please adapt your code to use either `displot` (a figure-level function with similar flexibility) or `histplot` (an axes-level function for histograms).\n",
            "  warnings.warn(msg, FutureWarning)\n"
          ],
          "name": "stderr"
        },
        {
          "output_type": "display_data",
          "data": {
            "image/png": "[encoded data removed]",
            "text/plain": [
              "<Figure size 432x288 with 1 Axes>"
            ]
          },
          "metadata": {
            "tags": [],
            "needs_background": "light"
          }
        },
        {
          "output_type": "display_data",
          "data": {
            "image/png": "[encoded data removed]",
            "text/plain": [
              "<Figure size 432x288 with 1 Axes>"
            ]
          },
          "metadata": {
            "tags": [],
            "needs_background": "light"
          }
        }
      ]
    },
    {
      "cell_type": "code",
      "metadata": {
        "colab": {
          "base_uri": "https://localhost:8080/",
          "height": 644
        },
        "id": "_D0Nuht9H_dK",
        "outputId": "46cb2a19-0e1d-4886-f96c-f61ff6454a0d"
      },
      "source": [
        "df['clicks'] = np.sqrt(df.clicks)\n",
        "sns.distplot(df['clicks'], fit=norm);\n",
        "fig = plt.figure()\n",
        "res = stats.probplot(df['clicks'], plot=plt)"
      ],
      "execution_count": null,
      "outputs": [
        {
          "output_type": "stream",
          "text": [
            "/usr/local/lib/python3.7/dist-packages/pandas/core/series.py:726: RuntimeWarning: invalid value encountered in sqrt\n",
            "  result = getattr(ufunc, method)(*inputs, **kwargs)\n",
            "/usr/local/lib/python3.7/dist-packages/seaborn/distributions.py:2557: FutureWarning: `distplot` is a deprecated function and will be removed in a future version. Please adapt your code to use either `displot` (a figure-level function with similar flexibility) or `histplot` (an axes-level function for histograms).\n",
            "  warnings.warn(msg, FutureWarning)\n"
          ],
          "name": "stderr"
        },
        {
          "output_type": "display_data",
          "data": {
            "image/png": "[encoded data removed]",
            "text/plain": [
              "<Figure size 432x288 with 1 Axes>"
            ]
          },
          "metadata": {
            "tags": [],
            "needs_background": "light"
          }
        },
        {
          "output_type": "display_data",
          "data": {
            "image/png": "[encoded data removed]",
            "text/plain": [
              "<Figure size 432x288 with 1 Axes>"
            ]
          },
          "metadata": {
            "tags": [],
            "needs_background": "light"
          }
        }
      ]
    },
    {
      "cell_type": "code",
      "metadata": {
        "colab": {
          "base_uri": "https://localhost:8080/",
          "height": 644
        },
        "id": "Qoj2OR-NHPKO",
        "outputId": "1d9b0def-df4a-4911-8ad3-7d740b553b88"
      },
      "source": [
        "df['cost'] = np.sqrt(df.cost)\n",
        "sns.distplot(df['cost'], fit=norm);\n",
        "fig = plt.figure()\n",
        "res = stats.probplot(df['cost'], plot=plt)"
      ],
      "execution_count": null,
      "outputs": [
        {
          "output_type": "stream",
          "text": [
            "/usr/local/lib/python3.7/dist-packages/pandas/core/series.py:726: RuntimeWarning: invalid value encountered in sqrt\n",
            "  result = getattr(ufunc, method)(*inputs, **kwargs)\n",
            "/usr/local/lib/python3.7/dist-packages/seaborn/distributions.py:2557: FutureWarning: `distplot` is a deprecated function and will be removed in a future version. Please adapt your code to use either `displot` (a figure-level function with similar flexibility) or `histplot` (an axes-level function for histograms).\n",
            "  warnings.warn(msg, FutureWarning)\n"
          ],
          "name": "stderr"
        },
        {
          "output_type": "display_data",
          "data": {
            "image/png": "[encoded data removed]",
            "text/plain": [
              "<Figure size 432x288 with 1 Axes>"
            ]
          },
          "metadata": {
            "tags": [],
            "needs_background": "light"
          }
        },
        {
          "output_type": "display_data",
          "data": {
            "image/png": "[encoded data removed]",
            "text/plain": [
              "<Figure size 432x288 with 1 Axes>"
            ]
          },
          "metadata": {
            "tags": [],
            "needs_background": "light"
          }
        }
      ]
    },
    {
      "cell_type": "code",
      "metadata": {
        "colab": {
          "base_uri": "https://localhost:8080/",
          "height": 644
        },
        "id": "f5WBL6V7IRF_",
        "outputId": "0c95e232-28d6-47d7-e68c-02b7342b3187"
      },
      "source": [
        "df['conversions'] = np.sqrt(df.conversions)\n",
        "sns.distplot(df['conversions'], fit=norm);\n",
        "fig = plt.figure()\n",
        "res = stats.probplot(df['conversions'], plot=plt)"
      ],
      "execution_count": null,
      "outputs": [
        {
          "output_type": "stream",
          "text": [
            "/usr/local/lib/python3.7/dist-packages/pandas/core/series.py:726: RuntimeWarning: invalid value encountered in sqrt\n",
            "  result = getattr(ufunc, method)(*inputs, **kwargs)\n",
            "/usr/local/lib/python3.7/dist-packages/seaborn/distributions.py:2557: FutureWarning: `distplot` is a deprecated function and will be removed in a future version. Please adapt your code to use either `displot` (a figure-level function with similar flexibility) or `histplot` (an axes-level function for histograms).\n",
            "  warnings.warn(msg, FutureWarning)\n"
          ],
          "name": "stderr"
        },
        {
          "output_type": "display_data",
          "data": {
            "image/png": "[encoded data removed]",
            "text/plain": [
              "<Figure size 432x288 with 1 Axes>"
            ]
          },
          "metadata": {
            "tags": [],
            "needs_background": "light"
          }
        },
        {
          "output_type": "display_data",
          "data": {
            "image/png": "[encoded data removed]",
            "text/plain": [
              "<Figure size 432x288 with 1 Axes>"
            ]
          },
          "metadata": {
            "tags": [],
            "needs_background": "light"
          }
        }
      ]
    },
    {
      "cell_type": "markdown",
      "metadata": {
        "id": "rvnWK2DclAVt"
      },
      "source": [
        "Whoa!! its normllly diatributed...."
      ]
    },
    {
      "cell_type": "code",
      "metadata": {
        "colab": {
          "base_uri": "https://localhost:8080/",
          "height": 762
        },
        "id": "3K7GoWQilLLw",
        "outputId": "d478990d-3185-4f70-f60d-6aaa26faa0e2"
      },
      "source": [
        " #Transformation using log func\n",
        "\n",
        "df['revenue'] = np.log(df['revenue'])\n",
        "sns.distplot(df['revenue'], fit=norm);\n",
        "fig = plt.figure()\n",
        "res = stats.probplot(df['revenue'], plot=plt)"
      ],
      "execution_count": null,
      "outputs": [
        {
          "output_type": "stream",
          "text": [
            "/usr/local/lib/python3.7/dist-packages/pandas/core/series.py:726: RuntimeWarning: divide by zero encountered in log\n",
            "  result = getattr(ufunc, method)(*inputs, **kwargs)\n",
            "/usr/local/lib/python3.7/dist-packages/seaborn/distributions.py:2557: FutureWarning: `distplot` is a deprecated function and will be removed in a future version. Please adapt your code to use either `displot` (a figure-level function with similar flexibility) or `histplot` (an axes-level function for histograms).\n",
            "  warnings.warn(msg, FutureWarning)\n",
            "/usr/local/lib/python3.7/dist-packages/seaborn/distributions.py:2403: RuntimeWarning: invalid value encountered in double_scalars\n",
            "  return int(np.ceil((a.max() - a.min()) / h))\n"
          ],
          "name": "stderr"
        },
        {
          "output_type": "error",
          "ename": "ValueError",
          "evalue": "ignored",
          "traceback": [
            "\u001b[0;31m---------------------------------------------------------------------------\u001b[0m",
            "\u001b[0;31mValueError\u001b[0m                                Traceback (most recent call last)",
            "\u001b[0;32m<ipython-input-5-39ae50167a45>\u001b[0m in \u001b[0;36m<module>\u001b[0;34m()\u001b[0m\n\u001b[1;32m      2\u001b[0m \u001b[0;34m\u001b[0m\u001b[0m\n\u001b[1;32m      3\u001b[0m \u001b[0mdf\u001b[0m\u001b[0;34m[\u001b[0m\u001b[0;34m'revenue'\u001b[0m\u001b[0;34m]\u001b[0m \u001b[0;34m=\u001b[0m \u001b[0mnp\u001b[0m\u001b[0;34m.\u001b[0m\u001b[0mlog\u001b[0m\u001b[0;34m(\u001b[0m\u001b[0mdf\u001b[0m\u001b[0;34m[\u001b[0m\u001b[0;34m'revenue'\u001b[0m\u001b[0;34m]\u001b[0m\u001b[0;34m)\u001b[0m\u001b[0;34m\u001b[0m\u001b[0;34m\u001b[0m\u001b[0m\n\u001b[0;32m----> 4\u001b[0;31m \u001b[0msns\u001b[0m\u001b[0;34m.\u001b[0m\u001b[0mdistplot\u001b[0m\u001b[0;34m(\u001b[0m\u001b[0mdf\u001b[0m\u001b[0;34m[\u001b[0m\u001b[0;34m'revenue'\u001b[0m\u001b[0;34m]\u001b[0m\u001b[0;34m,\u001b[0m \u001b[0mfit\u001b[0m\u001b[0;34m=\u001b[0m\u001b[0mnorm\u001b[0m\u001b[0;34m)\u001b[0m\u001b[0;34m;\u001b[0m\u001b[0;34m\u001b[0m\u001b[0;34m\u001b[0m\u001b[0m\n\u001b[0m\u001b[1;32m      5\u001b[0m \u001b[0mfig\u001b[0m \u001b[0;34m=\u001b[0m \u001b[0mplt\u001b[0m\u001b[0;34m.\u001b[0m\u001b[0mfigure\u001b[0m\u001b[0;34m(\u001b[0m\u001b[0;34m)\u001b[0m\u001b[0;34m\u001b[0m\u001b[0;34m\u001b[0m\u001b[0m\n\u001b[1;32m      6\u001b[0m \u001b[0mres\u001b[0m \u001b[0;34m=\u001b[0m \u001b[0mstats\u001b[0m\u001b[0;34m.\u001b[0m\u001b[0mprobplot\u001b[0m\u001b[0;34m(\u001b[0m\u001b[0mdf\u001b[0m\u001b[0;34m[\u001b[0m\u001b[0;34m'revenue'\u001b[0m\u001b[0;34m]\u001b[0m\u001b[0;34m,\u001b[0m \u001b[0mplot\u001b[0m\u001b[0;34m=\u001b[0m\u001b[0mplt\u001b[0m\u001b[0;34m)\u001b[0m\u001b[0;34m\u001b[0m\u001b[0;34m\u001b[0m\u001b[0m\n",
            "\u001b[0;32m/usr/local/lib/python3.7/dist-packages/seaborn/distributions.py\u001b[0m in \u001b[0;36mdistplot\u001b[0;34m(a, bins, hist, kde, rug, fit, hist_kws, kde_kws, rug_kws, fit_kws, color, vertical, norm_hist, axlabel, label, ax, x)\u001b[0m\n\u001b[1;32m   2610\u001b[0m     \u001b[0;32mif\u001b[0m \u001b[0mhist\u001b[0m\u001b[0;34m:\u001b[0m\u001b[0;34m\u001b[0m\u001b[0;34m\u001b[0m\u001b[0m\n\u001b[1;32m   2611\u001b[0m         \u001b[0;32mif\u001b[0m \u001b[0mbins\u001b[0m \u001b[0;32mis\u001b[0m \u001b[0;32mNone\u001b[0m\u001b[0;34m:\u001b[0m\u001b[0;34m\u001b[0m\u001b[0;34m\u001b[0m\u001b[0m\n\u001b[0;32m-> 2612\u001b[0;31m             \u001b[0mbins\u001b[0m \u001b[0;34m=\u001b[0m \u001b[0mmin\u001b[0m\u001b[0;34m(\u001b[0m\u001b[0m_freedman_diaconis_bins\u001b[0m\u001b[0;34m(\u001b[0m\u001b[0ma\u001b[0m\u001b[0;34m)\u001b[0m\u001b[0;34m,\u001b[0m \u001b[0;36m50\u001b[0m\u001b[0;34m)\u001b[0m\u001b[0;34m\u001b[0m\u001b[0;34m\u001b[0m\u001b[0m\n\u001b[0m\u001b[1;32m   2613\u001b[0m         \u001b[0mhist_kws\u001b[0m\u001b[0;34m.\u001b[0m\u001b[0msetdefault\u001b[0m\u001b[0;34m(\u001b[0m\u001b[0;34m\"alpha\"\u001b[0m\u001b[0;34m,\u001b[0m \u001b[0;36m0.4\u001b[0m\u001b[0;34m)\u001b[0m\u001b[0;34m\u001b[0m\u001b[0;34m\u001b[0m\u001b[0m\n\u001b[1;32m   2614\u001b[0m         \u001b[0mhist_kws\u001b[0m\u001b[0;34m.\u001b[0m\u001b[0msetdefault\u001b[0m\u001b[0;34m(\u001b[0m\u001b[0;34m\"density\"\u001b[0m\u001b[0;34m,\u001b[0m \u001b[0mnorm_hist\u001b[0m\u001b[0;34m)\u001b[0m\u001b[0;34m\u001b[0m\u001b[0;34m\u001b[0m\u001b[0m\n",
            "\u001b[0;32m/usr/local/lib/python3.7/dist-packages/seaborn/distributions.py\u001b[0m in \u001b[0;36m_freedman_diaconis_bins\u001b[0;34m(a)\u001b[0m\n\u001b[1;32m   2401\u001b[0m         \u001b[0;32mreturn\u001b[0m \u001b[0mint\u001b[0m\u001b[0;34m(\u001b[0m\u001b[0mnp\u001b[0m\u001b[0;34m.\u001b[0m\u001b[0msqrt\u001b[0m\u001b[0;34m(\u001b[0m\u001b[0ma\u001b[0m\u001b[0;34m.\u001b[0m\u001b[0msize\u001b[0m\u001b[0;34m)\u001b[0m\u001b[0;34m)\u001b[0m\u001b[0;34m\u001b[0m\u001b[0;34m\u001b[0m\u001b[0m\n\u001b[1;32m   2402\u001b[0m     \u001b[0;32melse\u001b[0m\u001b[0;34m:\u001b[0m\u001b[0;34m\u001b[0m\u001b[0;34m\u001b[0m\u001b[0m\n\u001b[0;32m-> 2403\u001b[0;31m         \u001b[0;32mreturn\u001b[0m \u001b[0mint\u001b[0m\u001b[0;34m(\u001b[0m\u001b[0mnp\u001b[0m\u001b[0;34m.\u001b[0m\u001b[0mceil\u001b[0m\u001b[0;34m(\u001b[0m\u001b[0;34m(\u001b[0m\u001b[0ma\u001b[0m\u001b[0;34m.\u001b[0m\u001b[0mmax\u001b[0m\u001b[0;34m(\u001b[0m\u001b[0;34m)\u001b[0m \u001b[0;34m-\u001b[0m \u001b[0ma\u001b[0m\u001b[0;34m.\u001b[0m\u001b[0mmin\u001b[0m\u001b[0;34m(\u001b[0m\u001b[0;34m)\u001b[0m\u001b[0;34m)\u001b[0m \u001b[0;34m/\u001b[0m \u001b[0mh\u001b[0m\u001b[0;34m)\u001b[0m\u001b[0;34m)\u001b[0m\u001b[0;34m\u001b[0m\u001b[0;34m\u001b[0m\u001b[0m\n\u001b[0m\u001b[1;32m   2404\u001b[0m \u001b[0;34m\u001b[0m\u001b[0m\n\u001b[1;32m   2405\u001b[0m \u001b[0;34m\u001b[0m\u001b[0m\n",
            "\u001b[0;31mValueError\u001b[0m: cannot convert float NaN to integer"
          ]
        },
        {
          "output_type": "display_data",
          "data": {
            "image/png": "[encoded data removed]",
            "text/plain": [
              "<Figure size 432x288 with 1 Axes>"
            ]
          },
          "metadata": {
            "tags": [],
            "needs_background": "light"
          }
        }
      ]
    },
    {
      "cell_type": "code",
      "metadata": {
        "colab": {
          "base_uri": "https://localhost:8080/",
          "height": 610
        },
        "id": "CQfA1qyII_Vg",
        "outputId": "1bd77bc6-74b3-4900-dceb-1c0b5f9c18ff"
      },
      "source": [
        "pf.impressions = np.log(pf.impressions)\n",
        "sns.distplot(pf['impressions'], fit=norm);\n",
        "fig = plt.figure()\n",
        "res = stats.probplot(pf['impressions'], plot=plt)\n",
        "\n"
      ],
      "execution_count": null,
      "outputs": [
        {
          "output_type": "stream",
          "text": [
            "/usr/local/lib/python3.7/dist-packages/seaborn/distributions.py:2557: FutureWarning: `distplot` is a deprecated function and will be removed in a future version. Please adapt your code to use either `displot` (a figure-level function with similar flexibility) or `histplot` (an axes-level function for histograms).\n",
            "  warnings.warn(msg, FutureWarning)\n"
          ],
          "name": "stderr"
        },
        {
          "output_type": "display_data",
          "data": {
            "image/png": "[encoded data removed]",
            "text/plain": [
              "<Figure size 432x288 with 1 Axes>"
            ]
          },
          "metadata": {
            "tags": [],
            "needs_background": "light"
          }
        },
        {
          "output_type": "display_data",
          "data": {
            "image/png": "[encoded data removed]",
            "text/plain": [
              "<Figure size 432x288 with 1 Axes>"
            ]
          },
          "metadata": {
            "tags": [],
            "needs_background": "light"
          }
        }
      ]
    },
    {
      "cell_type": "code",
      "metadata": {
        "colab": {
          "base_uri": "https://localhost:8080/",
          "height": 610
        },
        "id": "KGbJWEkTKLuR",
        "outputId": "1a2bba79-d7ad-4dee-9341-7f263fde6396"
      },
      "source": [
        "pf.cost = np.sqrt(pf.cost)\n",
        "sns.distplot(pf['cost'], fit=norm);\n",
        "fig = plt.figure()\n",
        "res = stats.probplot(pf['cost'], plot=plt)\n",
        "\n"
      ],
      "execution_count": null,
      "outputs": [
        {
          "output_type": "stream",
          "text": [
            "/usr/local/lib/python3.7/dist-packages/seaborn/distributions.py:2557: FutureWarning: `distplot` is a deprecated function and will be removed in a future version. Please adapt your code to use either `displot` (a figure-level function with similar flexibility) or `histplot` (an axes-level function for histograms).\n",
            "  warnings.warn(msg, FutureWarning)\n"
          ],
          "name": "stderr"
        },
        {
          "output_type": "display_data",
          "data": {
            "image/png": "[encoded data removed]",
            "text/plain": [
              "<Figure size 432x288 with 1 Axes>"
            ]
          },
          "metadata": {
            "tags": [],
            "needs_background": "light"
          }
        },
        {
          "output_type": "display_data",
          "data": {
            "image/png": "[encoded data removed]",
            "text/plain": [
              "<Figure size 432x288 with 1 Axes>"
            ]
          },
          "metadata": {
            "tags": [],
            "needs_background": "light"
          }
        }
      ]
    },
    {
      "cell_type": "code",
      "metadata": {
        "colab": {
          "base_uri": "https://localhost:8080/",
          "height": 644
        },
        "id": "8X8QPZcfKbmP",
        "outputId": "d10f249f-e4eb-4e2b-9862-dc0bedd8fa54"
      },
      "source": [
        "pf.clicks = np.sqrt(pf.clicks)\n",
        "sns.distplot(pf['clicks'], fit=norm);\n",
        "fig = plt.figure()\n",
        "res = stats.probplot(pf['clicks'], plot=plt)\n",
        "\n"
      ],
      "execution_count": null,
      "outputs": [
        {
          "output_type": "stream",
          "text": [
            "/usr/local/lib/python3.7/dist-packages/pandas/core/series.py:726: RuntimeWarning: invalid value encountered in sqrt\n",
            "  result = getattr(ufunc, method)(*inputs, **kwargs)\n",
            "/usr/local/lib/python3.7/dist-packages/seaborn/distributions.py:2557: FutureWarning: `distplot` is a deprecated function and will be removed in a future version. Please adapt your code to use either `displot` (a figure-level function with similar flexibility) or `histplot` (an axes-level function for histograms).\n",
            "  warnings.warn(msg, FutureWarning)\n"
          ],
          "name": "stderr"
        },
        {
          "output_type": "display_data",
          "data": {
            "image/png": "[encoded data removed]",
            "text/plain": [
              "<Figure size 432x288 with 1 Axes>"
            ]
          },
          "metadata": {
            "tags": [],
            "needs_background": "light"
          }
        },
        {
          "output_type": "display_data",
          "data": {
            "image/png": "[encoded data removed]",
            "text/plain": [
              "<Figure size 432x288 with 1 Axes>"
            ]
          },
          "metadata": {
            "tags": [],
            "needs_background": "light"
          }
        }
      ]
    },
    {
      "cell_type": "code",
      "metadata": {
        "colab": {
          "base_uri": "https://localhost:8080/",
          "height": 614
        },
        "id": "yW4pOiF7Kk_V",
        "outputId": "9c418397-d2a2-4249-a9be-437dff80795e"
      },
      "source": [
        "pf.conversions = np.sqrt(pf.conversions)\n",
        "sns.distplot(pf['conversions'], fit=norm);\n",
        "fig = plt.figure()\n",
        "res = stats.probplot(pf['conversions'], plot=plt)"
      ],
      "execution_count": null,
      "outputs": [
        {
          "output_type": "stream",
          "text": [
            "/usr/local/lib/python3.7/dist-packages/seaborn/distributions.py:2557: FutureWarning: `distplot` is a deprecated function and will be removed in a future version. Please adapt your code to use either `displot` (a figure-level function with similar flexibility) or `histplot` (an axes-level function for histograms).\n",
            "  warnings.warn(msg, FutureWarning)\n"
          ],
          "name": "stderr"
        },
        {
          "output_type": "display_data",
          "data": {
            "image/png": "[encoded data removed]",
            "text/plain": [
              "<Figure size 432x288 with 1 Axes>"
            ]
          },
          "metadata": {
            "tags": [],
            "needs_background": "light"
          }
        },
        {
          "output_type": "display_data",
          "data": {
            "image/png": "[encoded data removed]",
            "text/plain": [
              "<Figure size 432x288 with 1 Axes>"
            ]
          },
          "metadata": {
            "tags": [],
            "needs_background": "light"
          }
        }
      ]
    },
    {
      "cell_type": "code",
      "metadata": {
        "colab": {
          "base_uri": "https://localhost:8080/"
        },
        "id": "SWKSpAAuECTt",
        "outputId": "081e68b2-6a5c-4a62-d3d4-74ee10d9407c"
      },
      "source": [
        "df.replace([np.inf, -np.inf], np.nan, inplace=True)\n",
        "df.fillna(df.median(),inplace=True)\n",
        "\n",
        "print(df.isnull().sum())"
      ],
      "execution_count": null,
      "outputs": [
        {
          "output_type": "stream",
          "text": [
            "campaign            0\n",
            "adgroup             0\n",
            "ad                  0\n",
            "impressions         0\n",
            "clicks              0\n",
            "cost                0\n",
            "conversions         0\n",
            "revenue             0\n",
            "ctr                 0\n",
            "cpc                 0\n",
            "cpa                 0\n",
            "Month               0\n",
            "Day of the month    0\n",
            "dtype: int64\n"
          ],
          "name": "stdout"
        }
      ]
    },
    {
      "cell_type": "code",
      "metadata": {
        "colab": {
          "base_uri": "https://localhost:8080/"
        },
        "id": "xmq65pScuWUr",
        "outputId": "50e5e337-28b0-4050-bba3-6cfd6700351f"
      },
      "source": [
        "# ONe HOT ENCODING\n",
        "#dum1 = pd.get_dummies(df.campaign)\n",
        "#df = pd.concat([df,dum1],axis='columns')\n",
        "df.drop(['campaign'],axis='columns',inplace=True)\n",
        "df.columns\n",
        "pf.drop(['campaign'],axis='columns',inplace=True)\n",
        "pf.columns\n"
      ],
      "execution_count": null,
      "outputs": [
        {
          "output_type": "execute_result",
          "data": {
            "text/plain": [
              "Index(['adgroup', 'ad', 'cost', 'impressions', 'clicks', 'conversions', 'ctr',\n",
              "       'cpc', 'cpa', 'Month', 'Day of the month'],\n",
              "      dtype='object')"
            ]
          },
          "metadata": {
            "tags": []
          },
          "execution_count": 107
        }
      ]
    },
    {
      "cell_type": "code",
      "metadata": {
        "colab": {
          "base_uri": "https://localhost:8080/"
        },
        "id": "cxbdbFpKD2XG",
        "outputId": "8db3176f-5c95-4583-d984-d785c2778072"
      },
      "source": [
        "print(df.adgroup.describe())\n",
        "print(pf.adgroup.describe())"
      ],
      "execution_count": null,
      "outputs": [
        {
          "output_type": "stream",
          "text": [
            "count          4571\n",
            "unique            4\n",
            "top       adgroup 3\n",
            "freq           1672\n",
            "Name: adgroup, dtype: object\n",
            "count           318\n",
            "unique            4\n",
            "top       adgroup 3\n",
            "freq            111\n",
            "Name: adgroup, dtype: object\n"
          ],
          "name": "stdout"
        }
      ]
    },
    {
      "cell_type": "code",
      "metadata": {
        "id": "zwyopGHqEgDR",
        "colab": {
          "base_uri": "https://localhost:8080/",
          "height": 239
        },
        "outputId": "c67a4728-29c6-43ae-fc6d-2f4deb2a98d8"
      },
      "source": [
        "#One hot encoding for adgroup having 4 categorcal values.\n",
        "dum1 = pd.get_dummies(df.adgroup)\n",
        "dum2 = pd.get_dummies(pf.adgroup)\n",
        "df = pd.concat([df,dum1],axis='columns')\n",
        "pf = pd.concat([pf,dum2],axis='columns')\n",
        "df.drop(['adgroup'],axis='columns',inplace=True)\n",
        "pf.drop(['adgroup'],axis='columns',inplace=True)"
      ],
      "execution_count": null,
      "outputs": [
        {
          "output_type": "error",
          "ename": "NameError",
          "evalue": "ignored",
          "traceback": [
            "\u001b[0;31m---------------------------------------------------------------------------\u001b[0m",
            "\u001b[0;31mNameError\u001b[0m                                 Traceback (most recent call last)",
            "\u001b[0;32m<ipython-input-6-26a334793a01>\u001b[0m in \u001b[0;36m<module>\u001b[0;34m()\u001b[0m\n\u001b[1;32m      1\u001b[0m \u001b[0;31m#One hot encoding for adgroup having 4 categorcal values.\u001b[0m\u001b[0;34m\u001b[0m\u001b[0;34m\u001b[0m\u001b[0;34m\u001b[0m\u001b[0m\n\u001b[1;32m      2\u001b[0m \u001b[0mdum1\u001b[0m \u001b[0;34m=\u001b[0m \u001b[0mpd\u001b[0m\u001b[0;34m.\u001b[0m\u001b[0mget_dummies\u001b[0m\u001b[0;34m(\u001b[0m\u001b[0mdf\u001b[0m\u001b[0;34m.\u001b[0m\u001b[0madgroup\u001b[0m\u001b[0;34m)\u001b[0m\u001b[0;34m\u001b[0m\u001b[0;34m\u001b[0m\u001b[0m\n\u001b[0;32m----> 3\u001b[0;31m \u001b[0mdum2\u001b[0m \u001b[0;34m=\u001b[0m \u001b[0mpd\u001b[0m\u001b[0;34m.\u001b[0m\u001b[0mget_dummies\u001b[0m\u001b[0;34m(\u001b[0m\u001b[0mpf\u001b[0m\u001b[0;34m.\u001b[0m\u001b[0madgroup\u001b[0m\u001b[0;34m)\u001b[0m\u001b[0;34m\u001b[0m\u001b[0;34m\u001b[0m\u001b[0m\n\u001b[0m\u001b[1;32m      4\u001b[0m \u001b[0mdf\u001b[0m \u001b[0;34m=\u001b[0m \u001b[0mpd\u001b[0m\u001b[0;34m.\u001b[0m\u001b[0mconcat\u001b[0m\u001b[0;34m(\u001b[0m\u001b[0;34m[\u001b[0m\u001b[0mdf\u001b[0m\u001b[0;34m,\u001b[0m\u001b[0mdum1\u001b[0m\u001b[0;34m]\u001b[0m\u001b[0;34m,\u001b[0m\u001b[0maxis\u001b[0m\u001b[0;34m=\u001b[0m\u001b[0;34m'columns'\u001b[0m\u001b[0;34m)\u001b[0m\u001b[0;34m\u001b[0m\u001b[0;34m\u001b[0m\u001b[0m\n\u001b[1;32m      5\u001b[0m \u001b[0mpf\u001b[0m \u001b[0;34m=\u001b[0m \u001b[0mpd\u001b[0m\u001b[0;34m.\u001b[0m\u001b[0mconcat\u001b[0m\u001b[0;34m(\u001b[0m\u001b[0;34m[\u001b[0m\u001b[0mpf\u001b[0m\u001b[0;34m,\u001b[0m\u001b[0mdum2\u001b[0m\u001b[0;34m]\u001b[0m\u001b[0;34m,\u001b[0m\u001b[0maxis\u001b[0m\u001b[0;34m=\u001b[0m\u001b[0;34m'columns'\u001b[0m\u001b[0;34m)\u001b[0m\u001b[0;34m\u001b[0m\u001b[0;34m\u001b[0m\u001b[0m\n",
            "\u001b[0;31mNameError\u001b[0m: name 'pf' is not defined"
          ]
        }
      ]
    },
    {
      "cell_type": "code",
      "metadata": {
        "colab": {
          "base_uri": "https://localhost:8080/"
        },
        "id": "0PvQCDbIFf2O",
        "outputId": "b8195e92-af81-4961-de8f-53a492e6f1d6"
      },
      "source": [
        "df.columns\n",
        "pf.columns\n",
        "print(df.ad)\n",
        "print(pf.ad)"
      ],
      "execution_count": null,
      "outputs": [
        {
          "output_type": "stream",
          "text": [
            "0        ad 1\n",
            "1        ad 1\n",
            "2        ad 1\n",
            "3        ad 1\n",
            "4        ad 2\n",
            "        ...  \n",
            "4566    ad 55\n",
            "4567    ad 55\n",
            "4568    ad 56\n",
            "4569    ad 56\n",
            "4570    ad 55\n",
            "Name: ad, Length: 4571, dtype: object\n",
            "0       ad 1\n",
            "1       ad 1\n",
            "2       ad 1\n",
            "3       ad 1\n",
            "4       ad 2\n",
            "       ...  \n",
            "313    ad 55\n",
            "314    ad 55\n",
            "315    ad 55\n",
            "316    ad 56\n",
            "317    ad 56\n",
            "Name: ad, Length: 318, dtype: object\n"
          ],
          "name": "stdout"
        }
      ]
    },
    {
      "cell_type": "code",
      "metadata": {
        "id": "axREw3UkJjyR"
      },
      "source": [
        "dum3 = pd.get_dummies(df.ad)\n",
        "dff = pd.concat([df,dum3],axis='columns')\n",
        "dff.drop(['ad'],axis='columns',inplace=True)\n",
        "dum4 = pd.get_dummies(pf.ad)\n",
        "pff = pd.concat([pf,dum4],axis='columns')\n",
        "pff.drop(['ad'],axis='columns',inplace=True)"
      ],
      "execution_count": null,
      "outputs": []
    },
    {
      "cell_type": "code",
      "metadata": {
        "colab": {
          "base_uri": "https://localhost:8080/"
        },
        "id": "ssu06NJ4KPzL",
        "outputId": "e64de471-7a03-4f29-a7ee-882d6b3266e5"
      },
      "source": [
        "print(dff.columns)\n",
        "print(pff.columns)"
      ],
      "execution_count": null,
      "outputs": [
        {
          "output_type": "stream",
          "text": [
            "Index(['date', 'impressions', 'clicks', 'cost', 'conversions', 'revenue',\n",
            "       'ctr', 'cpc', 'cpa', 'adgroup 1', 'adgroup 2', 'adgroup 3', 'adgroup 4',\n",
            "       'z_clicks', 'z_imp', 'z_ctr', 'z_cpc', 'z_cost', 'z_conv', 'ad 1',\n",
            "       'ad 10', 'ad 11', 'ad 12', 'ad 13', 'ad 14', 'ad 15', 'ad 16', 'ad 17',\n",
            "       'ad 18', 'ad 19', 'ad 2', 'ad 20', 'ad 21', 'ad 22', 'ad 23', 'ad 24',\n",
            "       'ad 25', 'ad 26', 'ad 27', 'ad 28', 'ad 29', 'ad 3', 'ad 30', 'ad 31',\n",
            "       'ad 32', 'ad 33', 'ad 34', 'ad 35', 'ad 36', 'ad 37', 'ad 38', 'ad 39',\n",
            "       'ad 4', 'ad 40', 'ad 41', 'ad 42', 'ad 43', 'ad 44', 'ad 45', 'ad 46',\n",
            "       'ad 47', 'ad 48', 'ad 49', 'ad 5', 'ad 50', 'ad 51', 'ad 52', 'ad 53',\n",
            "       'ad 54', 'ad 55', 'ad 56', 'ad 57', 'ad 58', 'ad 59', 'ad 6', 'ad 60',\n",
            "       'ad 61', 'ad 62', 'ad 63', 'ad 64', 'ad 65', 'ad 66', 'ad 67', 'ad 68',\n",
            "       'ad 69', 'ad 7', 'ad 70', 'ad 8', 'ad 9'],\n",
            "      dtype='object')\n",
            "Index(['date', 'cost', 'impressions', 'clicks', 'conversions', 'ctr', 'cpc',\n",
            "       'cpa', 'adgroup 1', 'adgroup 2', 'adgroup 3', 'adgroup 4', 'ad 1',\n",
            "       'ad 10', 'ad 2', 'ad 3', 'ad 4', 'ad 5', 'ad 55', 'ad 56', 'ad 6',\n",
            "       'ad 7', 'ad 71', 'ad 72', 'ad 73', 'ad 74', 'ad 75', 'ad 8'],\n",
            "      dtype='object')\n"
          ],
          "name": "stdout"
        }
      ]
    },
    {
      "cell_type": "code",
      "metadata": {
        "id": "tJXMsSU4EJCF"
      },
      "source": [
        "f1 = ['impressions', 'clicks', 'cost','adgroup 1', 'Month', 'Day of the month', 'adgroup 2', 'adgroup 3', 'adgroup 4']\n",
        "#df['ad'] =  df['ad'].str.replace(' ','_')"
      ],
      "execution_count": null,
      "outputs": []
    },
    {
      "cell_type": "code",
      "metadata": {
        "id": "PqwLrQZCEUr-",
        "colab": {
          "base_uri": "https://localhost:8080/"
        },
        "outputId": "3918851e-7657-495c-e024-46abf301765c"
      },
      "source": [
        "X = df[f1]\n",
        "#X = pd.get_dummies(X)\n",
        "print(X.columns)\n",
        "y = df.revenue\n",
        "y.head"
      ],
      "execution_count": null,
      "outputs": [
        {
          "output_type": "stream",
          "text": [
            "Index(['impressions', 'clicks', 'cost', 'adgroup 1', 'Month',\n",
            "       'Day of the month', 'adgroup 2', 'adgroup 3', 'adgroup 4'],\n",
            "      dtype='object')\n"
          ],
          "name": "stdout"
        },
        {
          "output_type": "execute_result",
          "data": {
            "text/plain": [
              "<bound method NDFrame.head of 0         0.00\n",
              "1         0.00\n",
              "2         0.00\n",
              "3         0.00\n",
              "4       925.71\n",
              "         ...  \n",
              "4566      0.00\n",
              "4567      0.00\n",
              "4568     93.20\n",
              "4569      0.00\n",
              "4570      0.00\n",
              "Name: revenue, Length: 4571, dtype: float64>"
            ]
          },
          "metadata": {
            "tags": []
          },
          "execution_count": 112
        }
      ]
    },
    {
      "cell_type": "code",
      "metadata": {
        "colab": {
          "base_uri": "https://localhost:8080/",
          "height": 370
        },
        "id": "O9Kyn-L5EbBA",
        "outputId": "4365c8c1-6115-46ee-ce54-e20592807050"
      },
      "source": [
        "X_new = X[['impressions', 'clicks', 'cost', 'conversions', 'ad_ad 1', 'ad_ad 10',\n",
        "       'ad_ad 2', 'ad_ad 3', 'ad_ad 4', 'ad_ad 5', 'ad_ad 55', 'ad_ad 56',\n",
        "       'ad_ad 6', 'ad_ad 7', 'ad_ad 71', 'ad_ad 72', 'ad_ad 73', 'ad_ad 74',\n",
        "       'ad_ad 75', 'ad_ad 8']]\n"
      ],
      "execution_count": null,
      "outputs": [
        {
          "output_type": "error",
          "ename": "KeyError",
          "evalue": "ignored",
          "traceback": [
            "\u001b[0;31m---------------------------------------------------------------------------\u001b[0m",
            "\u001b[0;31mKeyError\u001b[0m                                  Traceback (most recent call last)",
            "\u001b[0;32m<ipython-input-194-3832bfc8b938>\u001b[0m in \u001b[0;36m<module>\u001b[0;34m()\u001b[0m\n\u001b[1;32m      2\u001b[0m        \u001b[0;34m'ad_ad 2'\u001b[0m\u001b[0;34m,\u001b[0m \u001b[0;34m'ad_ad 3'\u001b[0m\u001b[0;34m,\u001b[0m \u001b[0;34m'ad_ad 4'\u001b[0m\u001b[0;34m,\u001b[0m \u001b[0;34m'ad_ad 5'\u001b[0m\u001b[0;34m,\u001b[0m \u001b[0;34m'ad_ad 55'\u001b[0m\u001b[0;34m,\u001b[0m \u001b[0;34m'ad_ad 56'\u001b[0m\u001b[0;34m,\u001b[0m\u001b[0;34m\u001b[0m\u001b[0;34m\u001b[0m\u001b[0m\n\u001b[1;32m      3\u001b[0m        \u001b[0;34m'ad_ad 6'\u001b[0m\u001b[0;34m,\u001b[0m \u001b[0;34m'ad_ad 7'\u001b[0m\u001b[0;34m,\u001b[0m \u001b[0;34m'ad_ad 71'\u001b[0m\u001b[0;34m,\u001b[0m \u001b[0;34m'ad_ad 72'\u001b[0m\u001b[0;34m,\u001b[0m \u001b[0;34m'ad_ad 73'\u001b[0m\u001b[0;34m,\u001b[0m \u001b[0;34m'ad_ad 74'\u001b[0m\u001b[0;34m,\u001b[0m\u001b[0;34m\u001b[0m\u001b[0;34m\u001b[0m\u001b[0m\n\u001b[0;32m----> 4\u001b[0;31m        'ad_ad 75', 'ad_ad 8']]\n\u001b[0m",
            "\u001b[0;32m/usr/local/lib/python3.7/dist-packages/pandas/core/frame.py\u001b[0m in \u001b[0;36m__getitem__\u001b[0;34m(self, key)\u001b[0m\n\u001b[1;32m   2910\u001b[0m             \u001b[0;32mif\u001b[0m \u001b[0mis_iterator\u001b[0m\u001b[0;34m(\u001b[0m\u001b[0mkey\u001b[0m\u001b[0;34m)\u001b[0m\u001b[0;34m:\u001b[0m\u001b[0;34m\u001b[0m\u001b[0;34m\u001b[0m\u001b[0m\n\u001b[1;32m   2911\u001b[0m                 \u001b[0mkey\u001b[0m \u001b[0;34m=\u001b[0m \u001b[0mlist\u001b[0m\u001b[0;34m(\u001b[0m\u001b[0mkey\u001b[0m\u001b[0;34m)\u001b[0m\u001b[0;34m\u001b[0m\u001b[0;34m\u001b[0m\u001b[0m\n\u001b[0;32m-> 2912\u001b[0;31m             \u001b[0mindexer\u001b[0m \u001b[0;34m=\u001b[0m \u001b[0mself\u001b[0m\u001b[0;34m.\u001b[0m\u001b[0mloc\u001b[0m\u001b[0;34m.\u001b[0m\u001b[0m_get_listlike_indexer\u001b[0m\u001b[0;34m(\u001b[0m\u001b[0mkey\u001b[0m\u001b[0;34m,\u001b[0m \u001b[0maxis\u001b[0m\u001b[0;34m=\u001b[0m\u001b[0;36m1\u001b[0m\u001b[0;34m,\u001b[0m \u001b[0mraise_missing\u001b[0m\u001b[0;34m=\u001b[0m\u001b[0;32mTrue\u001b[0m\u001b[0;34m)\u001b[0m\u001b[0;34m[\u001b[0m\u001b[0;36m1\u001b[0m\u001b[0;34m]\u001b[0m\u001b[0;34m\u001b[0m\u001b[0;34m\u001b[0m\u001b[0m\n\u001b[0m\u001b[1;32m   2913\u001b[0m \u001b[0;34m\u001b[0m\u001b[0m\n\u001b[1;32m   2914\u001b[0m         \u001b[0;31m# take() does not accept boolean indexers\u001b[0m\u001b[0;34m\u001b[0m\u001b[0;34m\u001b[0m\u001b[0;34m\u001b[0m\u001b[0m\n",
            "\u001b[0;32m/usr/local/lib/python3.7/dist-packages/pandas/core/indexing.py\u001b[0m in \u001b[0;36m_get_listlike_indexer\u001b[0;34m(self, key, axis, raise_missing)\u001b[0m\n\u001b[1;32m   1252\u001b[0m             \u001b[0mkeyarr\u001b[0m\u001b[0;34m,\u001b[0m \u001b[0mindexer\u001b[0m\u001b[0;34m,\u001b[0m \u001b[0mnew_indexer\u001b[0m \u001b[0;34m=\u001b[0m \u001b[0max\u001b[0m\u001b[0;34m.\u001b[0m\u001b[0m_reindex_non_unique\u001b[0m\u001b[0;34m(\u001b[0m\u001b[0mkeyarr\u001b[0m\u001b[0;34m)\u001b[0m\u001b[0;34m\u001b[0m\u001b[0;34m\u001b[0m\u001b[0m\n\u001b[1;32m   1253\u001b[0m \u001b[0;34m\u001b[0m\u001b[0m\n\u001b[0;32m-> 1254\u001b[0;31m         \u001b[0mself\u001b[0m\u001b[0;34m.\u001b[0m\u001b[0m_validate_read_indexer\u001b[0m\u001b[0;34m(\u001b[0m\u001b[0mkeyarr\u001b[0m\u001b[0;34m,\u001b[0m \u001b[0mindexer\u001b[0m\u001b[0;34m,\u001b[0m \u001b[0maxis\u001b[0m\u001b[0;34m,\u001b[0m \u001b[0mraise_missing\u001b[0m\u001b[0;34m=\u001b[0m\u001b[0mraise_missing\u001b[0m\u001b[0;34m)\u001b[0m\u001b[0;34m\u001b[0m\u001b[0;34m\u001b[0m\u001b[0m\n\u001b[0m\u001b[1;32m   1255\u001b[0m         \u001b[0;32mreturn\u001b[0m \u001b[0mkeyarr\u001b[0m\u001b[0;34m,\u001b[0m \u001b[0mindexer\u001b[0m\u001b[0;34m\u001b[0m\u001b[0;34m\u001b[0m\u001b[0m\n\u001b[1;32m   1256\u001b[0m \u001b[0;34m\u001b[0m\u001b[0m\n",
            "\u001b[0;32m/usr/local/lib/python3.7/dist-packages/pandas/core/indexing.py\u001b[0m in \u001b[0;36m_validate_read_indexer\u001b[0;34m(self, key, indexer, axis, raise_missing)\u001b[0m\n\u001b[1;32m   1296\u001b[0m             \u001b[0;32mif\u001b[0m \u001b[0mmissing\u001b[0m \u001b[0;34m==\u001b[0m \u001b[0mlen\u001b[0m\u001b[0;34m(\u001b[0m\u001b[0mindexer\u001b[0m\u001b[0;34m)\u001b[0m\u001b[0;34m:\u001b[0m\u001b[0;34m\u001b[0m\u001b[0;34m\u001b[0m\u001b[0m\n\u001b[1;32m   1297\u001b[0m                 \u001b[0maxis_name\u001b[0m \u001b[0;34m=\u001b[0m \u001b[0mself\u001b[0m\u001b[0;34m.\u001b[0m\u001b[0mobj\u001b[0m\u001b[0;34m.\u001b[0m\u001b[0m_get_axis_name\u001b[0m\u001b[0;34m(\u001b[0m\u001b[0maxis\u001b[0m\u001b[0;34m)\u001b[0m\u001b[0;34m\u001b[0m\u001b[0;34m\u001b[0m\u001b[0m\n\u001b[0;32m-> 1298\u001b[0;31m                 \u001b[0;32mraise\u001b[0m \u001b[0mKeyError\u001b[0m\u001b[0;34m(\u001b[0m\u001b[0;34mf\"None of [{key}] are in the [{axis_name}]\"\u001b[0m\u001b[0;34m)\u001b[0m\u001b[0;34m\u001b[0m\u001b[0;34m\u001b[0m\u001b[0m\n\u001b[0m\u001b[1;32m   1299\u001b[0m \u001b[0;34m\u001b[0m\u001b[0m\n\u001b[1;32m   1300\u001b[0m             \u001b[0;31m# We (temporarily) allow for some missing keys with .loc, except in\u001b[0m\u001b[0;34m\u001b[0m\u001b[0;34m\u001b[0m\u001b[0;34m\u001b[0m\u001b[0m\n",
            "\u001b[0;31mKeyError\u001b[0m: \"None of [Index(['impressions', 'clicks', 'cost', 'conversions', 'ad_ad 1', 'ad_ad 10',\\n       'ad_ad 2', 'ad_ad 3', 'ad_ad 4', 'ad_ad 5', 'ad_ad 55', 'ad_ad 56',\\n       'ad_ad 6', 'ad_ad 7', 'ad_ad 71', 'ad_ad 72', 'ad_ad 73', 'ad_ad 74',\\n       'ad_ad 75', 'ad_ad 8'],\\n      dtype='object')] are in the [columns]\""
          ]
        }
      ]
    },
    {
      "cell_type": "code",
      "metadata": {
        "colab": {
          "base_uri": "https://localhost:8080/",
          "height": 1000
        },
        "id": "p-QtPiCpEcJ0",
        "outputId": "14627519-fb54-47a2-b53f-bd825661a164"
      },
      "source": [
        "#Plot\n",
        "df.hist(column='impressions',bins=20,figsize=(10,5))\n",
        "df.hist(column='clicks',bins=20,figsize=(10,5))\n",
        "df.hist(column='cost',bins=20,figsize=(10,5))\n",
        "df.hist(column='conversions',bins=20,figsize=(10,5))\n",
        "df.hist(column='cpa',bins=20,figsize=(10,5))\n",
        "df.hist(column='cpc',bins=20,figsize=(10,5))\n",
        "df.hist(column='ctr',bins=20,figsize=(10,5))"
      ],
      "execution_count": null,
      "outputs": [
        {
          "output_type": "execute_result",
          "data": {
            "text/plain": [
              "array([[<matplotlib.axes._subplots.AxesSubplot object at 0x7fdcb5402790>]],\n",
              "      dtype=object)"
            ]
          },
          "metadata": {
            "tags": []
          },
          "execution_count": 64
        },
        {
          "output_type": "display_data",
          "data": {
            "image/png": "[encoded data removed]",
            "text/plain": [
              "<Figure size 720x360 with 1 Axes>"
            ]
          },
          "metadata": {
            "tags": [],
            "needs_background": "light"
          }
        },
        {
          "output_type": "display_data",
          "data": {
            "image/png": "[encoded data removed]",
            "text/plain": [
              "<Figure size 720x360 with 1 Axes>"
            ]
          },
          "metadata": {
            "tags": [],
            "needs_background": "light"
          }
        },
        {
          "output_type": "display_data",
          "data": {
            "image/png": "[encoded data removed]",
            "text/plain": [
              "<Figure size 720x360 with 1 Axes>"
            ]
          },
          "metadata": {
            "tags": [],
            "needs_background": "light"
          }
        },
        {
          "output_type": "display_data",
          "data": {
            "image/png": "[encoded data removed]",
            "text/plain": [
              "<Figure size 720x360 with 1 Axes>"
            ]
          },
          "metadata": {
            "tags": [],
            "needs_background": "light"
          }
        },
        {
          "output_type": "display_data",
          "data": {
            "image/png": "[encoded data removed]",
            "text/plain": [
              "<Figure size 720x360 with 1 Axes>"
            ]
          },
          "metadata": {
            "tags": [],
            "needs_background": "light"
          }
        },
        {
          "output_type": "display_data",
          "data": {
            "image/png": "[encoded data removed]",
            "text/plain": [
              "<Figure size 720x360 with 1 Axes>"
            ]
          },
          "metadata": {
            "tags": [],
            "needs_background": "light"
          }
        },
        {
          "output_type": "display_data",
          "data": {
            "image/png": "[encoded data removed]",
            "text/plain": [
              "<Figure size 720x360 with 1 Axes>"
            ]
          },
          "metadata": {
            "tags": [],
            "needs_background": "light"
          }
        }
      ]
    },
    {
      "cell_type": "code",
      "metadata": {
        "colab": {
          "base_uri": "https://localhost:8080/"
        },
        "id": "4E78wU58u53z",
        "outputId": "e87e55ea-1932-4bd5-c39e-e43d46d2d41e"
      },
      "source": [
        "#Outlier detection and removal\n",
        "#for cpa\n",
        "print(df.columns)\n",
        "a1,a2 = df.clicks.mean(),df.clicks.std()\n",
        "df['z_clicks'] = (df.clicks-a1)/a2\n",
        "b1,b2 = df.impressions.mean(),df.impressions.std()\n",
        "df['z_imp'] = (df.impressions-b1)/b2\n",
        "#c1,c2 = df.cpa.ean(),df.cpa.std()\n",
        "#df['z_cpa'] = (df.cpa-c1)/c2\n",
        "d1,d2 = df.ctr.mean(),df.ctr.std()\n",
        "df['z_ctr'] = (df.ctr-d1)/d2\n",
        "e1,e2 = df.cpc.mean(),df.cpc.std()\n",
        "df['z_cpc'] = (df.cpc-e1)/e2\n",
        "f1,f2 = df.cost.mean(),df.cost.std()\n",
        "df['z_cost']=(df.cost-f1)/f2\n",
        "g1,g2 = df.conversions.mean(),df.conversions.std()\n",
        "df['z_conv'] = (df.conversions-g1)/g2\n",
        "\n",
        "print(df[(df.z_clicks>3)|(df.z_clicks<-3)])\n",
        "print(df[(df.z_imp>3)|(df.z_imp<-3)])\n",
        "print(df[(df.z_ctr>3)|(df.z_ctr<-3)])\n",
        "print(df[(df.z_cpc>3)|(df.cpc<-3)])\n",
        "print(df[(df.z_cost>3)|(df.z_cost<-3)])\n",
        "print(df[(df.z_conv>3)|(df.z_conv<-3)])\n"
      ],
      "execution_count": null,
      "outputs": [
        {
          "output_type": "stream",
          "text": [
            "Index(['date', 'ad', 'impressions', 'clicks', 'cost', 'conversions', 'revenue',\n",
            "       'ctr', 'cpc', 'cpa', 'adgroup 1', 'adgroup 2', 'adgroup 3',\n",
            "       'adgroup 4'],\n",
            "      dtype='object')\n",
            "            date     ad  impressions  ...     z_cpc    z_cost    z_conv\n",
            "520   30-08-2020  ad 13          828  ...  0.239836  2.544920  3.380775\n",
            "532   31-08-2020  ad 15          772  ...  0.072645  1.721196  3.955056\n",
            "541   01-09-2020   ad 2          798  ... -0.187783  0.751250  2.423640\n",
            "653   06-09-2020  ad 18          749  ... -0.143185  0.875888  1.466504\n",
            "666   07-09-2020  ad 18         1010  ... -0.176702  1.123771  0.700796\n",
            "...          ...    ...          ...  ...       ...       ...       ...\n",
            "2797  18-12-2020   ad 2          826  ... -0.365853  0.089765  0.892223\n",
            "2879  21-12-2020   ad 2          873  ... -0.363224  0.105083  1.466504\n",
            "2908  22-12-2020   ad 2          786  ... -0.363478  0.096728  0.892223\n",
            "4215  13-02-2021  ad 66          776  ... -0.300166  0.372463  4.912191\n",
            "4220  13-02-2021  ad 66          919  ... -0.240962  0.511723  6.635034\n",
            "\n",
            "[63 rows x 20 columns]\n",
            "            date     ad  impressions  ...     z_cpc    z_cost    z_conv\n",
            "520   30-08-2020  ad 13          828  ...  0.239836  2.544920  3.380775\n",
            "532   31-08-2020  ad 15          772  ...  0.072645  1.721196  3.955056\n",
            "541   01-09-2020   ad 2          798  ... -0.187783  0.751250  2.423640\n",
            "653   06-09-2020  ad 18          749  ... -0.143185  0.875888  1.466504\n",
            "664   07-09-2020  ad 18          710  ... -0.258120  0.410759  1.657932\n",
            "...          ...    ...          ...  ...       ...       ...       ...\n",
            "3816  27-01-2021   ad 2          699  ... -0.248593  0.364107  1.657932\n",
            "3839  28-01-2021   ad 2          691  ... -0.270760  0.265929  1.083650\n",
            "3962  02-02-2021   ad 2          741  ... -0.339024  0.156610  0.700796\n",
            "4215  13-02-2021  ad 66          776  ... -0.300166  0.372463  4.912191\n",
            "4220  13-02-2021  ad 66          919  ... -0.240962  0.511723  6.635034\n",
            "\n",
            "[88 rows x 20 columns]\n",
            "            date     ad  impressions  ...      z_cpc    z_cost    z_conv\n",
            "477   27-08-2020  ad 11            1  ...   0.663910 -0.174133 -0.256339\n",
            "841   19-09-2020   ad 2            2  ...  -0.229286 -0.188755 -0.256339\n",
            "1226  12-10-2020   ad 1            2  ...   1.408241 -0.125392 -0.256339\n",
            "1497  26-10-2020   ad 3            1  ...  -0.303719 -0.192237 -0.256339\n",
            "1625  31-10-2020  ad 32            1  ...  10.042473  0.001335 -0.256339\n",
            "1874  09-11-2020   ad 5            4  ...   0.827663 -0.135140 -0.256339\n",
            "2189  22-11-2020  ad 32            1  ...  -0.303719 -0.192237 -0.256339\n",
            "2422  04-12-2020   ad 2            3  ...  -0.359544 -0.191541 -0.064912\n",
            "2509  07-12-2020  ad 32            1  ...  -0.303719 -0.192237 -0.256339\n",
            "3214  02-01-2021  ad 54            3  ...  -0.359544 -0.191541 -0.256339\n",
            "4169  10-02-2021  ad 63            5  ...  -0.278908 -0.185274 -0.256339\n",
            "4192  12-02-2021  ad 65            1  ...  -0.303719 -0.192237 -0.256339\n",
            "\n",
            "[12 rows x 20 columns]\n",
            "            date     ad  impressions  ...      z_cpc    z_cost    z_conv\n",
            "497   28-08-2020  ad 13           14  ...   3.768831  0.081409 -0.256339\n",
            "508   29-08-2020  ad 13           18  ...   4.937607  0.410063 -0.256339\n",
            "934   24-09-2020   ad 3            1  ...  27.906401  0.070268 -0.256339\n",
            "936   24-09-2020   ad 3           33  ...   4.818627  0.347396 -0.256339\n",
            "952   25-09-2020   ad 2            3  ...   8.851544 -0.020947 -0.256339\n",
            "...          ...    ...          ...  ...        ...       ...       ...\n",
            "1846  08-11-2020  ad 32            1  ...   6.023089 -0.134444 -0.256339\n",
            "1923  11-11-2020   ad 1            2  ...   5.576491 -0.138622 -0.256339\n",
            "1959  12-11-2020   ad 3            2  ...   3.790098 -0.155333 -0.256339\n",
            "2269  27-11-2020  ad 43            4  ...   3.517177 -0.083614 -0.256339\n",
            "3577  17-01-2021  ad 55           13  ...   3.641232 -0.156726 -0.256339\n",
            "\n",
            "[68 rows x 20 columns]\n",
            "            date     ad  impressions  ...     z_cpc     z_cost     z_conv\n",
            "483   27-08-2020  ad 13          398  ...  2.003309   4.124129   1.083650\n",
            "963   25-09-2020   ad 8          348  ...  1.856484   3.714704   0.509369\n",
            "982   26-09-2020   ad 8          442  ...  1.564480   3.805223  -0.064912\n",
            "1137  06-10-2020  ad 25          718  ...  0.669113   3.708438   2.423640\n",
            "1146  07-10-2020  ad 25          794  ...  0.802690   4.830874   2.423640\n",
            "1154  07-10-2020  ad 26          443  ...  1.616097   4.468798   1.466504\n",
            "1168  08-10-2020  ad 28         1776  ...  0.507289   9.026780  13.909262\n",
            "1184  09-10-2020  ad 28         1611  ...  0.086137   4.406131  11.803564\n",
            "1198  10-10-2020  ad 30          758  ...  2.994877   9.899244   4.146483\n",
            "1201  10-10-2020  ad 31         1225  ...  2.189414   9.641613   6.826461\n",
            "1211  11-10-2020   ad 2          777  ...  2.515397   7.107080   1.466504\n",
            "1231  12-10-2020   ad 2          586  ...  2.035653   4.902593   0.317942\n",
            "1305  16-10-2020   ad 2          680  ...  1.216842   4.724340   2.040786\n",
            "1325  17-10-2020   ad 2          655  ...  1.288921   4.073299   1.083650\n",
            "1343  18-10-2020   ad 2          651  ...  1.276759   4.722947   2.040786\n",
            "1792  06-11-2020  ad 32          630  ...  0.789501   3.372125   0.126515\n",
            "1818  07-11-2020  ad 32          665  ...  0.593011   3.101264   0.700796\n",
            "1920  10-11-2020  ad 38         1268  ...  0.238389   4.142233   1.849359\n",
            "1935  11-11-2020  ad 32          853  ...  0.524679   4.184011   1.466504\n",
            "1936  11-11-2020  ad 32         1021  ...  0.430678   4.448605   2.806494\n",
            "2247  25-11-2020  ad 42         1949  ...  0.735245  12.883588   4.912191\n",
            "2248  25-11-2020  ad 42         2023  ...  1.087362  15.694552   7.209316\n",
            "2252  26-11-2020  ad 43         1435  ...  0.524929   7.724002   8.932159\n",
            "2253  26-11-2020  ad 43         2151  ...  0.394335   8.266420  15.440678\n",
            "2259  26-11-2020  ad 44         1895  ...  0.892119  12.774269  10.463575\n",
            "2261  26-11-2020  ad 44         1681  ...  0.550393   9.525331  12.760700\n",
            "2262  27-11-2020  ad 43         3239  ...  1.780196  36.795935  17.737803\n",
            "2264  27-11-2020  ad 43         1906  ...  1.203534  18.287575   7.975024\n",
            "2272  27-11-2020  ad 44         1799  ...  1.156580  16.634558  14.866397\n",
            "2273  27-11-2020  ad 44         1673  ...  1.796712  20.551944  11.037856\n",
            "2281  28-11-2020  ad 46         1159  ...  1.188832   8.618748   6.252180\n",
            "2284  28-11-2020  ad 47         1128  ...  1.284054   9.016335   7.400743\n",
            "2295  29-11-2020   ad 2          954  ...  0.925042   5.256313   1.466504\n",
            "2324  30-11-2020   ad 2          895  ...  0.434394   3.381177   1.275077\n",
            "3564  17-01-2021   ad 2          659  ...  0.832952   3.088034   1.275077\n",
            "\n",
            "[35 rows x 20 columns]\n",
            "            date     ad  impressions  ...     z_cpc     z_cost     z_conv\n",
            "499   28-08-2020  ad 13          521  ...  0.693801   2.528905   3.380775\n",
            "519   30-08-2020  ad 13          536  ... -0.035877   0.795117   4.146483\n",
            "520   30-08-2020  ad 13          828  ...  0.239836   2.544920   3.380775\n",
            "529   31-08-2020  ad 15          508  ...  0.009985   0.873799   3.380775\n",
            "532   31-08-2020  ad 15          772  ...  0.072645   1.721196   3.955056\n",
            "669   08-09-2020  ad 16         1116  ... -0.217526   1.029770   4.337910\n",
            "678   08-09-2020  ad 18         1356  ... -0.197073   1.511610   6.635034\n",
            "679   08-09-2020  ad 18          567  ... -0.223579   0.447663   3.189348\n",
            "684   09-09-2020  ad 19         1833  ... -0.193236   2.359704   7.400743\n",
            "687   09-09-2020  ad 19         2101  ... -0.290675   1.542247  11.420710\n",
            "688   09-09-2020  ad 19         1361  ... -0.215088   1.389061   8.740732\n",
            "690   09-09-2020  ad 19          610  ... -0.291877   0.334166   4.146483\n",
            "701   10-09-2020  ad 20         2009  ... -0.197012   2.253170  15.440678\n",
            "703   10-09-2020  ad 20         1657  ... -0.308056   1.081296  17.163521\n",
            "708   11-09-2020  ad 17          594  ... -0.330598   0.174713   4.146483\n",
            "715   11-09-2020  ad 20          739  ... -0.251594   0.457411   4.146483\n",
            "717   12-09-2020  ad 17          687  ... -0.322166   0.228328   3.189348\n",
            "734   13-09-2020  ad 21          546  ... -0.324174   0.119706   3.955056\n",
            "735   13-09-2020  ad 21         1058  ... -0.335161   0.442093   8.166451\n",
            "737   13-09-2020  ad 21          858  ... -0.324210   0.315366   4.912191\n",
            "1160  08-10-2020  ad 27          584  ...  0.244087   1.616751   5.103618\n",
            "1168  08-10-2020  ad 28         1776  ...  0.507289   9.026780  13.909262\n",
            "1171  08-10-2020  ad 28         1507  ... -0.042568   2.723869  13.334981\n",
            "1184  09-10-2020  ad 28         1611  ...  0.086137   4.406131  11.803564\n",
            "1186  09-10-2020  ad 28         1351  ... -0.135551   1.795004   7.783597\n",
            "1198  10-10-2020  ad 30          758  ...  2.994877   9.899244   4.146483\n",
            "1200  10-10-2020  ad 30          850  ... -0.044062   1.627892   8.740732\n",
            "1201  10-10-2020  ad 31         1225  ...  2.189414   9.641613   6.826461\n",
            "1204  10-10-2020  ad 31         1363  ... -0.114002   2.367363  16.014959\n",
            "2235  24-11-2020  ad 42         1077  ... -0.165654   1.340320   4.146483\n",
            "2236  24-11-2020  ad 42         1095  ... -0.327623   0.540271   3.189348\n",
            "2247  25-11-2020  ad 42         1949  ...  0.735245  12.883588   4.912191\n",
            "2248  25-11-2020  ad 42         2023  ...  1.087362  15.694552   7.209316\n",
            "2252  26-11-2020  ad 43         1435  ...  0.524929   7.724002   8.932159\n",
            "2253  26-11-2020  ad 43         2151  ...  0.394335   8.266420  15.440678\n",
            "2259  26-11-2020  ad 44         1895  ...  0.892119  12.774269  10.463575\n",
            "2261  26-11-2020  ad 44         1681  ...  0.550393   9.525331  12.760700\n",
            "2262  27-11-2020  ad 43         3239  ...  1.780196  36.795935  17.737803\n",
            "2264  27-11-2020  ad 43         1906  ...  1.203534  18.287575   7.975024\n",
            "2272  27-11-2020  ad 44         1799  ...  1.156580  16.634558  14.866397\n",
            "2273  27-11-2020  ad 44         1673  ...  1.796712  20.551944  11.037856\n",
            "2281  28-11-2020  ad 46         1159  ...  1.188832   8.618748   6.252180\n",
            "2282  28-11-2020  ad 46          956  ... -0.195017   1.113326   4.720764\n",
            "2284  28-11-2020  ad 47         1128  ...  1.284054   9.016335   7.400743\n",
            "2286  28-11-2020  ad 47         1328  ... -0.037740   2.897944   9.697867\n",
            "4215  13-02-2021  ad 66          776  ... -0.300166   0.372463   4.912191\n",
            "4220  13-02-2021  ad 66          919  ... -0.240962   0.511723   6.635034\n",
            "4233  14-02-2021  ad 68          497  ... -0.272085   0.142684   3.380775\n",
            "4240  14-02-2021  ad 66          351  ... -0.321648  -0.027214   3.955056\n",
            "4267  16-02-2021  ad 68          588  ... -0.295119   0.174713   3.380775\n",
            "\n",
            "[50 rows x 20 columns]\n"
          ],
          "name": "stdout"
        }
      ]
    },
    {
      "cell_type": "code",
      "metadata": {
        "colab": {
          "base_uri": "https://localhost:8080/"
        },
        "id": "21gJUmIa0nlA",
        "outputId": "e1a8e6c0-be62-44a3-964e-d9c9e18296e6"
      },
      "source": [
        "#creating outlier free dataframe\n",
        "df_no = df[(df.z_clicks>-3)&(df.z_clicks<3)&(df.z_imp>-3)&(df.z_imp<3)&(df.z_ctr>-3)&(df.z_ctr<3)&(df.z_cpc>-3)&(df.z_cpc<3)&(df.z_cost>-3)&(df.z_cost<3)&(df.z_conv>-3)&(df.z_conv<3)]\n",
        "df_no.head()\n",
        "print(df.shape)\n",
        "print(df_no.shape)"
      ],
      "execution_count": null,
      "outputs": [
        {
          "output_type": "stream",
          "text": [
            "(4571, 20)\n",
            "(4381, 20)\n"
          ],
          "name": "stdout"
        }
      ]
    },
    {
      "cell_type": "code",
      "metadata": {
        "colab": {
          "base_uri": "https://localhost:8080/",
          "height": 691
        },
        "id": "-54eBmyu1m_W",
        "outputId": "3fe41cce-5a91-4e8f-a2ad-df7394022f13"
      },
      "source": [
        "df_no.columns\n",
        "f2 = ['impressions', 'clicks', 'cost', 'conversions', 'ctr', 'cpc', 'cpa']\n",
        "X1 = df_no[f2]\n",
        "y1 = df_no.revenue\n",
        "       \n",
        "#X1 = df_no[f1]  \n",
        "#y1 = df_no.revenue   \n",
        "f3 = ['impressions', 'clicks', 'cost', 'conversions','adgroup 1', 'adgroup 2', 'adgroup 3', 'adgroup 4']\n",
        "df_no2 = df[(df.z_clicks>-3)&(df.z_clicks<3)&(df.z_imp>-3)&(df.z_imp<3)&(df.z_cost>-3)&(df.z_cost<3)&(df.z_conv>-3)&(df.z_conv<3)]\n",
        "X2 = df_no2[f3]\n",
        "y2 = df_no2.revenue\n",
        "\n",
        "f4 = ['impressions', 'clicks', 'cost', 'conversions','adgroup 1', 'adgroup 2', 'adgroup 3', 'adgroup 4','ctr', 'cpc', 'cpa']\n",
        "\n",
        "\n",
        "df_no.hist(column='impressions',bins=20,figsize=(10,5))\n",
        "df_no.hist(column='clicks',bins=20,figsize=(10,5))"
      ],
      "execution_count": null,
      "outputs": [
        {
          "output_type": "execute_result",
          "data": {
            "text/plain": [
              "array([[<matplotlib.axes._subplots.AxesSubplot object at 0x7feb3fa25390>]],\n",
              "      dtype=object)"
            ]
          },
          "metadata": {
            "tags": []
          },
          "execution_count": 53
        },
        {
          "output_type": "display_data",
          "data": {
            "image/png": "[encoded data removed]",
            "text/plain": [
              "<Figure size 720x360 with 1 Axes>"
            ]
          },
          "metadata": {
            "tags": [],
            "needs_background": "light"
          }
        },
        {
          "output_type": "display_data",
          "data": {
            "image/png": "[encoded data removed]",
            "text/plain": [
              "<Figure size 720x360 with 1 Axes>"
            ]
          },
          "metadata": {
            "tags": [],
            "needs_background": "light"
          }
        }
      ]
    },
    {
      "cell_type": "code",
      "metadata": {
        "id": "YkZ2Sw-6EjT_"
      },
      "source": [
        "#df = df.reset_index()\n",
        "from sklearn.model_selection import train_test_split\n",
        "from sklearn.ensemble import RandomForestRegressor\n",
        "from sklearn.metrics import mean_absolute_error"
      ],
      "execution_count": null,
      "outputs": []
    },
    {
      "cell_type": "code",
      "metadata": {
        "id": "Tmp21ZRoFIW6",
        "colab": {
          "base_uri": "https://localhost:8080/"
        },
        "outputId": "6ab436f7-9252-436a-fdb8-ea975b1b9a6e"
      },
      "source": [
        "pf = pd.read_csv('Test_Data.csv')\n",
        "pf['ctr'] = (pf.clicks)/pf.impressions\n",
        "pf['cpc'] = pf.cost/pf.clicks\n",
        "pf['cpa'] = pf.cost/pf.conversions\n",
        "pf.replace([np.inf, -np.inf], np.nan, inplace=True)\n",
        "pf.fillna(pf.median(),inplace=True)\n",
        "print(pf.describe())\n",
        "print(pf.isnull().sum())"
      ],
      "execution_count": null,
      "outputs": [
        {
          "output_type": "stream",
          "text": [
            "             cost  impressions      clicks  ...         ctr         cpc         cpa\n",
            "count  318.000000   318.000000  318.000000  ...  318.000000  318.000000  318.000000\n",
            "mean     0.381352    67.144654   29.720126  ...    0.444215    0.013195    0.409093\n",
            "std      0.591480   101.078870   45.200014  ...    0.254377    0.004077    0.299648\n",
            "min      0.000000     1.000000    0.000000  ...    0.000000    0.010000    0.010000\n",
            "25%      0.020000     4.000000    2.000000  ...    0.333333    0.011341    0.356667\n",
            "50%      0.105000    20.000000    9.000000  ...    0.441969    0.012500    0.356667\n",
            "75%      0.490000   103.000000   40.750000  ...    0.533614    0.014000    0.356667\n",
            "max      3.530000   589.000000  276.000000  ...    2.000000    0.060000    3.360000\n",
            "\n",
            "[8 rows x 7 columns]\n",
            "date           0\n",
            "campaign       0\n",
            "adgroup        0\n",
            "ad             0\n",
            "cost           0\n",
            "impressions    0\n",
            "clicks         0\n",
            "conversions    0\n",
            "ctr            0\n",
            "cpc            0\n",
            "cpa            0\n",
            "dtype: int64\n"
          ],
          "name": "stdout"
        }
      ]
    },
    {
      "cell_type": "code",
      "metadata": {
        "id": "pfxWg52pFZ6v"
      },
      "source": [
        "pf['ad'] =  pf['ad'].str.replace(' ','_')"
      ],
      "execution_count": null,
      "outputs": []
    },
    {
      "cell_type": "code",
      "metadata": {
        "id": "AJPsJYw7rCDY"
      },
      "source": [
        "\n",
        "def clean_dataset(pf):\n",
        "    assert isinstance(pf, pd.DataFrame), \"df needs to be a pd.DataFrame\"\n",
        "    pf.dropna(inplace=True)\n",
        "    indices_to_keep = ~pf.isin([np.nan, np.inf, -np.inf]).any(1)\n",
        "    return pf[indices_to_keep].astype(np.float64)"
      ],
      "execution_count": null,
      "outputs": []
    },
    {
      "cell_type": "code",
      "metadata": {
        "id": "6fFJfwlnGkRB"
      },
      "source": [
        "test_X = pf[f1]"
      ],
      "execution_count": null,
      "outputs": []
    },
    {
      "cell_type": "code",
      "metadata": {
        "id": "lRi2rWFtFz_Q",
        "colab": {
          "base_uri": "https://localhost:8080/"
        },
        "outputId": "10db188c-1683-4e48-c135-b98d42896379"
      },
      "source": [
        "\n",
        "#test_X = pd.get_dummies(test_X)\n",
        "test_X1 = pf[f2]\n",
        "test_X2 = pf[f3]\n",
        "test_X.columns"
      ],
      "execution_count": null,
      "outputs": [
        {
          "output_type": "execute_result",
          "data": {
            "text/plain": [
              "Index(['impressions', 'clicks', 'cost', 'conversions', 'adgroup 1',\n",
              "       'adgroup 2', 'adgroup 3', 'adgroup 4'],\n",
              "      dtype='object')"
            ]
          },
          "metadata": {
            "tags": []
          },
          "execution_count": 46
        }
      ]
    },
    {
      "cell_type": "code",
      "metadata": {
        "id": "mD1yH7O1F3Iv"
      },
      "source": [
        "from sklearn.preprocessing import StandardScaler\n",
        "scaler = StandardScaler()\n",
        "X_train_scaled = scaler.fit_transform(X)\n",
        "X_test_scaled = scaler.transform(test_X)\n",
        "model1 = RandomForestRegressor(random_state=1)\n",
        "model1.fit(X_train_scaled,y)\n",
        "ans1 = model1.predict(X_test_scaled)"
      ],
      "execution_count": null,
      "outputs": []
    },
    {
      "cell_type": "code",
      "metadata": {
        "colab": {
          "base_uri": "https://localhost:8080/",
          "height": 423
        },
        "id": "X3cHg4Z_pdB5",
        "outputId": "4c1eb9e4-8da0-4eb6-d1ea-0e6195b891d8"
      },
      "source": [
        "test_x5 = pf['conversions']\n",
        "train_x5 = df['conversions']\n",
        "model1 = RandomForestRegressor(random_state=1)\n",
        "model1.fit(train_x5,y)\n",
        "ans1 = model1.predict(test_x5)"
      ],
      "execution_count": null,
      "outputs": [
        {
          "output_type": "error",
          "ename": "ValueError",
          "evalue": "ignored",
          "traceback": [
            "\u001b[0;31m---------------------------------------------------------------------------\u001b[0m",
            "\u001b[0;31mValueError\u001b[0m                                Traceback (most recent call last)",
            "\u001b[0;32m<ipython-input-55-73089b2df6fe>\u001b[0m in \u001b[0;36m<module>\u001b[0;34m()\u001b[0m\n\u001b[1;32m      2\u001b[0m \u001b[0mtrain_x5\u001b[0m \u001b[0;34m=\u001b[0m \u001b[0mdf\u001b[0m\u001b[0;34m[\u001b[0m\u001b[0;34m'conversions'\u001b[0m\u001b[0;34m]\u001b[0m\u001b[0;34m\u001b[0m\u001b[0;34m\u001b[0m\u001b[0m\n\u001b[1;32m      3\u001b[0m \u001b[0mmodel1\u001b[0m \u001b[0;34m=\u001b[0m \u001b[0mRandomForestRegressor\u001b[0m\u001b[0;34m(\u001b[0m\u001b[0mrandom_state\u001b[0m\u001b[0;34m=\u001b[0m\u001b[0;36m1\u001b[0m\u001b[0;34m)\u001b[0m\u001b[0;34m\u001b[0m\u001b[0;34m\u001b[0m\u001b[0m\n\u001b[0;32m----> 4\u001b[0;31m \u001b[0mmodel1\u001b[0m\u001b[0;34m.\u001b[0m\u001b[0mfit\u001b[0m\u001b[0;34m(\u001b[0m\u001b[0mtrain_x5\u001b[0m\u001b[0;34m,\u001b[0m\u001b[0my\u001b[0m\u001b[0;34m)\u001b[0m\u001b[0;34m\u001b[0m\u001b[0;34m\u001b[0m\u001b[0m\n\u001b[0m\u001b[1;32m      5\u001b[0m \u001b[0mans1\u001b[0m \u001b[0;34m=\u001b[0m \u001b[0mmodel1\u001b[0m\u001b[0;34m.\u001b[0m\u001b[0mpredict\u001b[0m\u001b[0;34m(\u001b[0m\u001b[0mtest_x5\u001b[0m\u001b[0;34m)\u001b[0m\u001b[0;34m\u001b[0m\u001b[0;34m\u001b[0m\u001b[0m\n",
            "\u001b[0;32m/usr/local/lib/python3.7/dist-packages/sklearn/ensemble/_forest.py\u001b[0m in \u001b[0;36mfit\u001b[0;34m(self, X, y, sample_weight)\u001b[0m\n\u001b[1;32m    293\u001b[0m         \"\"\"\n\u001b[1;32m    294\u001b[0m         \u001b[0;31m# Validate or convert input data\u001b[0m\u001b[0;34m\u001b[0m\u001b[0;34m\u001b[0m\u001b[0;34m\u001b[0m\u001b[0m\n\u001b[0;32m--> 295\u001b[0;31m         \u001b[0mX\u001b[0m \u001b[0;34m=\u001b[0m \u001b[0mcheck_array\u001b[0m\u001b[0;34m(\u001b[0m\u001b[0mX\u001b[0m\u001b[0;34m,\u001b[0m \u001b[0maccept_sparse\u001b[0m\u001b[0;34m=\u001b[0m\u001b[0;34m\"csc\"\u001b[0m\u001b[0;34m,\u001b[0m \u001b[0mdtype\u001b[0m\u001b[0;34m=\u001b[0m\u001b[0mDTYPE\u001b[0m\u001b[0;34m)\u001b[0m\u001b[0;34m\u001b[0m\u001b[0;34m\u001b[0m\u001b[0m\n\u001b[0m\u001b[1;32m    296\u001b[0m         \u001b[0my\u001b[0m \u001b[0;34m=\u001b[0m \u001b[0mcheck_array\u001b[0m\u001b[0;34m(\u001b[0m\u001b[0my\u001b[0m\u001b[0;34m,\u001b[0m \u001b[0maccept_sparse\u001b[0m\u001b[0;34m=\u001b[0m\u001b[0;34m'csc'\u001b[0m\u001b[0;34m,\u001b[0m \u001b[0mensure_2d\u001b[0m\u001b[0;34m=\u001b[0m\u001b[0;32mFalse\u001b[0m\u001b[0;34m,\u001b[0m \u001b[0mdtype\u001b[0m\u001b[0;34m=\u001b[0m\u001b[0;32mNone\u001b[0m\u001b[0;34m)\u001b[0m\u001b[0;34m\u001b[0m\u001b[0;34m\u001b[0m\u001b[0m\n\u001b[1;32m    297\u001b[0m         \u001b[0;32mif\u001b[0m \u001b[0msample_weight\u001b[0m \u001b[0;32mis\u001b[0m \u001b[0;32mnot\u001b[0m \u001b[0;32mNone\u001b[0m\u001b[0;34m:\u001b[0m\u001b[0;34m\u001b[0m\u001b[0;34m\u001b[0m\u001b[0m\n",
            "\u001b[0;32m/usr/local/lib/python3.7/dist-packages/sklearn/utils/validation.py\u001b[0m in \u001b[0;36mcheck_array\u001b[0;34m(array, accept_sparse, accept_large_sparse, dtype, order, copy, force_all_finite, ensure_2d, allow_nd, ensure_min_samples, ensure_min_features, warn_on_dtype, estimator)\u001b[0m\n\u001b[1;32m    554\u001b[0m                     \u001b[0;34m\"Reshape your data either using array.reshape(-1, 1) if \"\u001b[0m\u001b[0;34m\u001b[0m\u001b[0;34m\u001b[0m\u001b[0m\n\u001b[1;32m    555\u001b[0m                     \u001b[0;34m\"your data has a single feature or array.reshape(1, -1) \"\u001b[0m\u001b[0;34m\u001b[0m\u001b[0;34m\u001b[0m\u001b[0m\n\u001b[0;32m--> 556\u001b[0;31m                     \"if it contains a single sample.\".format(array))\n\u001b[0m\u001b[1;32m    557\u001b[0m \u001b[0;34m\u001b[0m\u001b[0m\n\u001b[1;32m    558\u001b[0m         \u001b[0;31m# in the future np.flexible dtypes will be handled like object dtypes\u001b[0m\u001b[0;34m\u001b[0m\u001b[0;34m\u001b[0m\u001b[0;34m\u001b[0m\u001b[0m\n",
            "\u001b[0;31mValueError\u001b[0m: Expected 2D array, got 1D array instead:\narray=[0. 0. 0. ... 1. 0. 0.].\nReshape your data either using array.reshape(-1, 1) if your data has a single feature or array.reshape(1, -1) if it contains a single sample."
          ]
        }
      ]
    },
    {
      "cell_type": "code",
      "metadata": {
        "colab": {
          "base_uri": "https://localhost:8080/"
        },
        "id": "69-7zGfawctm",
        "outputId": "4f17a67c-8f5e-47ce-f86a-df69c552c73b"
      },
      "source": [
        "#keras regression\n",
        "import tensorflow as tf\n",
        "\n",
        "from tensorflow import keras\n",
        "from tensorflow.keras import layers\n",
        "from tensorflow.keras.layers.experimental import preprocessing\n",
        "\n",
        "df1 = df.copy()\n",
        "df1.describe().transpose()\n",
        "normalizer = preprocessing.Normalization(axis=-1)\n",
        "normalizer.adapt(np.array(df1[f1]))\n",
        "print(normalizer.mean.numpy())\n",
        "\n",
        "linear_model = tf.keras.Sequential([\n",
        "    normalizer,\n",
        "    layers.Dense(units=1)\n",
        "])\n",
        "linear_model.predict(df1[f1])\n",
        "linear_model.layers[1].kernel\n",
        "linear_model.compile(\n",
        "    optimizer=tf.optimizers.Adam(learning_rate=0.1),\n",
        "    loss='mean_absolute_error')\n",
        "#%%time\n",
        "history = linear_model.fit(\n",
        "    X,y, \n",
        "    epochs=100,\n",
        "    # suppress logging\n",
        "    verbose=0,\n",
        "    # Calculate validation results on 20% of the training data\n",
        "    validation_split = 0.2)"
      ],
      "execution_count": null,
      "outputs": [
        {
          "output_type": "stream",
          "text": [
            "[92.63575    43.34082     2.8008335   1.3390944   0.28746447  0.15904617\n",
            "  0.36578426  0.18770517]\n"
          ],
          "name": "stdout"
        }
      ]
    },
    {
      "cell_type": "code",
      "metadata": {
        "colab": {
          "base_uri": "https://localhost:8080/",
          "height": 346
        },
        "id": "dtKgrDju7SOQ",
        "outputId": "3cf7d136-7082-4a12-d478-87f982e83cef"
      },
      "source": [
        "ans3 = linear_model.evaluate(\n",
        "    pf[f1],test_X, verbose=0)\n",
        "result4 = pd.DataFrame(ans3)\n",
        "#res = pd.DataFrame(predictions)## #preditcions are nothing but the final predictions of your model on input features of your new unseen test data\n",
        "\n",
        "result4.columns = ['revenue']\n",
        "\n",
        "# To download the csv file locally\n",
        "from google.colab import files\n",
        "result4.to_csv('prediction_results.csv')         \n",
        "files.download('prediction_results.csv')"
      ],
      "execution_count": null,
      "outputs": [
        {
          "output_type": "error",
          "ename": "ValueError",
          "evalue": "ignored",
          "traceback": [
            "\u001b[0;31m---------------------------------------------------------------------------\u001b[0m",
            "\u001b[0;31mValueError\u001b[0m                                Traceback (most recent call last)",
            "\u001b[0;32m<ipython-input-49-4c9213ec1c9b>\u001b[0m in \u001b[0;36m<module>\u001b[0;34m()\u001b[0m\n\u001b[1;32m      1\u001b[0m ans3 = linear_model.evaluate(\n\u001b[1;32m      2\u001b[0m     pf[f1],test_X, verbose=0)\n\u001b[0;32m----> 3\u001b[0;31m \u001b[0mresult4\u001b[0m \u001b[0;34m=\u001b[0m \u001b[0mpd\u001b[0m\u001b[0;34m.\u001b[0m\u001b[0mDataFrame\u001b[0m\u001b[0;34m(\u001b[0m\u001b[0mans3\u001b[0m\u001b[0;34m)\u001b[0m\u001b[0;34m\u001b[0m\u001b[0;34m\u001b[0m\u001b[0m\n\u001b[0m\u001b[1;32m      4\u001b[0m \u001b[0;31m#res = pd.DataFrame(predictions)## #preditcions are nothing but the final predictions of your model on input features of your new unseen test data\u001b[0m\u001b[0;34m\u001b[0m\u001b[0;34m\u001b[0m\u001b[0;34m\u001b[0m\u001b[0m\n\u001b[1;32m      5\u001b[0m \u001b[0;34m\u001b[0m\u001b[0m\n",
            "\u001b[0;32m/usr/local/lib/python3.7/dist-packages/pandas/core/frame.py\u001b[0m in \u001b[0;36m__init__\u001b[0;34m(self, data, index, columns, dtype, copy)\u001b[0m\n\u001b[1;32m    527\u001b[0m         \u001b[0;32melse\u001b[0m\u001b[0;34m:\u001b[0m\u001b[0;34m\u001b[0m\u001b[0;34m\u001b[0m\u001b[0m\n\u001b[1;32m    528\u001b[0m             \u001b[0;32mif\u001b[0m \u001b[0mindex\u001b[0m \u001b[0;32mis\u001b[0m \u001b[0;32mNone\u001b[0m \u001b[0;32mor\u001b[0m \u001b[0mcolumns\u001b[0m \u001b[0;32mis\u001b[0m \u001b[0;32mNone\u001b[0m\u001b[0;34m:\u001b[0m\u001b[0;34m\u001b[0m\u001b[0;34m\u001b[0m\u001b[0m\n\u001b[0;32m--> 529\u001b[0;31m                 \u001b[0;32mraise\u001b[0m \u001b[0mValueError\u001b[0m\u001b[0;34m(\u001b[0m\u001b[0;34m\"DataFrame constructor not properly called!\"\u001b[0m\u001b[0;34m)\u001b[0m\u001b[0;34m\u001b[0m\u001b[0;34m\u001b[0m\u001b[0m\n\u001b[0m\u001b[1;32m    530\u001b[0m \u001b[0;34m\u001b[0m\u001b[0m\n\u001b[1;32m    531\u001b[0m             \u001b[0;32mif\u001b[0m \u001b[0;32mnot\u001b[0m \u001b[0mdtype\u001b[0m\u001b[0;34m:\u001b[0m\u001b[0;34m\u001b[0m\u001b[0;34m\u001b[0m\u001b[0m\n",
            "\u001b[0;31mValueError\u001b[0m: DataFrame constructor not properly called!"
          ]
        }
      ]
    },
    {
      "cell_type": "code",
      "metadata": {
        "colab": {
          "base_uri": "https://localhost:8080/"
        },
        "id": "-Hm2h3mWGKWE",
        "outputId": "ffbab126-f572-47f9-fc8c-d7b5bbdb60d3"
      },
      "source": [
        "df.dtypes"
      ],
      "execution_count": null,
      "outputs": [
        {
          "output_type": "execute_result",
          "data": {
            "text/plain": [
              "date            object\n",
              "ad              object\n",
              "impressions      int64\n",
              "clicks           int64\n",
              "cost           float64\n",
              "conversions      int64\n",
              "revenue        float64\n",
              "ctr            float64\n",
              "cpc            float64\n",
              "cpa            float64\n",
              "adgroup 1        uint8\n",
              "adgroup 2        uint8\n",
              "adgroup 3        uint8\n",
              "adgroup 4        uint8\n",
              "dtype: object"
            ]
          },
          "metadata": {
            "tags": []
          },
          "execution_count": 138
        }
      ]
    },
    {
      "cell_type": "code",
      "metadata": {
        "colab": {
          "base_uri": "https://localhost:8080/"
        },
        "id": "fhJgaB7JHaAW",
        "outputId": "2eadb184-fb85-483a-f7c0-a4ab7b56914b"
      },
      "source": [
        "ans1"
      ],
      "execution_count": null,
      "outputs": [
        {
          "output_type": "execute_result",
          "data": {
            "text/plain": [
              "array([4.64820391, 5.67606864, 5.67606864, 5.67606864, 5.67606864,\n",
              "       5.67606864, 4.54197283, 5.67606864, 3.76773027, 5.67606864,\n",
              "       5.71571774, 5.67606864, 5.67606864, 5.75228098, 5.67606864,\n",
              "       4.324346  , 5.67606864, 4.06082102, 5.67606864, 4.25995715,\n",
              "       5.67606864, 5.67606864, 5.67606864, 5.91255576, 5.67606864,\n",
              "       5.67606864, 6.09834076, 4.98655393, 5.67606864, 5.67606864,\n",
              "       5.72383769, 5.67606864, 6.6402547 , 5.27181586, 4.96352324,\n",
              "       5.67606864, 4.07348177, 5.67606864, 5.67606864, 5.67606864,\n",
              "       5.67606864, 5.67606864, 5.67606864, 5.67606864, 5.67606864,\n",
              "       5.67606864, 5.67606864, 5.67606864, 5.67606864, 5.67606864,\n",
              "       5.67606864, 5.67606864, 5.67606864, 5.36248676, 5.24779356,\n",
              "       4.9156804 , 5.67606864, 5.67606864, 5.67606864, 6.69827891,\n",
              "       5.67606864, 5.66528805, 5.67606864, 5.33347063, 5.67606864,\n",
              "       5.67606864, 5.76158224, 4.74573528, 5.67606864, 5.67606864,\n",
              "       5.08756787, 5.67606864, 5.67606864, 5.67606864, 4.27587861,\n",
              "       4.86697141, 6.24953678, 5.67606864, 5.67606864, 5.67606864,\n",
              "       5.76963022, 4.29247396, 5.67606864, 4.99688766, 5.67606864,\n",
              "       5.67606864, 6.11636883, 7.26501941, 5.67606864, 5.78788864,\n",
              "       5.25938789, 5.87871825, 5.67606864, 6.33785127, 4.44873772,\n",
              "       5.67606864, 5.67606864, 5.67606864, 5.67606864, 5.67606864,\n",
              "       4.5503971 , 5.67606864, 5.67606864, 3.84643515, 5.67606864,\n",
              "       7.61069763, 5.67606864, 5.70449897, 5.67606864, 4.70801459,\n",
              "       5.67606864, 6.45563967, 5.67606864, 5.30572497, 5.67606864,\n",
              "       7.45425905, 5.67606864, 7.66762881, 5.87393323, 4.97600158,\n",
              "       5.67606864, 5.67606864, 5.94837323, 5.67606864, 5.67606864,\n",
              "       5.67606864, 6.01411662, 5.67606864, 4.57450032, 4.72190926,\n",
              "       5.67606864, 5.67606864, 5.67606864, 5.67606864, 6.5857169 ,\n",
              "       5.67606864, 5.67606864, 5.67606864, 5.86393172, 5.67606864,\n",
              "       5.31205868, 5.67606864, 5.67606864, 5.67606864, 4.76448466,\n",
              "       5.67606864, 5.67606864, 5.25878742, 6.01724144, 5.67606864,\n",
              "       5.67606864, 5.67606864, 6.37806745, 5.67606864, 5.42849861,\n",
              "       5.67606864, 6.65928644, 5.67606864, 5.67606864, 5.67606864,\n",
              "       3.86929171, 5.67606864, 5.67606864, 5.67606864, 5.25301802,\n",
              "       5.67606864, 5.18038713, 5.67606864, 5.67606864, 5.67606864,\n",
              "       5.67606864, 5.67606864, 5.67606864, 5.35628448, 5.67606864,\n",
              "       5.67606864, 5.67606864, 5.67606864, 5.40122434, 4.74266448,\n",
              "       5.67606864, 5.67606864, 5.67606864, 5.04362036, 5.67606864,\n",
              "       5.67606864, 4.63327921, 5.67606864, 4.41949715, 5.67606864,\n",
              "       5.67606864, 4.23830697, 5.67606864, 5.67606864, 5.67606864,\n",
              "       5.67606864, 5.67606864, 5.67606864, 5.67606864, 5.13407138,\n",
              "       4.26594693, 5.67606864, 5.04261966, 5.67606864, 5.67606864,\n",
              "       5.67606864, 4.62222661, 5.67606864, 5.67606864, 5.93264126,\n",
              "       5.67606864, 5.67606864, 5.67606864, 4.23196721, 5.7606686 ,\n",
              "       5.67606864, 5.67606864, 5.67606864, 5.67606864, 5.7428947 ,\n",
              "       5.67606864, 5.67606864, 5.67606864, 5.67606864, 5.67606864,\n",
              "       6.60185281, 5.67606864, 5.67606864, 4.63350427, 5.67606864,\n",
              "       5.79671367, 5.67606864, 5.67606864, 5.67606864, 5.67606864,\n",
              "       5.67606864, 5.67606864, 4.73646137, 5.67606864, 5.67606864,\n",
              "       5.67606864, 5.67606864, 5.67606864, 5.67606864, 5.67606864,\n",
              "       5.02051535, 5.67606864, 5.67606864, 5.67606864, 5.67606864,\n",
              "       6.12486775, 4.86392332, 5.67606864, 5.77613348, 5.67606864,\n",
              "       4.41145202, 5.67606864, 5.67606864, 4.45699244, 4.57467852,\n",
              "       5.67606864, 5.17985792, 5.67606864, 5.67606864, 5.67606864,\n",
              "       5.67606864, 5.67606864, 5.67606864, 5.67606864, 5.67606864,\n",
              "       5.89825249, 5.67606864, 5.67606864, 6.48498981, 5.67606864,\n",
              "       5.67606864, 5.67606864, 5.30410471, 4.47113199, 5.67606864,\n",
              "       5.67606864, 5.67606864, 5.67606864, 5.67606864, 5.41852902,\n",
              "       5.67606864, 4.53974575, 5.67606864, 5.67606864, 5.67606864,\n",
              "       5.67606864, 5.05171242, 5.67606864, 5.67606864, 5.33099103,\n",
              "       5.67606864, 5.67606864, 3.99938012, 5.67606864, 5.67606864,\n",
              "       5.67606864, 5.67606864, 6.11756005, 5.67606864, 5.67606864,\n",
              "       5.67606864, 6.44441566, 5.67606864, 5.67606864, 5.41290675,\n",
              "       4.46797892, 4.24470305, 5.67606864, 5.67606864, 5.67606864,\n",
              "       5.67606864, 5.67606864, 5.3473186 ])"
            ]
          },
          "metadata": {
            "tags": []
          },
          "execution_count": 139
        }
      ]
    },
    {
      "cell_type": "code",
      "metadata": {
        "colab": {
          "base_uri": "https://localhost:8080/",
          "height": 17
        },
        "id": "BCqHyfkcHcbS",
        "outputId": "bc3c12a2-8df9-4d1d-886f-2f160fe4491c"
      },
      "source": [
        "result = pd.DataFrame(ans1)\n",
        "#res = pd.DataFrame(predictions)## #preditcions are nothing but the final predictions of your model on input features of your new unseen test data\n",
        "\n",
        "result.columns = ['revenue']\n",
        "\n",
        "# To download the csv file locally\n",
        "from google.colab import files\n",
        "result.to_csv('prediction_results.csv')         \n",
        "files.download('prediction_results.csv')"
      ],
      "execution_count": null,
      "outputs": [
        {
          "output_type": "display_data",
          "data": {
            "application/javascript": [
              "\n",
              "    async function download(id, filename, size) {\n",
              "      if (!google.colab.kernel.accessAllowed) {\n",
              "        return;\n",
              "      }\n",
              "      const div = document.createElement('div');\n",
              "      const label = document.createElement('label');\n",
              "      label.textContent = `Downloading \"${filename}\": `;\n",
              "      div.appendChild(label);\n",
              "      const progress = document.createElement('progress');\n",
              "      progress.max = size;\n",
              "      div.appendChild(progress);\n",
              "      document.body.appendChild(div);\n",
              "\n",
              "      const buffers = [];\n",
              "      let downloaded = 0;\n",
              "\n",
              "      const channel = await google.colab.kernel.comms.open(id);\n",
              "      // Send a message to notify the kernel that we're ready.\n",
              "      channel.send({})\n",
              "\n",
              "      for await (const message of channel.messages) {\n",
              "        // Send a message to notify the kernel that we're ready.\n",
              "        channel.send({})\n",
              "        if (message.buffers) {\n",
              "          for (const buffer of message.buffers) {\n",
              "            buffers.push(buffer);\n",
              "            downloaded += buffer.byteLength;\n",
              "            progress.value = downloaded;\n",
              "          }\n",
              "        }\n",
              "      }\n",
              "      const blob = new Blob(buffers, {type: 'application/binary'});\n",
              "      const a = document.createElement('a');\n",
              "      a.href = window.URL.createObjectURL(blob);\n",
              "      a.download = filename;\n",
              "      div.appendChild(a);\n",
              "      a.click();\n",
              "      div.remove();\n",
              "    }\n",
              "  "
            ],
            "text/plain": [
              "<IPython.core.display.Javascript object>"
            ]
          },
          "metadata": {
            "tags": []
          }
        },
        {
          "output_type": "display_data",
          "data": {
            "application/javascript": [
              "download(\"download_aa1b773a-05c6-40ff-b4dd-ff4f71984877\", \"prediction_results.csv\", 5082)"
            ],
            "text/plain": [
              "<IPython.core.display.Javascript object>"
            ]
          },
          "metadata": {
            "tags": []
          }
        }
      ]
    },
    {
      "cell_type": "code",
      "metadata": {
        "colab": {
          "base_uri": "https://localhost:8080/"
        },
        "id": "qN1sIyM5IzQO",
        "outputId": "602d1661-7cac-49bd-cd77-6696beffc7c3"
      },
      "source": [
        "result.head"
      ],
      "execution_count": null,
      "outputs": [
        {
          "output_type": "execute_result",
          "data": {
            "text/plain": [
              "<bound method NDFrame.head of             0\n",
              "0    130.0658\n",
              "1      0.0000\n",
              "2      0.0000\n",
              "3      0.0000\n",
              "4      0.0000\n",
              "..        ...\n",
              "313    0.0000\n",
              "314    0.0000\n",
              "315    0.0000\n",
              "316    0.0000\n",
              "317  212.8630\n",
              "\n",
              "[318 rows x 1 columns]>"
            ]
          },
          "metadata": {
            "tags": []
          },
          "execution_count": 63
        }
      ]
    },
    {
      "cell_type": "code",
      "metadata": {
        "id": "IDF40_IaI0Rv"
      },
      "source": [
        ""
      ],
      "execution_count": null,
      "outputs": []
    },
    {
      "cell_type": "code",
      "metadata": {
        "colab": {
          "base_uri": "https://localhost:8080/"
        },
        "id": "CtSibwoiJF1G",
        "outputId": "fefeb617-210e-4dfd-cb57-62c9abb34f62"
      },
      "source": [
        "result.head"
      ],
      "execution_count": null,
      "outputs": [
        {
          "output_type": "execute_result",
          "data": {
            "text/plain": [
              "<bound method NDFrame.head of       revenue\n",
              "0    130.0658\n",
              "1      0.0000\n",
              "2      0.0000\n",
              "3      0.0000\n",
              "4      0.0000\n",
              "..        ...\n",
              "313    0.0000\n",
              "314    0.0000\n",
              "315    0.0000\n",
              "316    0.0000\n",
              "317  212.8630\n",
              "\n",
              "[318 rows x 1 columns]>"
            ]
          },
          "metadata": {
            "tags": []
          },
          "execution_count": 66
        }
      ]
    },
    {
      "cell_type": "code",
      "metadata": {
        "id": "_-GaPuqLJHkd",
        "colab": {
          "base_uri": "https://localhost:8080/",
          "height": 168
        },
        "outputId": "80b5c41b-9ac0-4da9-d462-77555011d639"
      },
      "source": [
        "new_test_data = pd.read_csv(\"testing_set_label.csv\" )"
      ],
      "execution_count": null,
      "outputs": [
        {
          "output_type": "error",
          "ename": "NameError",
          "evalue": "ignored",
          "traceback": [
            "\u001b[0;31m---------------------------------------------------------------------------\u001b[0m",
            "\u001b[0;31mNameError\u001b[0m                                 Traceback (most recent call last)",
            "\u001b[0;32m<ipython-input-1-aa7616116ed8>\u001b[0m in \u001b[0;36m<module>\u001b[0;34m()\u001b[0m\n\u001b[0;32m----> 1\u001b[0;31m \u001b[0mnew_test_data\u001b[0m \u001b[0;34m=\u001b[0m \u001b[0mpd\u001b[0m\u001b[0;34m.\u001b[0m\u001b[0mread_csv\u001b[0m\u001b[0;34m(\u001b[0m\u001b[0;34m\"testing_set_label.csv\"\u001b[0m \u001b[0;34m)\u001b[0m\u001b[0;34m\u001b[0m\u001b[0;34m\u001b[0m\u001b[0m\n\u001b[0m",
            "\u001b[0;31mNameError\u001b[0m: name 'pd' is not defined"
          ]
        }
      ]
    },
    {
      "cell_type": "code",
      "metadata": {
        "id": "EymeiODCq4OE"
      },
      "source": [
        "dk1 = pd.read_csv('https://www.epa.gov/sites/production/files/2015-10/huddscol.txt', sep=\"\t\")"
      ],
      "execution_count": null,
      "outputs": []
    },
    {
      "cell_type": "code",
      "metadata": {
        "colab": {
          "base_uri": "https://localhost:8080/"
        },
        "id": "47IbmwBurAq1",
        "outputId": "3f4c6358-5356-48fe-90b9-6dc4465f2237"
      },
      "source": [
        "dk1.head"
      ],
      "execution_count": null,
      "outputs": [
        {
          "output_type": "execute_result",
          "data": {
            "text/plain": [
              "<bound method NDFrame.head of         JPN15col.txt Japanese15 Dynamometer Driving Schedule\n",
              "0    Test Time, secs                      Vehicle Speed, kph\n",
              "1                  0                                       0\n",
              "2                  1                                       0\n",
              "3                  2                                       0\n",
              "4                  3                                       0\n",
              "..               ...                                     ...\n",
              "228              227                                       0\n",
              "229              228                                       0\n",
              "230              229                                       0\n",
              "231              230                                       0\n",
              "232              231                                       0\n",
              "\n",
              "[233 rows x 2 columns]>"
            ]
          },
          "metadata": {
            "tags": []
          },
          "execution_count": 16
        }
      ]
    },
    {
      "cell_type": "code",
      "metadata": {
        "colab": {
          "base_uri": "https://localhost:8080/",
          "height": 418
        },
        "id": "hw5i2jYjrC4J",
        "outputId": "16f36181-a2a0-4c94-e562-09832b24cf5f"
      },
      "source": [
        "dk1.head(100)"
      ],
      "execution_count": null,
      "outputs": [
        {
          "output_type": "execute_result",
          "data": {
            "text/html": [
              "<div>\n",
              "<style scoped>\n",
              "    .dataframe tbody tr th:only-of-type {\n",
              "        vertical-align: middle;\n",
              "    }\n",
              "\n",
              "    .dataframe tbody tr th {\n",
              "        vertical-align: top;\n",
              "    }\n",
              "\n",
              "    .dataframe thead th {\n",
              "        text-align: right;\n",
              "    }\n",
              "</style>\n",
              "<table border=\"1\" class=\"dataframe\">\n",
              "  <thead>\n",
              "    <tr style=\"text-align: right;\">\n",
              "      <th></th>\n",
              "      <th>HUDDSCOL.TXT</th>\n",
              "      <th>HDUDDS - Urban Dynamometer Driving Schedule for</th>\n",
              "    </tr>\n",
              "  </thead>\n",
              "  <tbody>\n",
              "    <tr>\n",
              "      <th>0</th>\n",
              "      <td>Heavy Duty Vehicles</td>\n",
              "      <td>NaN</td>\n",
              "    </tr>\n",
              "    <tr>\n",
              "      <th>1</th>\n",
              "      <td>Test Time, secs</td>\n",
              "      <td>Vehicle Speed, mph</td>\n",
              "    </tr>\n",
              "    <tr>\n",
              "      <th>2</th>\n",
              "      <td>0</td>\n",
              "      <td>0</td>\n",
              "    </tr>\n",
              "    <tr>\n",
              "      <th>3</th>\n",
              "      <td>1</td>\n",
              "      <td>0</td>\n",
              "    </tr>\n",
              "    <tr>\n",
              "      <th>4</th>\n",
              "      <td>2</td>\n",
              "      <td>0</td>\n",
              "    </tr>\n",
              "    <tr>\n",
              "      <th>...</th>\n",
              "      <td>...</td>\n",
              "      <td>...</td>\n",
              "    </tr>\n",
              "    <tr>\n",
              "      <th>95</th>\n",
              "      <td>93</td>\n",
              "      <td>21</td>\n",
              "    </tr>\n",
              "    <tr>\n",
              "      <th>96</th>\n",
              "      <td>94</td>\n",
              "      <td>21.11</td>\n",
              "    </tr>\n",
              "    <tr>\n",
              "      <th>97</th>\n",
              "      <td>95</td>\n",
              "      <td>23.84</td>\n",
              "    </tr>\n",
              "    <tr>\n",
              "      <th>98</th>\n",
              "      <td>96</td>\n",
              "      <td>27</td>\n",
              "    </tr>\n",
              "    <tr>\n",
              "      <th>99</th>\n",
              "      <td>97</td>\n",
              "      <td>27</td>\n",
              "    </tr>\n",
              "  </tbody>\n",
              "</table>\n",
              "<p>100 rows × 2 columns</p>\n",
              "</div>"
            ],
            "text/plain": [
              "           HUDDSCOL.TXT HDUDDS - Urban Dynamometer Driving Schedule for \n",
              "0   Heavy Duty Vehicles                                              NaN\n",
              "1       Test Time, secs                               Vehicle Speed, mph\n",
              "2                     0                                                0\n",
              "3                     1                                                0\n",
              "4                     2                                                0\n",
              "..                  ...                                              ...\n",
              "95                   93                                               21\n",
              "96                   94                                            21.11\n",
              "97                   95                                            23.84\n",
              "98                   96                                               27\n",
              "99                   97                                               27\n",
              "\n",
              "[100 rows x 2 columns]"
            ]
          },
          "metadata": {
            "tags": []
          },
          "execution_count": 32
        }
      ]
    },
    {
      "cell_type": "code",
      "metadata": {
        "colab": {
          "base_uri": "https://localhost:8080/"
        },
        "id": "fb0rYfwGuPuO",
        "outputId": "26988f24-fb4b-4a8c-9b94-9720d41cef29"
      },
      "source": [
        "from sklearn.model_selection import train_test_split\n",
        "from sklearn.ensemble import RandomForestRegressor\n",
        "from sklearn.metrics import mean_absolute_error\n",
        "from sklearn.tree import DecisionTreeRegressor\n",
        "\n",
        "\n",
        "traina,testa,trainb,testb = train_test_split(X,y,test_size=.33,random_state=47)\n",
        "m2 = RandomForestRegressor(random_state=101)\n",
        "m2.fit(traina,trainb)\n",
        "pred1 = m2.predict(testa)\n",
        "m3 = DecisionTreeRegressor(random_state=0)\n",
        "m3.fit(traina,trainb)\n",
        "pred2 = m3.predict(testa)\n",
        "print(mean_absolute_error(testb,pred1))\n",
        "print(mean_absolute_error(testb,pred2))\n"
      ],
      "execution_count": null,
      "outputs": [
        {
          "output_type": "stream",
          "text": [
            "78.610539441131\n",
            "99.68607687210071\n"
          ],
          "name": "stdout"
        }
      ]
    },
    {
      "cell_type": "code",
      "metadata": {
        "colab": {
          "base_uri": "https://localhost:8080/",
          "height": 168
        },
        "id": "S50wS-veQ6bE",
        "outputId": "26d7c303-1a7c-4f1d-af29-50892d074bec"
      },
      "source": [
        "pf.head"
      ],
      "execution_count": null,
      "outputs": [
        {
          "output_type": "error",
          "ename": "NameError",
          "evalue": "ignored",
          "traceback": [
            "\u001b[0;31m---------------------------------------------------------------------------\u001b[0m",
            "\u001b[0;31mNameError\u001b[0m                                 Traceback (most recent call last)",
            "\u001b[0;32m<ipython-input-4-285db5442e60>\u001b[0m in \u001b[0;36m<module>\u001b[0;34m()\u001b[0m\n\u001b[0;32m----> 1\u001b[0;31m \u001b[0mpf\u001b[0m\u001b[0;34m.\u001b[0m\u001b[0mhead\u001b[0m\u001b[0;34m\u001b[0m\u001b[0;34m\u001b[0m\u001b[0m\n\u001b[0m",
            "\u001b[0;31mNameError\u001b[0m: name 'pf' is not defined"
          ]
        }
      ]
    },
    {
      "cell_type": "code",
      "metadata": {
        "colab": {
          "base_uri": "https://localhost:8080/",
          "height": 418
        },
        "id": "8fCSCSSRh0v4",
        "outputId": "4128bd18-3565-4917-de48-a2a4152dd9d3"
      },
      "source": [
        "#df = df.fillna(df.median())\n",
        "#df.replace([np.inf, -np.inf], np.nan).dropna(axis=0)\n",
        "df.replace([np.inf, -np.inf], np.nan)"
      ],
      "execution_count": null,
      "outputs": [
        {
          "output_type": "execute_result",
          "data": {
            "text/html": [
              "<div>\n",
              "<style scoped>\n",
              "    .dataframe tbody tr th:only-of-type {\n",
              "        vertical-align: middle;\n",
              "    }\n",
              "\n",
              "    .dataframe tbody tr th {\n",
              "        vertical-align: top;\n",
              "    }\n",
              "\n",
              "    .dataframe thead th {\n",
              "        text-align: right;\n",
              "    }\n",
              "</style>\n",
              "<table border=\"1\" class=\"dataframe\">\n",
              "  <thead>\n",
              "    <tr style=\"text-align: right;\">\n",
              "      <th></th>\n",
              "      <th>date</th>\n",
              "      <th>campaign</th>\n",
              "      <th>adgroup</th>\n",
              "      <th>ad</th>\n",
              "      <th>impressions</th>\n",
              "      <th>clicks</th>\n",
              "      <th>cost</th>\n",
              "      <th>conversions</th>\n",
              "      <th>revenue</th>\n",
              "      <th>ctr</th>\n",
              "      <th>cpc</th>\n",
              "      <th>cpa</th>\n",
              "    </tr>\n",
              "  </thead>\n",
              "  <tbody>\n",
              "    <tr>\n",
              "      <th>0</th>\n",
              "      <td>01-08-2020</td>\n",
              "      <td>campaign 1</td>\n",
              "      <td>adgroup 1</td>\n",
              "      <td>ad 1</td>\n",
              "      <td>24</td>\n",
              "      <td>6</td>\n",
              "      <td>0.08</td>\n",
              "      <td>0</td>\n",
              "      <td>0.00</td>\n",
              "      <td>0.250000</td>\n",
              "      <td>0.013333</td>\n",
              "      <td>NaN</td>\n",
              "    </tr>\n",
              "    <tr>\n",
              "      <th>1</th>\n",
              "      <td>01-08-2020</td>\n",
              "      <td>campaign 1</td>\n",
              "      <td>adgroup 2</td>\n",
              "      <td>ad 1</td>\n",
              "      <td>1</td>\n",
              "      <td>0</td>\n",
              "      <td>0.00</td>\n",
              "      <td>0</td>\n",
              "      <td>0.00</td>\n",
              "      <td>0.000000</td>\n",
              "      <td>NaN</td>\n",
              "      <td>NaN</td>\n",
              "    </tr>\n",
              "    <tr>\n",
              "      <th>2</th>\n",
              "      <td>01-08-2020</td>\n",
              "      <td>campaign 1</td>\n",
              "      <td>adgroup 3</td>\n",
              "      <td>ad 1</td>\n",
              "      <td>13</td>\n",
              "      <td>4</td>\n",
              "      <td>0.04</td>\n",
              "      <td>0</td>\n",
              "      <td>0.00</td>\n",
              "      <td>0.307692</td>\n",
              "      <td>0.010000</td>\n",
              "      <td>NaN</td>\n",
              "    </tr>\n",
              "    <tr>\n",
              "      <th>3</th>\n",
              "      <td>01-08-2020</td>\n",
              "      <td>campaign 1</td>\n",
              "      <td>adgroup 4</td>\n",
              "      <td>ad 1</td>\n",
              "      <td>5</td>\n",
              "      <td>4</td>\n",
              "      <td>0.08</td>\n",
              "      <td>0</td>\n",
              "      <td>0.00</td>\n",
              "      <td>0.800000</td>\n",
              "      <td>0.020000</td>\n",
              "      <td>NaN</td>\n",
              "    </tr>\n",
              "    <tr>\n",
              "      <th>4</th>\n",
              "      <td>01-08-2020</td>\n",
              "      <td>campaign 1</td>\n",
              "      <td>adgroup 1</td>\n",
              "      <td>ad 2</td>\n",
              "      <td>247</td>\n",
              "      <td>126</td>\n",
              "      <td>1.29</td>\n",
              "      <td>4</td>\n",
              "      <td>925.71</td>\n",
              "      <td>0.510121</td>\n",
              "      <td>0.010238</td>\n",
              "      <td>0.3225</td>\n",
              "    </tr>\n",
              "    <tr>\n",
              "      <th>...</th>\n",
              "      <td>...</td>\n",
              "      <td>...</td>\n",
              "      <td>...</td>\n",
              "      <td>...</td>\n",
              "      <td>...</td>\n",
              "      <td>...</td>\n",
              "      <td>...</td>\n",
              "      <td>...</td>\n",
              "      <td>...</td>\n",
              "      <td>...</td>\n",
              "      <td>...</td>\n",
              "      <td>...</td>\n",
              "    </tr>\n",
              "    <tr>\n",
              "      <th>4566</th>\n",
              "      <td>28-02-2021</td>\n",
              "      <td>campaign 1</td>\n",
              "      <td>adgroup 3</td>\n",
              "      <td>ad 55</td>\n",
              "      <td>19</td>\n",
              "      <td>6</td>\n",
              "      <td>0.07</td>\n",
              "      <td>0</td>\n",
              "      <td>0.00</td>\n",
              "      <td>0.315789</td>\n",
              "      <td>0.011667</td>\n",
              "      <td>NaN</td>\n",
              "    </tr>\n",
              "    <tr>\n",
              "      <th>4567</th>\n",
              "      <td>28-02-2021</td>\n",
              "      <td>campaign 1</td>\n",
              "      <td>adgroup 4</td>\n",
              "      <td>ad 55</td>\n",
              "      <td>1</td>\n",
              "      <td>0</td>\n",
              "      <td>0.00</td>\n",
              "      <td>0</td>\n",
              "      <td>0.00</td>\n",
              "      <td>0.000000</td>\n",
              "      <td>NaN</td>\n",
              "      <td>NaN</td>\n",
              "    </tr>\n",
              "    <tr>\n",
              "      <th>4568</th>\n",
              "      <td>28-02-2021</td>\n",
              "      <td>campaign 1</td>\n",
              "      <td>adgroup 3</td>\n",
              "      <td>ad 56</td>\n",
              "      <td>16</td>\n",
              "      <td>8</td>\n",
              "      <td>0.12</td>\n",
              "      <td>1</td>\n",
              "      <td>93.20</td>\n",
              "      <td>0.500000</td>\n",
              "      <td>0.015000</td>\n",
              "      <td>0.1200</td>\n",
              "    </tr>\n",
              "    <tr>\n",
              "      <th>4569</th>\n",
              "      <td>28-02-2021</td>\n",
              "      <td>campaign 1</td>\n",
              "      <td>adgroup 1</td>\n",
              "      <td>ad 56</td>\n",
              "      <td>37</td>\n",
              "      <td>13</td>\n",
              "      <td>0.23</td>\n",
              "      <td>0</td>\n",
              "      <td>0.00</td>\n",
              "      <td>0.351351</td>\n",
              "      <td>0.017692</td>\n",
              "      <td>NaN</td>\n",
              "    </tr>\n",
              "    <tr>\n",
              "      <th>4570</th>\n",
              "      <td>28-02-2021</td>\n",
              "      <td>campaign 1</td>\n",
              "      <td>adgroup 1</td>\n",
              "      <td>ad 55</td>\n",
              "      <td>19</td>\n",
              "      <td>10</td>\n",
              "      <td>0.14</td>\n",
              "      <td>0</td>\n",
              "      <td>0.00</td>\n",
              "      <td>0.526316</td>\n",
              "      <td>0.014000</td>\n",
              "      <td>NaN</td>\n",
              "    </tr>\n",
              "  </tbody>\n",
              "</table>\n",
              "<p>4571 rows × 12 columns</p>\n",
              "</div>"
            ],
            "text/plain": [
              "            date    campaign    adgroup  ...       ctr       cpc     cpa\n",
              "0     01-08-2020  campaign 1  adgroup 1  ...  0.250000  0.013333     NaN\n",
              "1     01-08-2020  campaign 1  adgroup 2  ...  0.000000       NaN     NaN\n",
              "2     01-08-2020  campaign 1  adgroup 3  ...  0.307692  0.010000     NaN\n",
              "3     01-08-2020  campaign 1  adgroup 4  ...  0.800000  0.020000     NaN\n",
              "4     01-08-2020  campaign 1  adgroup 1  ...  0.510121  0.010238  0.3225\n",
              "...          ...         ...        ...  ...       ...       ...     ...\n",
              "4566  28-02-2021  campaign 1  adgroup 3  ...  0.315789  0.011667     NaN\n",
              "4567  28-02-2021  campaign 1  adgroup 4  ...  0.000000       NaN     NaN\n",
              "4568  28-02-2021  campaign 1  adgroup 3  ...  0.500000  0.015000  0.1200\n",
              "4569  28-02-2021  campaign 1  adgroup 1  ...  0.351351  0.017692     NaN\n",
              "4570  28-02-2021  campaign 1  adgroup 1  ...  0.526316  0.014000     NaN\n",
              "\n",
              "[4571 rows x 12 columns]"
            ]
          },
          "metadata": {
            "tags": []
          },
          "execution_count": 88
        }
      ]
    },
    {
      "cell_type": "code",
      "metadata": {
        "colab": {
          "base_uri": "https://localhost:8080/"
        },
        "id": "5UJOyL8vieFK",
        "outputId": "63373501-933e-4e76-b8f8-e8c3969983a4"
      },
      "source": [
        "df = df.fillna(df.median())\n",
        "df.isnull().sum()"
      ],
      "execution_count": null,
      "outputs": [
        {
          "output_type": "execute_result",
          "data": {
            "text/plain": [
              "date           0\n",
              "campaign       0\n",
              "adgroup        0\n",
              "ad             0\n",
              "impressions    0\n",
              "clicks         0\n",
              "cost           0\n",
              "conversions    0\n",
              "revenue        0\n",
              "ctr            0\n",
              "cpc            0\n",
              "cpa            0\n",
              "z_clicks       0\n",
              "z_imp          0\n",
              "z_ctr          0\n",
              "z_cpc          0\n",
              "z_cost         0\n",
              "z_conv         0\n",
              "dtype: int64"
            ]
          },
          "metadata": {
            "tags": []
          },
          "execution_count": 38
        }
      ]
    },
    {
      "cell_type": "code",
      "metadata": {
        "colab": {
          "base_uri": "https://localhost:8080/",
          "height": 17
        },
        "id": "s5WejnTjMnm3",
        "outputId": "f0b7e9c6-4650-4e45-d593-36b97a0ee94b"
      },
      "source": [
        "from sklearn.linear_model import LogisticRegression\n",
        "from sklearn.preprocessing import LabelEncoder\n",
        "from sklearn.preprocessing import StandardScaler\n",
        "from sklearn.svm import SVC\n",
        "from sklearn import svm\n",
        "from sklearn.svm import SVR\n",
        "from sklearn import linear_model\n",
        "svr = SVR()\n",
        "\n",
        "#scaler = StandardScaler()\n",
        "#X_train_scaled = scaler.fit_transform(X1)\n",
        "#X_test_scaled = scaler.transform(test_X)\n",
        "#model3 = LogisticRegression(random_state=1)\n",
        "#model3.fit(X,y)\n",
        "\n",
        "model4 = SVR(C=100.0)\n",
        "model4.fit(X_train_scaled,y)\n",
        "\n",
        "##model5.fit(X,y)\n",
        "ans2 = model4.predict(X_test_scaled)\n",
        "result2 = pd.DataFrame(ans2)\n",
        "#res = pd.DataFrame(predi#ctions)## #preditcions are nothing but the final predictions of your model on input features of your new unseen test data\n",
        "\n",
        "result2.columns = ['revenue']\n",
        "\n",
        "result2.revenue = (1/result2.revenue)-1\n",
        "# To download the csv file locally\n",
        "from google.colab import files\n",
        "result2.to_csv('prediction_results.csv')         \n",
        "files.download('prediction_results.csv')"
      ],
      "execution_count": null,
      "outputs": [
        {
          "output_type": "display_data",
          "data": {
            "application/javascript": [
              "\n",
              "    async function download(id, filename, size) {\n",
              "      if (!google.colab.kernel.accessAllowed) {\n",
              "        return;\n",
              "      }\n",
              "      const div = document.createElement('div');\n",
              "      const label = document.createElement('label');\n",
              "      label.textContent = `Downloading \"${filename}\": `;\n",
              "      div.appendChild(label);\n",
              "      const progress = document.createElement('progress');\n",
              "      progress.max = size;\n",
              "      div.appendChild(progress);\n",
              "      document.body.appendChild(div);\n",
              "\n",
              "      const buffers = [];\n",
              "      let downloaded = 0;\n",
              "\n",
              "      const channel = await google.colab.kernel.comms.open(id);\n",
              "      // Send a message to notify the kernel that we're ready.\n",
              "      channel.send({})\n",
              "\n",
              "      for await (const message of channel.messages) {\n",
              "        // Send a message to notify the kernel that we're ready.\n",
              "        channel.send({})\n",
              "        if (message.buffers) {\n",
              "          for (const buffer of message.buffers) {\n",
              "            buffers.push(buffer);\n",
              "            downloaded += buffer.byteLength;\n",
              "            progress.value = downloaded;\n",
              "          }\n",
              "        }\n",
              "      }\n",
              "      const blob = new Blob(buffers, {type: 'application/binary'});\n",
              "      const a = document.createElement('a');\n",
              "      a.href = window.URL.createObjectURL(blob);\n",
              "      a.download = filename;\n",
              "      div.appendChild(a);\n",
              "      a.click();\n",
              "      div.remove();\n",
              "    }\n",
              "  "
            ],
            "text/plain": [
              "<IPython.core.display.Javascript object>"
            ]
          },
          "metadata": {
            "tags": []
          }
        },
        {
          "output_type": "display_data",
          "data": {
            "application/javascript": [
              "download(\"download_15d34452-fe2c-4bde-9f7d-43ed0682a9a9\", \"prediction_results.csv\", 7273)"
            ],
            "text/plain": [
              "<IPython.core.display.Javascript object>"
            ]
          },
          "metadata": {
            "tags": []
          }
        }
      ]
    },
    {
      "cell_type": "code",
      "metadata": {
        "colab": {
          "base_uri": "https://localhost:8080/"
        },
        "id": "cxmUowubEQM1",
        "outputId": "725b0560-84aa-4a2c-88a5-e76a7378b5b8"
      },
      "source": [
        "X_train_scaled\n"
      ],
      "execution_count": null,
      "outputs": [
        {
          "output_type": "execute_result",
          "data": {
            "text/plain": [
              "array([[-0.34607183, -0.37283444, -0.18947246, ..., -0.43488609,\n",
              "        -0.75944098, -0.4807078 ],\n",
              "       [-0.46204131, -0.43274221, -0.19504348, ...,  2.29945272,\n",
              "        -0.75944098, -0.4807078 ],\n",
              "       [-0.40153549, -0.3928037 , -0.19225797, ..., -0.43488609,\n",
              "         1.31675802, -0.4807078 ],\n",
              "       ...,\n",
              "       [-0.38640904, -0.35286519, -0.18668696, ..., -0.43488609,\n",
              "         1.31675802, -0.4807078 ],\n",
              "       [-0.28052386, -0.30294205, -0.17902682, ..., -0.43488609,\n",
              "        -0.75944098, -0.4807078 ],\n",
              "       [-0.37128259, -0.33289593, -0.18529421, ..., -0.43488609,\n",
              "        -0.75944098, -0.4807078 ]])"
            ]
          },
          "metadata": {
            "tags": []
          },
          "execution_count": 74
        }
      ]
    },
    {
      "cell_type": "code",
      "metadata": {
        "colab": {
          "base_uri": "https://localhost:8080/",
          "height": 17
        },
        "id": "l4NCRPRiUQ8u",
        "outputId": "c5429b0c-90fb-47b3-cfe9-037c482c777e"
      },
      "source": [
        "# Regression Example With Boston Dataset: Standardized and Wider\n",
        "from pandas import read_csv\n",
        "from keras.models import Sequential\n",
        "from keras.layers import Dense\n",
        "from keras.wrappers.scikit_learn import KerasRegressor\n",
        "from sklearn.model_selection import cross_val_score\n",
        "from sklearn.model_selection import KFold\n",
        "from sklearn.preprocessing import StandardScaler\n",
        "from sklearn.pipeline import Pipeline\n",
        "# load dataset\n",
        "dataframe = read_csv(\"housing.csv\", delim_whitespace=True, header=None)\n",
        "dataset = dataframe.values\n",
        "# split into input (X) and output (Y) variables\n",
        "X = dataset[:,0:13]\n",
        "Y = dataset[:,13]\n",
        "# define wider model\n",
        "def wider_model():\n",
        "\t# create model\n",
        "\tmodel = Sequential()\n",
        "\tmodel.add(Dense(20, input_dim=8, kernel_initializer='normal', activation='relu'))\n",
        "\tmodel.add(Dense(1, kernel_initializer='normal'))\n",
        "\t# Compile model\n",
        "\tmodel.compile(loss='mean_squared_error', optimizer='adam')\n",
        "\treturn model\n",
        "# evaluate model with standardized dataset\n",
        "estimators = []\n",
        "estimators.append(('standardize', StandardScaler()))\n",
        "estimators.append(('mlp', KerasRegressor(build_fn=wider_model, epochs=100, batch_size=5, verbose=0)))\n",
        "pipeline = Pipeline(estimators)\n",
        "kfold = KFold(n_splits=10)\n",
        "results = cross_val_score(pipeline, X, Y, cv=kfold)\n",
        "print(\"Wider: %.2f (%.2f) MSE\" % (results.mean(), results.std()))\n",
        "ans3 = model6.predict(test_X2)\n",
        "result3 = pd.DataFrame(ans3)\n",
        "#res = pd.DataFrame(predi#ctions)## #preditcions are nothing but the final predictions of your model on input features of your new unseen test data\n",
        "\n",
        "result3.columns = ['revenue']\n",
        "\n",
        "# To download the csv file locally\n",
        "from google.colab import files\n",
        "result3.to_csv('prediction_results.csv')         \n",
        "files.download('prediction_results.csv')\n"
      ],
      "execution_count": null,
      "outputs": [
        {
          "output_type": "display_data",
          "data": {
            "application/javascript": [
              "\n",
              "    async function download(id, filename, size) {\n",
              "      if (!google.colab.kernel.accessAllowed) {\n",
              "        return;\n",
              "      }\n",
              "      const div = document.createElement('div');\n",
              "      const label = document.createElement('label');\n",
              "      label.textContent = `Downloading \"${filename}\": `;\n",
              "      div.appendChild(label);\n",
              "      const progress = document.createElement('progress');\n",
              "      progress.max = size;\n",
              "      div.appendChild(progress);\n",
              "      document.body.appendChild(div);\n",
              "\n",
              "      const buffers = [];\n",
              "      let downloaded = 0;\n",
              "\n",
              "      const channel = await google.colab.kernel.comms.open(id);\n",
              "      // Send a message to notify the kernel that we're ready.\n",
              "      channel.send({})\n",
              "\n",
              "      for await (const message of channel.messages) {\n",
              "        // Send a message to notify the kernel that we're ready.\n",
              "        channel.send({})\n",
              "        if (message.buffers) {\n",
              "          for (const buffer of message.buffers) {\n",
              "            buffers.push(buffer);\n",
              "            downloaded += buffer.byteLength;\n",
              "            progress.value = downloaded;\n",
              "          }\n",
              "        }\n",
              "      }\n",
              "      const blob = new Blob(buffers, {type: 'application/binary'});\n",
              "      const a = document.createElement('a');\n",
              "      a.href = window.URL.createObjectURL(blob);\n",
              "      a.download = filename;\n",
              "      div.appendChild(a);\n",
              "      a.click();\n",
              "      div.remove();\n",
              "    }\n",
              "  "
            ],
            "text/plain": [
              "<IPython.core.display.Javascript object>"
            ]
          },
          "metadata": {
            "tags": []
          }
        },
        {
          "output_type": "display_data",
          "data": {
            "application/javascript": [
              "download(\"download_93d1a6cf-82ba-4dd1-9550-0b9eeb01184d\", \"prediction_results.csv\", 7241)"
            ],
            "text/plain": [
              "<IPython.core.display.Javascript object>"
            ]
          },
          "metadata": {
            "tags": []
          }
        }
      ]
    },
    {
      "cell_type": "code",
      "metadata": {
        "colab": {
          "base_uri": "https://localhost:8080/"
        },
        "id": "Tfhcz9O5gRu5",
        "outputId": "03e86453-3f1d-496e-adb3-a982df0867cf"
      },
      "source": [
        "import keras\n",
        "from __future__ import absolute_import\n",
        "from __future__ import division\n",
        "from __future__ import print_function\n",
        "\n",
        "import itertools\n",
        "\n",
        "import pandas as pd\n",
        "import numpy as np\n",
        "import matplotlib.pyplot as plt\n",
        "from pylab import rcParams\n",
        "import matplotlib\n",
        "\n",
        "from sklearn.model_selection import train_test_split\n",
        "from sklearn.preprocessing import MinMaxScaler\n",
        "\n",
        "import numpy as np\n",
        "from keras.models import Sequential\n",
        "from keras.layers import Dense\n",
        "from keras.wrappers.scikit_learn import KerasRegressor\n",
        "\n",
        "seed = 7\n",
        "np.random.seed(seed)\n",
        "\n",
        "# Model\n",
        "model = Sequential()\n",
        "model.add(Dense(200, input_dim=8, kernel_initializer='normal', activation='relu'))\n",
        "model.add(Dense(100, kernel_initializer='normal', activation='relu'))\n",
        "model.add(Dense(50, kernel_initializer='normal', activation='relu'))\n",
        "model.add(Dense(25, kernel_initializer='normal', activation='relu'))\n",
        "model.add(Dense(1, kernel_initializer='normal'))\n",
        "# Compile model\n",
        "model.compile(loss='mean_squared_error', optimizer=keras.optimizers.Adadelta())\n",
        "\n",
        "#feature_cols = training_set[FEATURES]\n",
        "#labels = training_set[LABEL].values\n",
        "\n",
        "model.fit(np.array(X_train_scaled), np.array(y), epochs=100, batch_size=10)"
      ],
      "execution_count": null,
      "outputs": [
        {
          "output_type": "stream",
          "text": [
            "Epoch 1/100\n",
            "458/458 [==============================] - 1s 1ms/step - loss: 1029481.6398\n",
            "Epoch 2/100\n",
            "458/458 [==============================] - 1s 1ms/step - loss: 1151508.1302\n",
            "Epoch 3/100\n",
            "458/458 [==============================] - 1s 1ms/step - loss: 1123789.8294\n",
            "Epoch 4/100\n",
            "458/458 [==============================] - 1s 1ms/step - loss: 1259388.8523\n",
            "Epoch 5/100\n",
            "458/458 [==============================] - 1s 1ms/step - loss: 1271247.1988\n",
            "Epoch 6/100\n",
            "458/458 [==============================] - 1s 1ms/step - loss: 1318925.7430\n",
            "Epoch 7/100\n",
            "458/458 [==============================] - 1s 1ms/step - loss: 1190785.1156\n",
            "Epoch 8/100\n",
            "458/458 [==============================] - 1s 1ms/step - loss: 1657331.1578\n",
            "Epoch 9/100\n",
            "458/458 [==============================] - 1s 1ms/step - loss: 1232464.4195\n",
            "Epoch 10/100\n",
            "458/458 [==============================] - 1s 1ms/step - loss: 849530.5034\n",
            "Epoch 11/100\n",
            "458/458 [==============================] - 1s 1ms/step - loss: 1321213.6195\n",
            "Epoch 12/100\n",
            "458/458 [==============================] - 1s 1ms/step - loss: 1303396.9085\n",
            "Epoch 13/100\n",
            "458/458 [==============================] - 1s 1ms/step - loss: 1222267.0239\n",
            "Epoch 14/100\n",
            "458/458 [==============================] - 1s 1ms/step - loss: 1332219.5709\n",
            "Epoch 15/100\n",
            "458/458 [==============================] - 1s 1ms/step - loss: 1162357.6876\n",
            "Epoch 16/100\n",
            "458/458 [==============================] - 1s 1ms/step - loss: 1337787.7411\n",
            "Epoch 17/100\n",
            "458/458 [==============================] - 1s 1ms/step - loss: 1553231.0855\n",
            "Epoch 18/100\n",
            "458/458 [==============================] - 1s 1ms/step - loss: 1045996.7146\n",
            "Epoch 19/100\n",
            "458/458 [==============================] - 1s 1ms/step - loss: 1283448.6312\n",
            "Epoch 20/100\n",
            "458/458 [==============================] - 1s 1ms/step - loss: 1193275.1583\n",
            "Epoch 21/100\n",
            "458/458 [==============================] - 1s 1ms/step - loss: 1112478.2627\n",
            "Epoch 22/100\n",
            "458/458 [==============================] - 1s 1ms/step - loss: 1117358.4376\n",
            "Epoch 23/100\n",
            "458/458 [==============================] - 1s 1ms/step - loss: 1112927.5998\n",
            "Epoch 24/100\n",
            "458/458 [==============================] - 1s 1ms/step - loss: 1208297.0971\n",
            "Epoch 25/100\n",
            "458/458 [==============================] - 1s 1ms/step - loss: 1357739.0072\n",
            "Epoch 26/100\n",
            "458/458 [==============================] - 1s 1ms/step - loss: 1427366.2510\n",
            "Epoch 27/100\n",
            "458/458 [==============================] - 1s 1ms/step - loss: 1583054.5648\n",
            "Epoch 28/100\n",
            "458/458 [==============================] - 1s 1ms/step - loss: 1199638.6966\n",
            "Epoch 29/100\n",
            "458/458 [==============================] - 1s 1ms/step - loss: 829589.2617\n",
            "Epoch 30/100\n",
            "458/458 [==============================] - 1s 1ms/step - loss: 1184802.8892\n",
            "Epoch 31/100\n",
            "458/458 [==============================] - 1s 1ms/step - loss: 1121042.9232\n",
            "Epoch 32/100\n",
            "458/458 [==============================] - 1s 1ms/step - loss: 1301668.9918\n",
            "Epoch 33/100\n",
            "458/458 [==============================] - 1s 1ms/step - loss: 1531363.2523\n",
            "Epoch 34/100\n",
            "458/458 [==============================] - 1s 1ms/step - loss: 1195547.5808\n",
            "Epoch 35/100\n",
            "458/458 [==============================] - 1s 1ms/step - loss: 1226181.4563\n",
            "Epoch 36/100\n",
            "458/458 [==============================] - 1s 1ms/step - loss: 1337608.8498\n",
            "Epoch 37/100\n",
            "458/458 [==============================] - 1s 1ms/step - loss: 903414.7454\n",
            "Epoch 38/100\n",
            "458/458 [==============================] - 1s 1ms/step - loss: 1119532.2389\n",
            "Epoch 39/100\n",
            "458/458 [==============================] - 1s 1ms/step - loss: 1340122.0182\n",
            "Epoch 40/100\n",
            "458/458 [==============================] - 1s 1ms/step - loss: 1244813.3775\n",
            "Epoch 41/100\n",
            "458/458 [==============================] - 1s 1ms/step - loss: 1090760.7617\n",
            "Epoch 42/100\n",
            "458/458 [==============================] - 1s 1ms/step - loss: 880099.1127\n",
            "Epoch 43/100\n",
            "458/458 [==============================] - 1s 1ms/step - loss: 1126048.1728\n",
            "Epoch 44/100\n",
            "458/458 [==============================] - 1s 1ms/step - loss: 1261489.2342\n",
            "Epoch 45/100\n",
            "458/458 [==============================] - 1s 1ms/step - loss: 1286310.7378\n",
            "Epoch 46/100\n",
            "458/458 [==============================] - 1s 1ms/step - loss: 1448062.8021\n",
            "Epoch 47/100\n",
            "458/458 [==============================] - 1s 1ms/step - loss: 1642765.7905\n",
            "Epoch 48/100\n",
            "458/458 [==============================] - 1s 1ms/step - loss: 1303298.5821\n",
            "Epoch 49/100\n",
            "458/458 [==============================] - 1s 1ms/step - loss: 905608.0535\n",
            "Epoch 50/100\n",
            "458/458 [==============================] - 1s 1ms/step - loss: 1647750.6548\n",
            "Epoch 51/100\n",
            "458/458 [==============================] - 1s 1ms/step - loss: 1175769.1153\n",
            "Epoch 52/100\n",
            "458/458 [==============================] - 1s 1ms/step - loss: 1162091.8870\n",
            "Epoch 53/100\n",
            "458/458 [==============================] - 1s 1ms/step - loss: 1381673.8334\n",
            "Epoch 54/100\n",
            "458/458 [==============================] - 1s 1ms/step - loss: 1209851.3806\n",
            "Epoch 55/100\n",
            "458/458 [==============================] - 1s 1ms/step - loss: 1458434.6630\n",
            "Epoch 56/100\n",
            "458/458 [==============================] - 1s 1ms/step - loss: 1288184.6612\n",
            "Epoch 57/100\n",
            "458/458 [==============================] - 1s 1ms/step - loss: 1697085.9902\n",
            "Epoch 58/100\n",
            "458/458 [==============================] - 1s 1ms/step - loss: 1238007.3838\n",
            "Epoch 59/100\n",
            "458/458 [==============================] - 1s 1ms/step - loss: 1099243.1998\n",
            "Epoch 60/100\n",
            "458/458 [==============================] - 1s 1ms/step - loss: 1434748.6612\n",
            "Epoch 61/100\n",
            "458/458 [==============================] - 1s 1ms/step - loss: 1698843.8171\n",
            "Epoch 62/100\n",
            "458/458 [==============================] - 1s 1ms/step - loss: 982964.0202\n",
            "Epoch 63/100\n",
            "458/458 [==============================] - 1s 1ms/step - loss: 1809562.3630\n",
            "Epoch 64/100\n",
            "458/458 [==============================] - 1s 1ms/step - loss: 983394.4926\n",
            "Epoch 65/100\n",
            "458/458 [==============================] - 1s 1ms/step - loss: 1189570.7426\n",
            "Epoch 66/100\n",
            "458/458 [==============================] - 1s 1ms/step - loss: 1252203.2181\n",
            "Epoch 67/100\n",
            "458/458 [==============================] - 1s 1ms/step - loss: 1344208.1938\n",
            "Epoch 68/100\n",
            "458/458 [==============================] - 1s 1ms/step - loss: 1022503.0159\n",
            "Epoch 69/100\n",
            "458/458 [==============================] - 1s 1ms/step - loss: 1146889.5220\n",
            "Epoch 70/100\n",
            "458/458 [==============================] - 1s 1ms/step - loss: 1172957.9431\n",
            "Epoch 71/100\n",
            "458/458 [==============================] - 1s 1ms/step - loss: 1358164.0663\n",
            "Epoch 72/100\n",
            "458/458 [==============================] - 1s 1ms/step - loss: 1178286.1944\n",
            "Epoch 73/100\n",
            "458/458 [==============================] - 1s 1ms/step - loss: 797351.6788\n",
            "Epoch 74/100\n",
            "458/458 [==============================] - 1s 1ms/step - loss: 870711.0567\n",
            "Epoch 75/100\n",
            "458/458 [==============================] - 1s 1ms/step - loss: 1077937.4679\n",
            "Epoch 76/100\n",
            "458/458 [==============================] - 1s 1ms/step - loss: 1142564.8993\n",
            "Epoch 77/100\n",
            "458/458 [==============================] - 1s 1ms/step - loss: 1720714.3158\n",
            "Epoch 78/100\n",
            "458/458 [==============================] - 1s 1ms/step - loss: 1091972.6849\n",
            "Epoch 79/100\n",
            "458/458 [==============================] - 1s 1ms/step - loss: 1249882.9803\n",
            "Epoch 80/100\n",
            "458/458 [==============================] - 1s 1ms/step - loss: 1619692.4279\n",
            "Epoch 81/100\n",
            "458/458 [==============================] - 1s 1ms/step - loss: 1130883.2328\n",
            "Epoch 82/100\n",
            "458/458 [==============================] - 1s 1ms/step - loss: 1193675.0326\n",
            "Epoch 83/100\n",
            "458/458 [==============================] - 1s 1ms/step - loss: 1317014.0718\n",
            "Epoch 84/100\n",
            "458/458 [==============================] - 1s 1ms/step - loss: 1454044.3918\n",
            "Epoch 85/100\n",
            "458/458 [==============================] - 1s 1ms/step - loss: 1317922.6770\n",
            "Epoch 86/100\n",
            "458/458 [==============================] - 1s 1ms/step - loss: 1376017.1385\n",
            "Epoch 87/100\n",
            "458/458 [==============================] - 1s 1ms/step - loss: 1480950.8636\n",
            "Epoch 88/100\n",
            "458/458 [==============================] - 1s 1ms/step - loss: 1566848.0665\n",
            "Epoch 89/100\n",
            "458/458 [==============================] - 1s 1ms/step - loss: 1302359.8128\n",
            "Epoch 90/100\n",
            "458/458 [==============================] - 1s 1ms/step - loss: 1341259.7725\n",
            "Epoch 91/100\n",
            "458/458 [==============================] - 1s 1ms/step - loss: 1486266.5694\n",
            "Epoch 92/100\n",
            "458/458 [==============================] - 1s 1ms/step - loss: 1361800.1096\n",
            "Epoch 93/100\n",
            "458/458 [==============================] - 1s 1ms/step - loss: 861966.6680\n",
            "Epoch 94/100\n",
            "458/458 [==============================] - 1s 1ms/step - loss: 862324.8880\n",
            "Epoch 95/100\n",
            "458/458 [==============================] - 1s 1ms/step - loss: 1225863.7550\n",
            "Epoch 96/100\n",
            "458/458 [==============================] - 1s 1ms/step - loss: 1159048.8136\n",
            "Epoch 97/100\n",
            "458/458 [==============================] - 1s 1ms/step - loss: 1842932.7296\n",
            "Epoch 98/100\n",
            "458/458 [==============================] - 1s 1ms/step - loss: 1085297.2386\n",
            "Epoch 99/100\n",
            "458/458 [==============================] - 1s 1ms/step - loss: 1439330.0338\n",
            "Epoch 100/100\n",
            "458/458 [==============================] - 1s 1ms/step - loss: 1525721.6886\n"
          ],
          "name": "stdout"
        },
        {
          "output_type": "execute_result",
          "data": {
            "text/plain": [
              "<keras.callbacks.History at 0x7feb3ec00090>"
            ]
          },
          "metadata": {
            "tags": []
          },
          "execution_count": 25
        }
      ]
    },
    {
      "cell_type": "code",
      "metadata": {
        "colab": {
          "base_uri": "https://localhost:8080/",
          "height": 17
        },
        "id": "XPlHanmCia8h",
        "outputId": "0c4674c9-05a2-4b98-c4f6-be07632926f8"
      },
      "source": [
        "ans6 = model.predict(np.array(X_test_scaled))\n",
        "result6 = pd.DataFrame(ans6)\n",
        "#res = pd.DataFrame(predi#ctions)## #preditcions are nothing but the final predictions of your model on input features of your new unseen test data\n",
        "\n",
        "result6.columns = ['revenue']\n",
        "\n",
        "# To download the csv file locally\n",
        "from google.colab import files\n",
        "result6.to_csv('prediction_results.csv')         \n",
        "files.download('prediction_results.csv')"
      ],
      "execution_count": null,
      "outputs": [
        {
          "output_type": "display_data",
          "data": {
            "application/javascript": [
              "\n",
              "    async function download(id, filename, size) {\n",
              "      if (!google.colab.kernel.accessAllowed) {\n",
              "        return;\n",
              "      }\n",
              "      const div = document.createElement('div');\n",
              "      const label = document.createElement('label');\n",
              "      label.textContent = `Downloading \"${filename}\": `;\n",
              "      div.appendChild(label);\n",
              "      const progress = document.createElement('progress');\n",
              "      progress.max = size;\n",
              "      div.appendChild(progress);\n",
              "      document.body.appendChild(div);\n",
              "\n",
              "      const buffers = [];\n",
              "      let downloaded = 0;\n",
              "\n",
              "      const channel = await google.colab.kernel.comms.open(id);\n",
              "      // Send a message to notify the kernel that we're ready.\n",
              "      channel.send({})\n",
              "\n",
              "      for await (const message of channel.messages) {\n",
              "        // Send a message to notify the kernel that we're ready.\n",
              "        channel.send({})\n",
              "        if (message.buffers) {\n",
              "          for (const buffer of message.buffers) {\n",
              "            buffers.push(buffer);\n",
              "            downloaded += buffer.byteLength;\n",
              "            progress.value = downloaded;\n",
              "          }\n",
              "        }\n",
              "      }\n",
              "      const blob = new Blob(buffers, {type: 'application/binary'});\n",
              "      const a = document.createElement('a');\n",
              "      a.href = window.URL.createObjectURL(blob);\n",
              "      a.download = filename;\n",
              "      div.appendChild(a);\n",
              "      a.click();\n",
              "      div.remove();\n",
              "    }\n",
              "  "
            ],
            "text/plain": [
              "<IPython.core.display.Javascript object>"
            ]
          },
          "metadata": {
            "tags": []
          }
        },
        {
          "output_type": "display_data",
          "data": {
            "application/javascript": [
              "download(\"download_f4d094bb-bdff-47d0-9ea1-19fe92ec49b7\", \"prediction_results.csv\", 4839)"
            ],
            "text/plain": [
              "<IPython.core.display.Javascript object>"
            ]
          },
          "metadata": {
            "tags": []
          }
        }
      ]
    },
    {
      "cell_type": "code",
      "metadata": {
        "id": "3Lc1R6xIjx14"
      },
      "source": [
        ""
      ],
      "execution_count": null,
      "outputs": []
    }
  ]
}