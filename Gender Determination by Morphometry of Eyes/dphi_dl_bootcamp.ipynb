{
  "nbformat": 4,
  "nbformat_minor": 0,
  "metadata": {
    "colab": {
      "name": "dphi_dl_bootcamp.ipynb",
      "provenance": [],
      "collapsed_sections": []
    },
    "kernelspec": {
      "name": "python3",
      "display_name": "Python 3"
    },
    "language_info": {
      "name": "python"
    }
  },
  "cells": [
    {
      "cell_type": "code",
      "metadata": {
        "id": "k_z6-ZbtAo6d"
      },
      "source": [
        "from google_drive_downloader import GoogleDriveDownloader as gdd\n",
        "\n",
        "gdd.download_file_from_google_drive(file_id='1f7uslI-ZHidriQFZR966_aILjlkgDN76',\n",
        "dest_path='content/eye_gender_data.zip',\n",
        "unzip=True)"
      ],
      "execution_count": null,
      "outputs": []
    },
    {
      "cell_type": "code",
      "metadata": {
        "colab": {
          "base_uri": "https://localhost:8080/"
        },
        "id": "TAfrqHIDqTuk",
        "outputId": "296ee8d4-e3f6-424f-c209-55558c8fdd2d"
      },
      "source": [
        "# to prevent unnecessary warnings\n",
        "import warnings\n",
        "warnings.simplefilter(action='ignore', category=FutureWarning)\n",
        "\n",
        "# TensorFlow and tf.keras\n",
        "import tensorflow as tf\n",
        "\n",
        "# Helper libraries\n",
        "import numpy as np\n",
        "import matplotlib.pyplot as plt\n",
        "import os\n",
        "import subprocess\n",
        "import keras\n",
        "from keras.models import Sequential\n",
        "from keras.layers import Dense, Dropout, Flatten\n",
        "from keras.layers import Conv2D, MaxPooling2D\n",
        "#from keras.utils import to_categorical\n",
        "from keras.preprocessing.image import ImageDataGenerator, load_img\n",
        "import cv2\n",
        "from PIL import Image\n",
        "import json\n",
        "import requests\n",
        "from tqdm import tqdm\n",
        "import random\n",
        "\n",
        "print(tf.__version__)"
      ],
      "execution_count": null,
      "outputs": [
        {
          "output_type": "stream",
          "text": [
            "2.5.0\n"
          ],
          "name": "stdout"
        }
      ]
    },
    {
      "cell_type": "code",
      "metadata": {
        "id": "OaV9zI7eAqxJ"
      },
      "source": [
        "import pandas as pd # Data analysis and manipultion tool\n",
        "import numpy as np # Fundamental package for linear algebra and multidimensional arrays\n",
        "import tensorflow as tf # Deep Learning Tool\n",
        "import os # OS module in Python provides a way of using operating system dependent functionality\n",
        "import cv2 # Library for image processing\n",
        "from sklearn.model_selection import train_test_split # For splitting the data into train and validation set\n",
        "from sklearn.metrics import f1_score"
      ],
      "execution_count": null,
      "outputs": []
    },
    {
      "cell_type": "code",
      "metadata": {
        "colab": {
          "base_uri": "https://localhost:8080/",
          "height": 203
        },
        "id": "Bi5yMYK3Xwnp",
        "outputId": "e4d189b5-540c-459a-d8e6-e752a91af1e0"
      },
      "source": [
        "labels = pd.read_csv(\"/content/content/eye_gender_data/Training_set.csv\") # loading the labels\n",
        "\n",
        "labels.head()"
      ],
      "execution_count": null,
      "outputs": [
        {
          "output_type": "execute_result",
          "data": {
            "text/html": [
              "<div>\n",
              "<style scoped>\n",
              "    .dataframe tbody tr th:only-of-type {\n",
              "        vertical-align: middle;\n",
              "    }\n",
              "\n",
              "    .dataframe tbody tr th {\n",
              "        vertical-align: top;\n",
              "    }\n",
              "\n",
              "    .dataframe thead th {\n",
              "        text-align: right;\n",
              "    }\n",
              "</style>\n",
              "<table border=\"1\" class=\"dataframe\">\n",
              "  <thead>\n",
              "    <tr style=\"text-align: right;\">\n",
              "      <th></th>\n",
              "      <th>filename</th>\n",
              "      <th>label</th>\n",
              "    </tr>\n",
              "  </thead>\n",
              "  <tbody>\n",
              "    <tr>\n",
              "      <th>0</th>\n",
              "      <td>Image_1.jpg</td>\n",
              "      <td>male</td>\n",
              "    </tr>\n",
              "    <tr>\n",
              "      <th>1</th>\n",
              "      <td>Image_2.jpg</td>\n",
              "      <td>female</td>\n",
              "    </tr>\n",
              "    <tr>\n",
              "      <th>2</th>\n",
              "      <td>Image_3.jpg</td>\n",
              "      <td>female</td>\n",
              "    </tr>\n",
              "    <tr>\n",
              "      <th>3</th>\n",
              "      <td>Image_4.jpg</td>\n",
              "      <td>female</td>\n",
              "    </tr>\n",
              "    <tr>\n",
              "      <th>4</th>\n",
              "      <td>Image_5.jpg</td>\n",
              "      <td>male</td>\n",
              "    </tr>\n",
              "  </tbody>\n",
              "</table>\n",
              "</div>"
            ],
            "text/plain": [
              "      filename   label\n",
              "0  Image_1.jpg    male\n",
              "1  Image_2.jpg  female\n",
              "2  Image_3.jpg  female\n",
              "3  Image_4.jpg  female\n",
              "4  Image_5.jpg    male"
            ]
          },
          "metadata": {
            "tags": []
          },
          "execution_count": 79
        }
      ]
    },
    {
      "cell_type": "code",
      "metadata": {
        "id": "o361OtWQYCrf"
      },
      "source": [
        "file_paths = [[fname, '/content/content/eye_gender_data/train/' + fname] for fname in labels['filename']]\n"
      ],
      "execution_count": null,
      "outputs": []
    },
    {
      "cell_type": "code",
      "metadata": {
        "colab": {
          "base_uri": "https://localhost:8080/",
          "height": 203
        },
        "id": "XHgye-8lYJIa",
        "outputId": "84e3e43c-27fc-45a0-b8e5-04d5d0df1754"
      },
      "source": [
        "#converting the file_paths of images into a dataframe\n",
        "\n",
        "images = pd.DataFrame(file_paths, columns=['filename', 'filepaths'])\n",
        "\n",
        "images.head()"
      ],
      "execution_count": null,
      "outputs": [
        {
          "output_type": "execute_result",
          "data": {
            "text/html": [
              "<div>\n",
              "<style scoped>\n",
              "    .dataframe tbody tr th:only-of-type {\n",
              "        vertical-align: middle;\n",
              "    }\n",
              "\n",
              "    .dataframe tbody tr th {\n",
              "        vertical-align: top;\n",
              "    }\n",
              "\n",
              "    .dataframe thead th {\n",
              "        text-align: right;\n",
              "    }\n",
              "</style>\n",
              "<table border=\"1\" class=\"dataframe\">\n",
              "  <thead>\n",
              "    <tr style=\"text-align: right;\">\n",
              "      <th></th>\n",
              "      <th>filename</th>\n",
              "      <th>filepaths</th>\n",
              "    </tr>\n",
              "  </thead>\n",
              "  <tbody>\n",
              "    <tr>\n",
              "      <th>0</th>\n",
              "      <td>Image_1.jpg</td>\n",
              "      <td>/content/content/eye_gender_data/train/Image_1...</td>\n",
              "    </tr>\n",
              "    <tr>\n",
              "      <th>1</th>\n",
              "      <td>Image_2.jpg</td>\n",
              "      <td>/content/content/eye_gender_data/train/Image_2...</td>\n",
              "    </tr>\n",
              "    <tr>\n",
              "      <th>2</th>\n",
              "      <td>Image_3.jpg</td>\n",
              "      <td>/content/content/eye_gender_data/train/Image_3...</td>\n",
              "    </tr>\n",
              "    <tr>\n",
              "      <th>3</th>\n",
              "      <td>Image_4.jpg</td>\n",
              "      <td>/content/content/eye_gender_data/train/Image_4...</td>\n",
              "    </tr>\n",
              "    <tr>\n",
              "      <th>4</th>\n",
              "      <td>Image_5.jpg</td>\n",
              "      <td>/content/content/eye_gender_data/train/Image_5...</td>\n",
              "    </tr>\n",
              "  </tbody>\n",
              "</table>\n",
              "</div>"
            ],
            "text/plain": [
              "      filename                                          filepaths\n",
              "0  Image_1.jpg  /content/content/eye_gender_data/train/Image_1...\n",
              "1  Image_2.jpg  /content/content/eye_gender_data/train/Image_2...\n",
              "2  Image_3.jpg  /content/content/eye_gender_data/train/Image_3...\n",
              "3  Image_4.jpg  /content/content/eye_gender_data/train/Image_4...\n",
              "4  Image_5.jpg  /content/content/eye_gender_data/train/Image_5..."
            ]
          },
          "metadata": {
            "tags": []
          },
          "execution_count": 81
        }
      ]
    },
    {
      "cell_type": "code",
      "metadata": {
        "colab": {
          "base_uri": "https://localhost:8080/",
          "height": 203
        },
        "id": "4qpmTv1WYS9X",
        "outputId": "f7767126-9a18-4bbc-b386-03b2f026c778"
      },
      "source": [
        "# connecting labels with corresponding images\n",
        "\n",
        "train_data = pd.merge(images,labels,how='inner', on='filename')\n",
        "train_data.head()"
      ],
      "execution_count": null,
      "outputs": [
        {
          "output_type": "execute_result",
          "data": {
            "text/html": [
              "<div>\n",
              "<style scoped>\n",
              "    .dataframe tbody tr th:only-of-type {\n",
              "        vertical-align: middle;\n",
              "    }\n",
              "\n",
              "    .dataframe tbody tr th {\n",
              "        vertical-align: top;\n",
              "    }\n",
              "\n",
              "    .dataframe thead th {\n",
              "        text-align: right;\n",
              "    }\n",
              "</style>\n",
              "<table border=\"1\" class=\"dataframe\">\n",
              "  <thead>\n",
              "    <tr style=\"text-align: right;\">\n",
              "      <th></th>\n",
              "      <th>filename</th>\n",
              "      <th>filepaths</th>\n",
              "      <th>label</th>\n",
              "    </tr>\n",
              "  </thead>\n",
              "  <tbody>\n",
              "    <tr>\n",
              "      <th>0</th>\n",
              "      <td>Image_1.jpg</td>\n",
              "      <td>/content/content/eye_gender_data/train/Image_1...</td>\n",
              "      <td>male</td>\n",
              "    </tr>\n",
              "    <tr>\n",
              "      <th>1</th>\n",
              "      <td>Image_2.jpg</td>\n",
              "      <td>/content/content/eye_gender_data/train/Image_2...</td>\n",
              "      <td>female</td>\n",
              "    </tr>\n",
              "    <tr>\n",
              "      <th>2</th>\n",
              "      <td>Image_3.jpg</td>\n",
              "      <td>/content/content/eye_gender_data/train/Image_3...</td>\n",
              "      <td>female</td>\n",
              "    </tr>\n",
              "    <tr>\n",
              "      <th>3</th>\n",
              "      <td>Image_4.jpg</td>\n",
              "      <td>/content/content/eye_gender_data/train/Image_4...</td>\n",
              "      <td>female</td>\n",
              "    </tr>\n",
              "    <tr>\n",
              "      <th>4</th>\n",
              "      <td>Image_5.jpg</td>\n",
              "      <td>/content/content/eye_gender_data/train/Image_5...</td>\n",
              "      <td>male</td>\n",
              "    </tr>\n",
              "  </tbody>\n",
              "</table>\n",
              "</div>"
            ],
            "text/plain": [
              "      filename                                          filepaths   label\n",
              "0  Image_1.jpg  /content/content/eye_gender_data/train/Image_1...    male\n",
              "1  Image_2.jpg  /content/content/eye_gender_data/train/Image_2...  female\n",
              "2  Image_3.jpg  /content/content/eye_gender_data/train/Image_3...  female\n",
              "3  Image_4.jpg  /content/content/eye_gender_data/train/Image_4...  female\n",
              "4  Image_5.jpg  /content/content/eye_gender_data/train/Image_5...    male"
            ]
          },
          "metadata": {
            "tags": []
          },
          "execution_count": 82
        }
      ]
    },
    {
      "cell_type": "code",
      "metadata": {
        "colab": {
          "base_uri": "https://localhost:8080/",
          "height": 203
        },
        "id": "Si8fn07gYgjx",
        "outputId": "327d3386-8a4e-4e20-ef1b-4b7d6aa7d120"
      },
      "source": [
        "# label encoding of categorical variables\n",
        "\n",
        "for i in range(train_data.shape[0]):\n",
        "  if train_data.label[i] == 'male':\n",
        "    train_data.label[i]=1\n",
        "  else:\n",
        "    train_data.label[i]=0\n",
        "\n",
        "train_data.tail()"
      ],
      "execution_count": null,
      "outputs": [
        {
          "output_type": "execute_result",
          "data": {
            "text/html": [
              "<div>\n",
              "<style scoped>\n",
              "    .dataframe tbody tr th:only-of-type {\n",
              "        vertical-align: middle;\n",
              "    }\n",
              "\n",
              "    .dataframe tbody tr th {\n",
              "        vertical-align: top;\n",
              "    }\n",
              "\n",
              "    .dataframe thead th {\n",
              "        text-align: right;\n",
              "    }\n",
              "</style>\n",
              "<table border=\"1\" class=\"dataframe\">\n",
              "  <thead>\n",
              "    <tr style=\"text-align: right;\">\n",
              "      <th></th>\n",
              "      <th>filename</th>\n",
              "      <th>filepaths</th>\n",
              "      <th>label</th>\n",
              "    </tr>\n",
              "  </thead>\n",
              "  <tbody>\n",
              "    <tr>\n",
              "      <th>9215</th>\n",
              "      <td>Image_9216.jpg</td>\n",
              "      <td>/content/content/eye_gender_data/train/Image_9...</td>\n",
              "      <td>1</td>\n",
              "    </tr>\n",
              "    <tr>\n",
              "      <th>9216</th>\n",
              "      <td>Image_9217.jpg</td>\n",
              "      <td>/content/content/eye_gender_data/train/Image_9...</td>\n",
              "      <td>1</td>\n",
              "    </tr>\n",
              "    <tr>\n",
              "      <th>9217</th>\n",
              "      <td>Image_9218.jpg</td>\n",
              "      <td>/content/content/eye_gender_data/train/Image_9...</td>\n",
              "      <td>1</td>\n",
              "    </tr>\n",
              "    <tr>\n",
              "      <th>9218</th>\n",
              "      <td>Image_9219.jpg</td>\n",
              "      <td>/content/content/eye_gender_data/train/Image_9...</td>\n",
              "      <td>1</td>\n",
              "    </tr>\n",
              "    <tr>\n",
              "      <th>9219</th>\n",
              "      <td>Image_9220.jpg</td>\n",
              "      <td>/content/content/eye_gender_data/train/Image_9...</td>\n",
              "      <td>0</td>\n",
              "    </tr>\n",
              "  </tbody>\n",
              "</table>\n",
              "</div>"
            ],
            "text/plain": [
              "            filename                                          filepaths label\n",
              "9215  Image_9216.jpg  /content/content/eye_gender_data/train/Image_9...     1\n",
              "9216  Image_9217.jpg  /content/content/eye_gender_data/train/Image_9...     1\n",
              "9217  Image_9218.jpg  /content/content/eye_gender_data/train/Image_9...     1\n",
              "9218  Image_9219.jpg  /content/content/eye_gender_data/train/Image_9...     1\n",
              "9219  Image_9220.jpg  /content/content/eye_gender_data/train/Image_9...     0"
            ]
          },
          "metadata": {
            "tags": []
          },
          "execution_count": 83
        }
      ]
    },
    {
      "cell_type": "code",
      "metadata": {
        "colab": {
          "base_uri": "https://localhost:8080/",
          "height": 203
        },
        "id": "CiVNRaO1ZMH5",
        "outputId": "8262b42c-19a5-4f90-a456-08dc8dc6adbe"
      },
      "source": [
        "train_data.head()"
      ],
      "execution_count": null,
      "outputs": [
        {
          "output_type": "execute_result",
          "data": {
            "text/html": [
              "<div>\n",
              "<style scoped>\n",
              "    .dataframe tbody tr th:only-of-type {\n",
              "        vertical-align: middle;\n",
              "    }\n",
              "\n",
              "    .dataframe tbody tr th {\n",
              "        vertical-align: top;\n",
              "    }\n",
              "\n",
              "    .dataframe thead th {\n",
              "        text-align: right;\n",
              "    }\n",
              "</style>\n",
              "<table border=\"1\" class=\"dataframe\">\n",
              "  <thead>\n",
              "    <tr style=\"text-align: right;\">\n",
              "      <th></th>\n",
              "      <th>filename</th>\n",
              "      <th>filepaths</th>\n",
              "      <th>label</th>\n",
              "    </tr>\n",
              "  </thead>\n",
              "  <tbody>\n",
              "    <tr>\n",
              "      <th>0</th>\n",
              "      <td>Image_1.jpg</td>\n",
              "      <td>/content/content/eye_gender_data/train/Image_1...</td>\n",
              "      <td>1</td>\n",
              "    </tr>\n",
              "    <tr>\n",
              "      <th>1</th>\n",
              "      <td>Image_2.jpg</td>\n",
              "      <td>/content/content/eye_gender_data/train/Image_2...</td>\n",
              "      <td>0</td>\n",
              "    </tr>\n",
              "    <tr>\n",
              "      <th>2</th>\n",
              "      <td>Image_3.jpg</td>\n",
              "      <td>/content/content/eye_gender_data/train/Image_3...</td>\n",
              "      <td>0</td>\n",
              "    </tr>\n",
              "    <tr>\n",
              "      <th>3</th>\n",
              "      <td>Image_4.jpg</td>\n",
              "      <td>/content/content/eye_gender_data/train/Image_4...</td>\n",
              "      <td>0</td>\n",
              "    </tr>\n",
              "    <tr>\n",
              "      <th>4</th>\n",
              "      <td>Image_5.jpg</td>\n",
              "      <td>/content/content/eye_gender_data/train/Image_5...</td>\n",
              "      <td>1</td>\n",
              "    </tr>\n",
              "  </tbody>\n",
              "</table>\n",
              "</div>"
            ],
            "text/plain": [
              "      filename                                          filepaths label\n",
              "0  Image_1.jpg  /content/content/eye_gender_data/train/Image_1...     1\n",
              "1  Image_2.jpg  /content/content/eye_gender_data/train/Image_2...     0\n",
              "2  Image_3.jpg  /content/content/eye_gender_data/train/Image_3...     0\n",
              "3  Image_4.jpg  /content/content/eye_gender_data/train/Image_4...     0\n",
              "4  Image_5.jpg  /content/content/eye_gender_data/train/Image_5...     1"
            ]
          },
          "metadata": {
            "tags": []
          },
          "execution_count": 84
        }
      ]
    },
    {
      "cell_type": "code",
      "metadata": {
        "id": "V56B4SAiZhB9"
      },
      "source": [
        "#data preprocessing\n",
        "\n",
        "data = [] # initialize an empty numpy array\n",
        "image_size = 100 # image size taken is 100 here. one can take other size too\n",
        "\n",
        "for i in range(len(train_data)):\n",
        "  img_array = cv2.imread(train_data['filepaths'][i], cv2.IMREAD_GRAYSCALE) # converting the image to gray scale\n",
        "  new_img_array = cv2.resize(img_array, (image_size, image_size)) # resizing the image array\n",
        "  data.append([new_img_array, train_data['label'][i]])\n",
        "\n"
      ],
      "execution_count": null,
      "outputs": []
    },
    {
      "cell_type": "markdown",
      "metadata": {
        "id": "NDe7hiqbX7j3"
      },
      "source": [
        ""
      ]
    },
    {
      "cell_type": "code",
      "metadata": {
        "id": "OEUEdrAcCiKv",
        "colab": {
          "base_uri": "https://localhost:8080/"
        },
        "outputId": "bac8a807-fac0-4d57-a537-50dd88e2a2e8"
      },
      "source": [
        "#  image pixels of an image\n",
        "\n",
        "data[5]\n",
        "  "
      ],
      "execution_count": null,
      "outputs": [
        {
          "output_type": "execute_result",
          "data": {
            "text/plain": [
              "[array([[207, 207, 209, ..., 188, 189, 189],\n",
              "        [207, 207, 208, ..., 189, 189, 188],\n",
              "        [206, 207, 208, ..., 192, 189, 187],\n",
              "        ...,\n",
              "        [184, 184, 184, ..., 182, 183, 183],\n",
              "        [184, 184, 185, ..., 181, 180, 179],\n",
              "        [184, 184, 185, ..., 181, 178, 177]], dtype=uint8), 1]"
            ]
          },
          "metadata": {
            "tags": []
          },
          "execution_count": 86
        }
      ]
    },
    {
      "cell_type": "code",
      "metadata": {
        "id": "5H5pOb1IaLz-"
      },
      "source": [
        "# shuffle the data\n",
        "\n",
        "np.random.shuffle(data)"
      ],
      "execution_count": null,
      "outputs": []
    },
    {
      "cell_type": "code",
      "metadata": {
        "colab": {
          "base_uri": "https://localhost:8080/"
        },
        "id": "8i4ZznwPaiaw",
        "outputId": "bebea57d-7da7-44d2-b842-337d422e1bfe"
      },
      "source": [
        "data[0]"
      ],
      "execution_count": null,
      "outputs": [
        {
          "output_type": "execute_result",
          "data": {
            "text/plain": [
              "[array([[125, 123, 122, ..., 123, 127, 131],\n",
              "        [125, 124, 122, ..., 116, 121, 126],\n",
              "        [126, 124, 122, ..., 106, 111, 116],\n",
              "        ...,\n",
              "        [123, 123, 123, ..., 138, 138, 138],\n",
              "        [124, 124, 124, ..., 138, 137, 137],\n",
              "        [125, 125, 125, ..., 137, 137, 137]], dtype=uint8), 0]"
            ]
          },
          "metadata": {
            "tags": []
          },
          "execution_count": 88
        }
      ]
    },
    {
      "cell_type": "code",
      "metadata": {
        "colab": {
          "base_uri": "https://localhost:8080/"
        },
        "id": "6APMQf0kakci",
        "outputId": "c0b5b7db-3d8f-42f8-ca11-bb6684b06cd9"
      },
      "source": [
        "len(data)  #total no. of trainig datasets"
      ],
      "execution_count": null,
      "outputs": [
        {
          "output_type": "execute_result",
          "data": {
            "text/plain": [
              "9220"
            ]
          },
          "metadata": {
            "tags": []
          },
          "execution_count": 89
        }
      ]
    },
    {
      "cell_type": "code",
      "metadata": {
        "id": "kkp3auPyaR4x"
      },
      "source": [
        "# separate images and labels \n",
        "\n",
        "x,y=[],[]\n",
        "\n",
        "for image in data:\n",
        "  x.append(image[0])\n",
        "  y.append(image[1]) #appends gender label to corresponding images in x"
      ],
      "execution_count": null,
      "outputs": []
    },
    {
      "cell_type": "code",
      "metadata": {
        "colab": {
          "base_uri": "https://localhost:8080/"
        },
        "id": "Sr62lu5LbuXt",
        "outputId": "3e1b6163-ad1a-427a-96f3-66dcc2cb7d60"
      },
      "source": [
        "x[:5]"
      ],
      "execution_count": null,
      "outputs": [
        {
          "output_type": "execute_result",
          "data": {
            "text/plain": [
              "[array([[125, 123, 122, ..., 123, 127, 131],\n",
              "        [125, 124, 122, ..., 116, 121, 126],\n",
              "        [126, 124, 122, ..., 106, 111, 116],\n",
              "        ...,\n",
              "        [123, 123, 123, ..., 138, 138, 138],\n",
              "        [124, 124, 124, ..., 138, 137, 137],\n",
              "        [125, 125, 125, ..., 137, 137, 137]], dtype=uint8),\n",
              " array([[122, 119, 113, ..., 187, 184, 182],\n",
              "        [119, 116, 109, ..., 186, 183, 181],\n",
              "        [114, 111, 103, ..., 183, 180, 179],\n",
              "        ...,\n",
              "        [134, 135, 137, ..., 114, 113, 113],\n",
              "        [135, 136, 138, ..., 113, 113, 113],\n",
              "        [135, 136, 138, ..., 113, 113, 113]], dtype=uint8),\n",
              " array([[211, 211, 211, ..., 150, 157, 161],\n",
              "        [211, 211, 210, ..., 147, 154, 158],\n",
              "        [212, 211, 209, ..., 142, 149, 153],\n",
              "        ...,\n",
              "        [198, 198, 197, ..., 200, 199, 199],\n",
              "        [195, 195, 195, ..., 200, 199, 199],\n",
              "        [193, 193, 194, ..., 200, 199, 199]], dtype=uint8),\n",
              " array([[143, 138, 132, ..., 132, 131, 131],\n",
              "        [135, 133, 131, ..., 131, 131, 130],\n",
              "        [124, 126, 129, ..., 131, 130, 129],\n",
              "        ...,\n",
              "        [157, 154, 151, ..., 163, 161, 160],\n",
              "        [157, 155, 152, ..., 163, 161, 160],\n",
              "        [158, 156, 153, ..., 163, 161, 160]], dtype=uint8),\n",
              " array([[131, 129, 127, ..., 179, 180, 180],\n",
              "        [131, 129, 126, ..., 179, 179, 179],\n",
              "        [132, 129, 124, ..., 180, 178, 177],\n",
              "        ...,\n",
              "        [188, 187, 186, ..., 194, 194, 193],\n",
              "        [192, 191, 190, ..., 186, 180, 176],\n",
              "        [195, 194, 192, ..., 182, 172, 166]], dtype=uint8)]"
            ]
          },
          "metadata": {
            "tags": []
          },
          "execution_count": 91
        }
      ]
    },
    {
      "cell_type": "code",
      "metadata": {
        "colab": {
          "base_uri": "https://localhost:8080/"
        },
        "id": "hW9TKywNcGWB",
        "outputId": "9a9be0ab-ae67-4d95-af80-37353d72dfe0"
      },
      "source": [
        "y[:5]"
      ],
      "execution_count": null,
      "outputs": [
        {
          "output_type": "execute_result",
          "data": {
            "text/plain": [
              "[0, 1, 1, 1, 1]"
            ]
          },
          "metadata": {
            "tags": []
          },
          "execution_count": 92
        }
      ]
    },
    {
      "cell_type": "code",
      "metadata": {
        "id": "1yt9qFCJcIRu"
      },
      "source": [
        "# transforming x, y lists to numpy array\n",
        "\n",
        "x = np.array(x)\n",
        "y = np.array(y)"
      ],
      "execution_count": null,
      "outputs": []
    },
    {
      "cell_type": "code",
      "metadata": {
        "id": "ThOlZ57ZHJ8A"
      },
      "source": [
        "#normalizing the pixel value of train set\n",
        "x = x/255"
      ],
      "execution_count": null,
      "outputs": []
    },
    {
      "cell_type": "code",
      "metadata": {
        "colab": {
          "base_uri": "https://localhost:8080/"
        },
        "id": "-9w-a8KYcXM5",
        "outputId": "c319e8d1-13fd-47b6-9858-14918535ace6"
      },
      "source": [
        "np.unique(y, return_counts=True)\n",
        "# displaying unique males and females\n"
      ],
      "execution_count": null,
      "outputs": [
        {
          "output_type": "execute_result",
          "data": {
            "text/plain": [
              "(array([0., 1.]), array([4162, 5058]))"
            ]
          },
          "metadata": {
            "tags": []
          },
          "execution_count": 130
        }
      ]
    },
    {
      "cell_type": "code",
      "metadata": {
        "id": "q1ZQm8OYdwjc"
      },
      "source": [
        "# reshape x s.t. it has (100,100,1 -> {as: ht,width,greyscale}) as dimensions and rest dimension is corrected automatically\n",
        "\n",
        "x = x.reshape(-1,100,100,1)"
      ],
      "execution_count": null,
      "outputs": []
    },
    {
      "cell_type": "code",
      "metadata": {
        "id": "4M8DyEpeeUqW"
      },
      "source": [
        "#splitting data\n",
        "\n",
        "x_train,x_val,y_train,y_val = train_test_split(x,y,test_size=0.15, random_state=1)"
      ],
      "execution_count": null,
      "outputs": []
    },
    {
      "cell_type": "code",
      "metadata": {
        "id": "smZTnDQKelky"
      },
      "source": [
        "#model architecture CNN\n",
        "\n",
        "cnn = tf.keras.models.Sequential([\n",
        "tf.keras.layers.Conv2D(filters=32, kernel_size=(3, 3), activation='relu', input_shape=(100, 100, 1)),\n",
        "tf.keras.layers.MaxPooling2D((2, 2)),\n",
        "\n",
        "tf.keras.layers.Conv2D(filters=64, kernel_size=(3, 3), activation='relu'),\n",
        "tf.keras.layers.MaxPooling2D((2, 2)),\n",
        "\n",
        "# tf.keras.layers.Flatten(input_shape=(100, 100, 1)),\n",
        "tf.keras.layers.Flatten(),\n",
        "tf.keras.layers.Dense(64, activation='relu'),\n",
        "tf.keras.layers.Dense(131, activation='sigmoid')\n",
        "])"
      ],
      "execution_count": null,
      "outputs": []
    },
    {
      "cell_type": "code",
      "metadata": {
        "id": "1LstoJmxetPW"
      },
      "source": [
        "cnn.compile(optimizer = 'adam',\n",
        "            loss = 'sparse_categorical_crossentropy',\n",
        "            metrics = ['accuracy'])"
      ],
      "execution_count": null,
      "outputs": []
    },
    {
      "cell_type": "code",
      "metadata": {
        "colab": {
          "base_uri": "https://localhost:8080/"
        },
        "id": "1mjGYxXVrPm0",
        "outputId": "38693b66-e1d2-4af2-f2db-7628cd3300c3"
      },
      "source": [
        "cnn.summary()"
      ],
      "execution_count": null,
      "outputs": [
        {
          "output_type": "stream",
          "text": [
            "Model: \"sequential_3\"\n",
            "_________________________________________________________________\n",
            "Layer (type)                 Output Shape              Param #   \n",
            "=================================================================\n",
            "conv2d_7 (Conv2D)            (None, 98, 98, 32)        320       \n",
            "_________________________________________________________________\n",
            "max_pooling2d_7 (MaxPooling2 (None, 49, 49, 32)        0         \n",
            "_________________________________________________________________\n",
            "conv2d_8 (Conv2D)            (None, 47, 47, 64)        18496     \n",
            "_________________________________________________________________\n",
            "max_pooling2d_8 (MaxPooling2 (None, 23, 23, 64)        0         \n",
            "_________________________________________________________________\n",
            "flatten_3 (Flatten)          (None, 33856)             0         \n",
            "_________________________________________________________________\n",
            "dense_6 (Dense)              (None, 64)                2166848   \n",
            "_________________________________________________________________\n",
            "dense_7 (Dense)              (None, 131)               8515      \n",
            "=================================================================\n",
            "Total params: 2,194,179\n",
            "Trainable params: 2,194,179\n",
            "Non-trainable params: 0\n",
            "_________________________________________________________________\n"
          ],
          "name": "stdout"
        }
      ]
    },
    {
      "cell_type": "code",
      "metadata": {
        "colab": {
          "base_uri": "https://localhost:8080/"
        },
        "id": "rSeHWbsVe27k",
        "outputId": "6a6471f2-c6fa-4722-e257-e62d3f433d8c"
      },
      "source": [
        "cnn.fit(x_train,y_train,epochs=8,batch_size=1)"
      ],
      "execution_count": null,
      "outputs": [
        {
          "output_type": "stream",
          "text": [
            "Epoch 1/8\n",
            "7837/7837 [==============================] - 193s 25ms/step - loss: 0.5097 - accuracy: 0.7588\n",
            "Epoch 2/8\n",
            "7837/7837 [==============================] - 193s 25ms/step - loss: 0.3585 - accuracy: 0.8432\n",
            "Epoch 3/8\n",
            "7837/7837 [==============================] - 193s 25ms/step - loss: 0.2882 - accuracy: 0.8799\n",
            "Epoch 4/8\n",
            "7837/7837 [==============================] - 193s 25ms/step - loss: 0.2464 - accuracy: 0.8975\n",
            "Epoch 5/8\n",
            "7837/7837 [==============================] - 193s 25ms/step - loss: 0.2099 - accuracy: 0.9146\n",
            "Epoch 6/8\n",
            "7837/7837 [==============================] - 194s 25ms/step - loss: 0.1749 - accuracy: 0.9315\n",
            "Epoch 7/8\n",
            "7837/7837 [==============================] - 193s 25ms/step - loss: 0.1472 - accuracy: 0.9408\n",
            "Epoch 8/8\n",
            "7837/7837 [==============================] - 194s 25ms/step - loss: 0.1202 - accuracy: 0.9537\n"
          ],
          "name": "stdout"
        },
        {
          "output_type": "execute_result",
          "data": {
            "text/plain": [
              "<tensorflow.python.keras.callbacks.History at 0x7efb82ba8bd0>"
            ]
          },
          "metadata": {
            "tags": []
          },
          "execution_count": 136
        }
      ]
    },
    {
      "cell_type": "code",
      "metadata": {
        "colab": {
          "base_uri": "https://localhost:8080/"
        },
        "id": "y3a6TOFHe-Wl",
        "outputId": "7868c35e-da33-4a0c-cc8d-6f9976778214"
      },
      "source": [
        "#validate the output\n",
        "\n",
        "cnn.evaluate(x_val,y_val)"
      ],
      "execution_count": null,
      "outputs": [
        {
          "output_type": "stream",
          "text": [
            "44/44 [==============================] - 4s 92ms/step - loss: 0.3829 - accuracy: 0.8944\n"
          ],
          "name": "stdout"
        },
        {
          "output_type": "execute_result",
          "data": {
            "text/plain": [
              "[0.38288795948028564, 0.8944323658943176]"
            ]
          },
          "metadata": {
            "tags": []
          },
          "execution_count": 137
        }
      ]
    },
    {
      "cell_type": "code",
      "metadata": {
        "colab": {
          "base_uri": "https://localhost:8080/",
          "height": 203
        },
        "id": "hE7Hz4aAfNvB",
        "outputId": "2167d88e-379d-4324-d406-23f1a64faeaf"
      },
      "source": [
        "# predicting output on TEST dataset\n",
        "\n",
        "# loading test dataset\n",
        "\n",
        "test_image_order = pd.read_csv(\"/content/content/eye_gender_data/Testing_set.csv\")\n",
        "test_image_order.tail()"
      ],
      "execution_count": null,
      "outputs": [
        {
          "output_type": "execute_result",
          "data": {
            "text/html": [
              "<div>\n",
              "<style scoped>\n",
              "    .dataframe tbody tr th:only-of-type {\n",
              "        vertical-align: middle;\n",
              "    }\n",
              "\n",
              "    .dataframe tbody tr th {\n",
              "        vertical-align: top;\n",
              "    }\n",
              "\n",
              "    .dataframe thead th {\n",
              "        text-align: right;\n",
              "    }\n",
              "</style>\n",
              "<table border=\"1\" class=\"dataframe\">\n",
              "  <thead>\n",
              "    <tr style=\"text-align: right;\">\n",
              "      <th></th>\n",
              "      <th>filename</th>\n",
              "    </tr>\n",
              "  </thead>\n",
              "  <tbody>\n",
              "    <tr>\n",
              "      <th>2300</th>\n",
              "      <td>Image_2301.jpg</td>\n",
              "    </tr>\n",
              "    <tr>\n",
              "      <th>2301</th>\n",
              "      <td>Image_2302.jpg</td>\n",
              "    </tr>\n",
              "    <tr>\n",
              "      <th>2302</th>\n",
              "      <td>Image_2303.jpg</td>\n",
              "    </tr>\n",
              "    <tr>\n",
              "      <th>2303</th>\n",
              "      <td>Image_2304.jpg</td>\n",
              "    </tr>\n",
              "    <tr>\n",
              "      <th>2304</th>\n",
              "      <td>Image_2305.jpg</td>\n",
              "    </tr>\n",
              "  </tbody>\n",
              "</table>\n",
              "</div>"
            ],
            "text/plain": [
              "            filename\n",
              "2300  Image_2301.jpg\n",
              "2301  Image_2302.jpg\n",
              "2302  Image_2303.jpg\n",
              "2303  Image_2304.jpg\n",
              "2304  Image_2305.jpg"
            ]
          },
          "metadata": {
            "tags": []
          },
          "execution_count": 138
        }
      ]
    },
    {
      "cell_type": "code",
      "metadata": {
        "id": "ZbQttiPbgRrK"
      },
      "source": [
        "# obtaining test_images file path\n",
        "\n",
        "file_paths = [[fname, '/content/content/eye_gender_data/test/' + fname] for fname in test_image_order['filename']]\n"
      ],
      "execution_count": null,
      "outputs": []
    },
    {
      "cell_type": "code",
      "metadata": {
        "colab": {
          "base_uri": "https://localhost:8080/",
          "height": 203
        },
        "id": "sNzo6ZG-hZ4q",
        "outputId": "042229b3-ba27-43fa-a027-1cddc3f0ae7d"
      },
      "source": [
        "# converting the file_path into dataframe\n",
        "test_images = pd.DataFrame(file_paths, columns = ['filename','filepaths'])\n",
        "test_images.head()"
      ],
      "execution_count": null,
      "outputs": [
        {
          "output_type": "execute_result",
          "data": {
            "text/html": [
              "<div>\n",
              "<style scoped>\n",
              "    .dataframe tbody tr th:only-of-type {\n",
              "        vertical-align: middle;\n",
              "    }\n",
              "\n",
              "    .dataframe tbody tr th {\n",
              "        vertical-align: top;\n",
              "    }\n",
              "\n",
              "    .dataframe thead th {\n",
              "        text-align: right;\n",
              "    }\n",
              "</style>\n",
              "<table border=\"1\" class=\"dataframe\">\n",
              "  <thead>\n",
              "    <tr style=\"text-align: right;\">\n",
              "      <th></th>\n",
              "      <th>filename</th>\n",
              "      <th>filepaths</th>\n",
              "    </tr>\n",
              "  </thead>\n",
              "  <tbody>\n",
              "    <tr>\n",
              "      <th>0</th>\n",
              "      <td>Image_1.jpg</td>\n",
              "      <td>/content/content/eye_gender_data/test/Image_1.jpg</td>\n",
              "    </tr>\n",
              "    <tr>\n",
              "      <th>1</th>\n",
              "      <td>Image_2.jpg</td>\n",
              "      <td>/content/content/eye_gender_data/test/Image_2.jpg</td>\n",
              "    </tr>\n",
              "    <tr>\n",
              "      <th>2</th>\n",
              "      <td>Image_3.jpg</td>\n",
              "      <td>/content/content/eye_gender_data/test/Image_3.jpg</td>\n",
              "    </tr>\n",
              "    <tr>\n",
              "      <th>3</th>\n",
              "      <td>Image_4.jpg</td>\n",
              "      <td>/content/content/eye_gender_data/test/Image_4.jpg</td>\n",
              "    </tr>\n",
              "    <tr>\n",
              "      <th>4</th>\n",
              "      <td>Image_5.jpg</td>\n",
              "      <td>/content/content/eye_gender_data/test/Image_5.jpg</td>\n",
              "    </tr>\n",
              "  </tbody>\n",
              "</table>\n",
              "</div>"
            ],
            "text/plain": [
              "      filename                                          filepaths\n",
              "0  Image_1.jpg  /content/content/eye_gender_data/test/Image_1.jpg\n",
              "1  Image_2.jpg  /content/content/eye_gender_data/test/Image_2.jpg\n",
              "2  Image_3.jpg  /content/content/eye_gender_data/test/Image_3.jpg\n",
              "3  Image_4.jpg  /content/content/eye_gender_data/test/Image_4.jpg\n",
              "4  Image_5.jpg  /content/content/eye_gender_data/test/Image_5.jpg"
            ]
          },
          "metadata": {
            "tags": []
          },
          "execution_count": 140
        }
      ]
    },
    {
      "cell_type": "code",
      "metadata": {
        "id": "Gs28uCLLh3af"
      },
      "source": [
        "# data-preprocessing on test dataset\n",
        "\n",
        "test_data = [] #initializing an empty array\n",
        "image_size = 100 #setting img_size=100, although it is user-dependent\n",
        "\n",
        "for i in range(len(test_images)):\n",
        "  img_arr = cv2.imread(test_images['filepaths'][i], cv2.IMREAD_GRAYSCALE) #---> tranforming from rgb-> greyscale\n",
        "  new_img_arr = cv2.resize(img_arr, (image_size,image_size)) # resizing the images\n",
        "  test_data.append(new_img_arr)"
      ],
      "execution_count": null,
      "outputs": []
    },
    {
      "cell_type": "code",
      "metadata": {
        "id": "-1EiAgaDij9I"
      },
      "source": [
        "# converting test_data list of images into a numpy array\n",
        "\n",
        "test_data = np.array(test_data)\n"
      ],
      "execution_count": null,
      "outputs": []
    },
    {
      "cell_type": "code",
      "metadata": {
        "id": "qtbso41_isg0"
      },
      "source": [
        "#reshaping test_data\n",
        "\n",
        "test_data = test_data.reshape(-1,100,100,1)\n"
      ],
      "execution_count": null,
      "outputs": []
    },
    {
      "cell_type": "code",
      "metadata": {
        "colab": {
          "base_uri": "https://localhost:8080/"
        },
        "id": "OD4WeR0yi-X9",
        "outputId": "8fc30343-87a8-43a6-a077-3ae942c9404c"
      },
      "source": [
        "# making final predictions on test dataset\n",
        "\n",
        "prediction = cnn.predict(test_data)\n",
        "prediction"
      ],
      "execution_count": null,
      "outputs": [
        {
          "output_type": "execute_result",
          "data": {
            "text/plain": [
              "array([[0.0000000e+00, 1.0000000e+00, 0.0000000e+00, ..., 0.0000000e+00,\n",
              "        0.0000000e+00, 0.0000000e+00],\n",
              "       [9.9959469e-01, 1.0000000e+00, 0.0000000e+00, ..., 0.0000000e+00,\n",
              "        0.0000000e+00, 0.0000000e+00],\n",
              "       [1.0000000e+00, 1.0000000e+00, 0.0000000e+00, ..., 0.0000000e+00,\n",
              "        0.0000000e+00, 0.0000000e+00],\n",
              "       ...,\n",
              "       [0.0000000e+00, 1.0000000e+00, 0.0000000e+00, ..., 0.0000000e+00,\n",
              "        0.0000000e+00, 0.0000000e+00],\n",
              "       [0.0000000e+00, 1.0000000e+00, 0.0000000e+00, ..., 0.0000000e+00,\n",
              "        0.0000000e+00, 0.0000000e+00],\n",
              "       [1.2732488e-33, 1.0000000e+00, 0.0000000e+00, ..., 0.0000000e+00,\n",
              "        0.0000000e+00, 0.0000000e+00]], dtype=float32)"
            ]
          },
          "metadata": {
            "tags": []
          },
          "execution_count": 144
        }
      ]
    },
    {
      "cell_type": "code",
      "metadata": {
        "colab": {
          "base_uri": "https://localhost:8080/"
        },
        "id": "BgTRXZafjFXP",
        "outputId": "1f26a3de-b5ed-4b90-ee1e-9a3ff9d791f8"
      },
      "source": [
        "# displying the predicted values with PROBABILITY values\n",
        "\n",
        "prediction[0]"
      ],
      "execution_count": null,
      "outputs": [
        {
          "output_type": "execute_result",
          "data": {
            "text/plain": [
              "array([0., 1., 0., 0., 0., 0., 0., 0., 0., 0., 0., 0., 0., 0., 0., 0., 0.,\n",
              "       0., 0., 0., 0., 0., 0., 0., 0., 0., 0., 0., 0., 0., 0., 0., 0., 0.,\n",
              "       0., 0., 0., 0., 0., 0., 0., 0., 0., 0., 0., 0., 0., 0., 0., 0., 0.,\n",
              "       0., 0., 0., 0., 0., 0., 0., 0., 0., 0., 0., 0., 0., 0., 0., 0., 0.,\n",
              "       0., 0., 0., 0., 0., 0., 0., 0., 0., 0., 0., 0., 0., 0., 0., 0., 0.,\n",
              "       0., 0., 0., 0., 0., 0., 0., 0., 0., 0., 0., 0., 0., 0., 0., 0., 0.,\n",
              "       0., 0., 0., 0., 0., 0., 0., 0., 0., 0., 0., 0., 0., 0., 0., 0., 0.,\n",
              "       0., 0., 0., 0., 0., 0., 0., 0., 0., 0., 0., 0.], dtype=float32)"
            ]
          },
          "metadata": {
            "tags": []
          },
          "execution_count": 145
        }
      ]
    },
    {
      "cell_type": "code",
      "metadata": {
        "id": "DZwreRndjOBL"
      },
      "source": [
        "#converting above prob. values into respective gender_classes using np.argmax\n",
        "\n",
        "pred = []\n",
        "\n",
        "for val in prediction:\n",
        "  pred.append(np.argmax(val))"
      ],
      "execution_count": null,
      "outputs": []
    },
    {
      "cell_type": "code",
      "metadata": {
        "colab": {
          "base_uri": "https://localhost:8080/"
        },
        "id": "yPqZFR8Un3vf",
        "outputId": "e9e2e4f2-8b96-4039-b7cb-c40f0b18dc88"
      },
      "source": [
        "len(pred)"
      ],
      "execution_count": null,
      "outputs": [
        {
          "output_type": "execute_result",
          "data": {
            "text/plain": [
              "2305"
            ]
          },
          "metadata": {
            "tags": []
          },
          "execution_count": 147
        }
      ]
    },
    {
      "cell_type": "code",
      "metadata": {
        "id": "Mkd93C2Djfat"
      },
      "source": [
        "# inverse tranforming the values into categorical variable\n",
        "\n",
        "for i in range(len(pred)):\n",
        "  if pred[i] == 1:\n",
        "    pred[i]='male'\n",
        "  else:\n",
        "    pred[i]='female'\n",
        "\n"
      ],
      "execution_count": null,
      "outputs": []
    },
    {
      "cell_type": "code",
      "metadata": {
        "colab": {
          "base_uri": "https://localhost:8080/",
          "height": 17
        },
        "id": "ZOA6CPbsk6La",
        "outputId": "01bb8d75-a703-42c7-da2a-62185e1b7739"
      },
      "source": [
        "# downloading submission file\n",
        "\n",
        "res = pd.DataFrame({'filename': test_images['filename'], 'label': pred}) # prediction is nothing but the final predictions of your model on input features of your new unseen test data\n",
        "res.to_csv(\"submission.csv\", index = False)\n",
        "\n",
        "# To download the csv file locally\n",
        "from google.colab import files\n",
        "files.download('submission.csv')"
      ],
      "execution_count": null,
      "outputs": [
        {
          "output_type": "display_data",
          "data": {
            "application/javascript": [
              "\n",
              "    async function download(id, filename, size) {\n",
              "      if (!google.colab.kernel.accessAllowed) {\n",
              "        return;\n",
              "      }\n",
              "      const div = document.createElement('div');\n",
              "      const label = document.createElement('label');\n",
              "      label.textContent = `Downloading \"${filename}\": `;\n",
              "      div.appendChild(label);\n",
              "      const progress = document.createElement('progress');\n",
              "      progress.max = size;\n",
              "      div.appendChild(progress);\n",
              "      document.body.appendChild(div);\n",
              "\n",
              "      const buffers = [];\n",
              "      let downloaded = 0;\n",
              "\n",
              "      const channel = await google.colab.kernel.comms.open(id);\n",
              "      // Send a message to notify the kernel that we're ready.\n",
              "      channel.send({})\n",
              "\n",
              "      for await (const message of channel.messages) {\n",
              "        // Send a message to notify the kernel that we're ready.\n",
              "        channel.send({})\n",
              "        if (message.buffers) {\n",
              "          for (const buffer of message.buffers) {\n",
              "            buffers.push(buffer);\n",
              "            downloaded += buffer.byteLength;\n",
              "            progress.value = downloaded;\n",
              "          }\n",
              "        }\n",
              "      }\n",
              "      const blob = new Blob(buffers, {type: 'application/binary'});\n",
              "      const a = document.createElement('a');\n",
              "      a.href = window.URL.createObjectURL(blob);\n",
              "      a.download = filename;\n",
              "      div.appendChild(a);\n",
              "      a.click();\n",
              "      div.remove();\n",
              "    }\n",
              "  "
            ],
            "text/plain": [
              "<IPython.core.display.Javascript object>"
            ]
          },
          "metadata": {
            "tags": []
          }
        },
        {
          "output_type": "display_data",
          "data": {
            "application/javascript": [
              "download(\"download_d85a807f-c115-4f4c-a2bb-f0845d0c154e\", \"submission.csv\", 48268)"
            ],
            "text/plain": [
              "<IPython.core.display.Javascript object>"
            ]
          },
          "metadata": {
            "tags": []
          }
        }
      ]
    },
    {
      "cell_type": "code",
      "metadata": {
        "id": "QILxs7H_lESl"
      },
      "source": [
        ""
      ],
      "execution_count": null,
      "outputs": []
    },
    {
      "cell_type": "code",
      "metadata": {
        "id": "ECwp3tE2lEne"
      },
      "source": [
        ""
      ],
      "execution_count": null,
      "outputs": []
    },
    {
      "cell_type": "code",
      "metadata": {
        "colab": {
          "base_uri": "https://localhost:8080/"
        },
        "id": "Okwiahtn2PDl",
        "outputId": "ac4911b4-affe-4eeb-c618-e160139db1c1"
      },
      "source": [
        "img_array.shape"
      ],
      "execution_count": null,
      "outputs": [
        {
          "output_type": "execute_result",
          "data": {
            "text/plain": [
              "(63, 63)"
            ]
          },
          "metadata": {
            "tags": []
          },
          "execution_count": 16
        }
      ]
    },
    {
      "cell_type": "code",
      "metadata": {
        "colab": {
          "base_uri": "https://localhost:8080/",
          "height": 203
        },
        "id": "9PXCtwDUxATI",
        "outputId": "e2678241-bd7f-457b-cc51-4601d5cf3709"
      },
      "source": [
        "images.head()"
      ],
      "execution_count": null,
      "outputs": [
        {
          "output_type": "execute_result",
          "data": {
            "text/html": [
              "<div>\n",
              "<style scoped>\n",
              "    .dataframe tbody tr th:only-of-type {\n",
              "        vertical-align: middle;\n",
              "    }\n",
              "\n",
              "    .dataframe tbody tr th {\n",
              "        vertical-align: top;\n",
              "    }\n",
              "\n",
              "    .dataframe thead th {\n",
              "        text-align: right;\n",
              "    }\n",
              "</style>\n",
              "<table border=\"1\" class=\"dataframe\">\n",
              "  <thead>\n",
              "    <tr style=\"text-align: right;\">\n",
              "      <th></th>\n",
              "      <th>filename</th>\n",
              "      <th>filepaths</th>\n",
              "    </tr>\n",
              "  </thead>\n",
              "  <tbody>\n",
              "    <tr>\n",
              "      <th>0</th>\n",
              "      <td>Image_1.jpg</td>\n",
              "      <td>/content/content/eye_gender_data/train/Image_1...</td>\n",
              "    </tr>\n",
              "    <tr>\n",
              "      <th>1</th>\n",
              "      <td>Image_2.jpg</td>\n",
              "      <td>/content/content/eye_gender_data/train/Image_2...</td>\n",
              "    </tr>\n",
              "    <tr>\n",
              "      <th>2</th>\n",
              "      <td>Image_3.jpg</td>\n",
              "      <td>/content/content/eye_gender_data/train/Image_3...</td>\n",
              "    </tr>\n",
              "    <tr>\n",
              "      <th>3</th>\n",
              "      <td>Image_4.jpg</td>\n",
              "      <td>/content/content/eye_gender_data/train/Image_4...</td>\n",
              "    </tr>\n",
              "    <tr>\n",
              "      <th>4</th>\n",
              "      <td>Image_5.jpg</td>\n",
              "      <td>/content/content/eye_gender_data/train/Image_5...</td>\n",
              "    </tr>\n",
              "  </tbody>\n",
              "</table>\n",
              "</div>"
            ],
            "text/plain": [
              "      filename                                          filepaths\n",
              "0  Image_1.jpg  /content/content/eye_gender_data/train/Image_1...\n",
              "1  Image_2.jpg  /content/content/eye_gender_data/train/Image_2...\n",
              "2  Image_3.jpg  /content/content/eye_gender_data/train/Image_3...\n",
              "3  Image_4.jpg  /content/content/eye_gender_data/train/Image_4...\n",
              "4  Image_5.jpg  /content/content/eye_gender_data/train/Image_5..."
            ]
          },
          "metadata": {
            "tags": []
          },
          "execution_count": 17
        }
      ]
    },
    {
      "cell_type": "code",
      "metadata": {
        "id": "Ym13u9cxCmsr"
      },
      "source": [
        "for i in range(9220):\n",
        "  if labels.label[i] == 'male':\n",
        "    labels.label[i]=1\n",
        "  else:\n",
        "    labels.label[i] = 0"
      ],
      "execution_count": null,
      "outputs": []
    },
    {
      "cell_type": "code",
      "metadata": {
        "colab": {
          "base_uri": "https://localhost:8080/",
          "height": 203
        },
        "id": "_HuvBey4yiVH",
        "outputId": "11147227-c982-4192-baa1-bdaea30bf004"
      },
      "source": [
        "df = labels\n",
        "df.head()"
      ],
      "execution_count": null,
      "outputs": [
        {
          "output_type": "execute_result",
          "data": {
            "text/html": [
              "<div>\n",
              "<style scoped>\n",
              "    .dataframe tbody tr th:only-of-type {\n",
              "        vertical-align: middle;\n",
              "    }\n",
              "\n",
              "    .dataframe tbody tr th {\n",
              "        vertical-align: top;\n",
              "    }\n",
              "\n",
              "    .dataframe thead th {\n",
              "        text-align: right;\n",
              "    }\n",
              "</style>\n",
              "<table border=\"1\" class=\"dataframe\">\n",
              "  <thead>\n",
              "    <tr style=\"text-align: right;\">\n",
              "      <th></th>\n",
              "      <th>filename</th>\n",
              "      <th>label</th>\n",
              "    </tr>\n",
              "  </thead>\n",
              "  <tbody>\n",
              "    <tr>\n",
              "      <th>0</th>\n",
              "      <td>Image_1.jpg</td>\n",
              "      <td>1</td>\n",
              "    </tr>\n",
              "    <tr>\n",
              "      <th>1</th>\n",
              "      <td>Image_2.jpg</td>\n",
              "      <td>0</td>\n",
              "    </tr>\n",
              "    <tr>\n",
              "      <th>2</th>\n",
              "      <td>Image_3.jpg</td>\n",
              "      <td>0</td>\n",
              "    </tr>\n",
              "    <tr>\n",
              "      <th>3</th>\n",
              "      <td>Image_4.jpg</td>\n",
              "      <td>0</td>\n",
              "    </tr>\n",
              "    <tr>\n",
              "      <th>4</th>\n",
              "      <td>Image_5.jpg</td>\n",
              "      <td>1</td>\n",
              "    </tr>\n",
              "  </tbody>\n",
              "</table>\n",
              "</div>"
            ],
            "text/plain": [
              "      filename label\n",
              "0  Image_1.jpg     1\n",
              "1  Image_2.jpg     0\n",
              "2  Image_3.jpg     0\n",
              "3  Image_4.jpg     0\n",
              "4  Image_5.jpg     1"
            ]
          },
          "metadata": {
            "tags": []
          },
          "execution_count": 19
        }
      ]
    },
    {
      "cell_type": "code",
      "metadata": {
        "colab": {
          "base_uri": "https://localhost:8080/",
          "height": 203
        },
        "id": "Ur0NKL-3zFr5",
        "outputId": "50ecd42f-8f3e-4f93-f01a-9089e069d491"
      },
      "source": [
        "df = df.rename(columns={'filename':'file_n', 'label':'gender'})\n",
        "df.head()"
      ],
      "execution_count": null,
      "outputs": [
        {
          "output_type": "execute_result",
          "data": {
            "text/html": [
              "<div>\n",
              "<style scoped>\n",
              "    .dataframe tbody tr th:only-of-type {\n",
              "        vertical-align: middle;\n",
              "    }\n",
              "\n",
              "    .dataframe tbody tr th {\n",
              "        vertical-align: top;\n",
              "    }\n",
              "\n",
              "    .dataframe thead th {\n",
              "        text-align: right;\n",
              "    }\n",
              "</style>\n",
              "<table border=\"1\" class=\"dataframe\">\n",
              "  <thead>\n",
              "    <tr style=\"text-align: right;\">\n",
              "      <th></th>\n",
              "      <th>file_n</th>\n",
              "      <th>gender</th>\n",
              "    </tr>\n",
              "  </thead>\n",
              "  <tbody>\n",
              "    <tr>\n",
              "      <th>0</th>\n",
              "      <td>Image_1.jpg</td>\n",
              "      <td>1</td>\n",
              "    </tr>\n",
              "    <tr>\n",
              "      <th>1</th>\n",
              "      <td>Image_2.jpg</td>\n",
              "      <td>0</td>\n",
              "    </tr>\n",
              "    <tr>\n",
              "      <th>2</th>\n",
              "      <td>Image_3.jpg</td>\n",
              "      <td>0</td>\n",
              "    </tr>\n",
              "    <tr>\n",
              "      <th>3</th>\n",
              "      <td>Image_4.jpg</td>\n",
              "      <td>0</td>\n",
              "    </tr>\n",
              "    <tr>\n",
              "      <th>4</th>\n",
              "      <td>Image_5.jpg</td>\n",
              "      <td>1</td>\n",
              "    </tr>\n",
              "  </tbody>\n",
              "</table>\n",
              "</div>"
            ],
            "text/plain": [
              "        file_n gender\n",
              "0  Image_1.jpg      1\n",
              "1  Image_2.jpg      0\n",
              "2  Image_3.jpg      0\n",
              "3  Image_4.jpg      0\n",
              "4  Image_5.jpg      1"
            ]
          },
          "metadata": {
            "tags": []
          },
          "execution_count": 20
        }
      ]
    },
    {
      "cell_type": "code",
      "metadata": {
        "colab": {
          "base_uri": "https://localhost:8080/",
          "height": 279
        },
        "id": "pmEuAWy_zTQj",
        "outputId": "6eba5c7d-5e1e-421a-9951-03a1d485af37"
      },
      "source": [
        "df['gender'].value_counts().plot.bar()"
      ],
      "execution_count": null,
      "outputs": [
        {
          "output_type": "execute_result",
          "data": {
            "text/plain": [
              "<matplotlib.axes._subplots.AxesSubplot at 0x7fd68bca1390>"
            ]
          },
          "metadata": {
            "tags": []
          },
          "execution_count": 21
        },
        {
          "output_type": "display_data",
          "data": {
            "image/png": "[encoded data removed]",
            "text/plain": [
              "<Figure size 432x288 with 1 Axes>"
            ]
          },
          "metadata": {
            "tags": [],
            "needs_background": "light"
          }
        }
      ]
    },
    {
      "cell_type": "code",
      "metadata": {
        "colab": {
          "base_uri": "https://localhost:8080/",
          "height": 284
        },
        "id": "zrxbNIDTzgL7",
        "outputId": "f089ca12-ac03-4b7e-d8de-985ffac7f62d"
      },
      "source": [
        "path1 = images.filepaths[1]\n",
        "img1 = Image.open(path1)\n",
        "plt.imshow(img1)\n",
        "plt.show()\n",
        "print(img1.size)"
      ],
      "execution_count": null,
      "outputs": [
        {
          "output_type": "display_data",
          "data": {
            "image/png": "[encoded data removed]",
            "text/plain": [
              "<Figure size 432x288 with 1 Axes>"
            ]
          },
          "metadata": {
            "tags": [],
            "needs_background": "light"
          }
        },
        {
          "output_type": "stream",
          "text": [
            "(58, 58)\n"
          ],
          "name": "stdout"
        }
      ]
    },
    {
      "cell_type": "code",
      "metadata": {
        "colab": {
          "base_uri": "https://localhost:8080/"
        },
        "id": "sTzVvqpipMOj",
        "outputId": "9ba792e5-767f-42cd-bf60-33e72fe11031"
      },
      "source": [
        "x = np.array(data)"
      ],
      "execution_count": null,
      "outputs": [
        {
          "output_type": "stream",
          "text": [
            "/usr/local/lib/python3.7/dist-packages/ipykernel_launcher.py:1: VisibleDeprecationWarning: Creating an ndarray from ragged nested sequences (which is a list-or-tuple of lists-or-tuples-or ndarrays with different lengths or shapes) is deprecated. If you meant to do this, you must specify 'dtype=object' when creating the ndarray\n",
            "  \"\"\"Entry point for launching an IPython kernel.\n"
          ],
          "name": "stderr"
        }
      ]
    },
    {
      "cell_type": "code",
      "metadata": {
        "id": "xaorUxZnylSL"
      },
      "source": [
        "y = df.gender"
      ],
      "execution_count": null,
      "outputs": []
    },
    {
      "cell_type": "code",
      "metadata": {
        "id": "tK9eKem4fDaJ"
      },
      "source": [
        ""
      ],
      "execution_count": null,
      "outputs": []
    },
    {
      "cell_type": "code",
      "metadata": {
        "id": "EU6RvKe4rNYY"
      },
      "source": [
        ""
      ],
      "execution_count": null,
      "outputs": []
    }
  ]
}